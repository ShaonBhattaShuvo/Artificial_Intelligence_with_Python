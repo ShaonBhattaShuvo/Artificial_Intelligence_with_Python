{
 "cells": [
  {
   "cell_type": "markdown",
   "id": "6a4ad0b1",
   "metadata": {},
   "source": [
    "# PyTorch\n",
    "PyTorch is an open-source machine learning library used for applications such as computer vision and natural language processing. It is known for its flexibility, ease of use, and as a powerful tool for research. Developed by Facebook's AI Research lab, PyTorch provides two high-level features: Tensor computation (like NumPy) with strong GPU acceleration and deep neural networks built on a tape-based autograd system."
   ]
  },
  {
   "cell_type": "markdown",
   "id": "6f446399",
   "metadata": {},
   "source": [
    "## Tensors: Definition, Creation, and Operations\n",
    "A tensor is a multi-dimensional array, which is a fundamental data structure in PyTorch. Tensors are similar to NumPy’s ndarrays, but they can also be used on a GPU to accelerate computing."
   ]
  },
  {
   "cell_type": "code",
   "execution_count": 1,
   "id": "b0d80772",
   "metadata": {},
   "outputs": [
    {
     "data": {
      "text/plain": [
       "(tensor([ 2,  1, 10]),\n",
       " tensor([[0., 0., 0.],\n",
       "         [0., 0., 0.]]),\n",
       " tensor([[0.0308, 0.8045, 0.2274],\n",
       "         [0.0175, 0.5443, 0.7715],\n",
       "         [0.3311, 0.0619, 0.7561]]))"
      ]
     },
     "execution_count": 1,
     "metadata": {},
     "output_type": "execute_result"
    }
   ],
   "source": [
    "import torch\n",
    "\n",
    "# Create a tensor with default floating-point data type:\n",
    "x = torch.tensor([2, 1, 10])\n",
    "\n",
    "# Create a 2x3 tensor filled with zeros:\n",
    "y = torch.zeros(2, 3)\n",
    "\n",
    "# Create a tensor with random numbers:\n",
    "z = torch.rand(3, 3)\n",
    "x, y, z"
   ]
  },
  {
   "cell_type": "markdown",
   "id": "24d55425",
   "metadata": {},
   "source": [
    "### torch.rand(): \n",
    "Generates random numbers from a uniform distribution over the interval [0, 1). This means that each number within this range is equally likely to be generated. The numbers are spread evenly over the specified range, and we can expect the mean of the generated values to be close to 0.5."
   ]
  },
  {
   "cell_type": "markdown",
   "id": "2185aa94",
   "metadata": {},
   "source": [
    "### torch.randn(): \n",
    "Generates random numbers from a standard normal (Gaussian) distribution with mean 0 and variance 1. This distribution is also known as the bell curve due to its shape. In a normal distribution, values are more likely to be closer to the mean (0 in this case) and less likely to be found at the extremes."
   ]
  },
  {
   "cell_type": "code",
   "execution_count": 2,
   "id": "e0c27f44",
   "metadata": {},
   "outputs": [
    {
     "name": "stdout",
     "output_type": "stream",
     "text": [
      "Uniform random tensor: tensor([[0.7752, 0.9793, 0.5463],\n",
      "        [0.2259, 0.2002, 0.2173],\n",
      "        [0.8816, 0.8095, 0.9645]])\n",
      "Normal random tensor: tensor([[-0.2540,  0.0710, -1.7512],\n",
      "        [-1.0313, -0.7966,  1.2001],\n",
      "        [ 0.1442, -0.0855, -0.5359]])\n",
      "Inger ranodm tenosr: tensor([[2, 2, 1],\n",
      "        [2, 1, 1],\n",
      "        [1, 1, 2]])\n"
     ]
    }
   ],
   "source": [
    "import torch\n",
    "\n",
    "# Generates a tensor with random numbers from a uniform distribution\n",
    "uniform_random_tensor = torch.rand(3, 3)  # Numbers between 0 and 1\n",
    "\n",
    "# Generates a tensor with random numbers from a normal distribution\n",
    "normal_random_tensor = torch.randn(3, 3)  # Numbers with mean 0 and variance 1\n",
    "\n",
    "# Generate a tensor of integer numbers for 1 to 3(not included), size = 3*3\n",
    "integer_random_tensor = torch.randint(1, 3, (3, 3))\n",
    "\n",
    "print(\"Uniform random tensor:\", uniform_random_tensor)\n",
    "print(\"Normal random tensor:\", normal_random_tensor)\n",
    "print(\"Inger ranodm tenosr:\", integer_random_tensor)"
   ]
  },
  {
   "cell_type": "markdown",
   "id": "8fd8217f",
   "metadata": {},
   "source": [
    "### mean(axis = 0) vs mean(axis = 1) \n",
    "[same concept applicable  for other similar methods]"
   ]
  },
  {
   "cell_type": "code",
   "execution_count": 3,
   "id": "8f83bc29",
   "metadata": {},
   "outputs": [
    {
     "name": "stdout",
     "output_type": "stream",
     "text": [
      "Mean along axis 0 (average of columns): tensor([0.6276, 0.6630, 0.5760])\n",
      "Mean along axis 1 (average of rows): tensor([0.7669, 0.2145, 0.8852])\n"
     ]
    }
   ],
   "source": [
    "# Compute the mean along axis 0 (collapsing rows, averaging columns)\n",
    "mean_axis_0 = uniform_random_tensor.mean(axis=0)\n",
    "\n",
    "# Compute the mean along axis 1 (collapsing columns, averaging rows)\n",
    "mean_axis_1 = uniform_random_tensor.mean(axis=1)\n",
    "\n",
    "print(\"Mean along axis 0 (average of columns):\", mean_axis_0)\n",
    "print(\"Mean along axis 1 (average of rows):\", mean_axis_1)"
   ]
  },
  {
   "cell_type": "markdown",
   "id": "b88c9c1a",
   "metadata": {},
   "source": [
    "## Tensor Operations"
   ]
  },
  {
   "cell_type": "code",
   "execution_count": 4,
   "id": "e1c3c5e9",
   "metadata": {},
   "outputs": [
    {
     "name": "stdout",
     "output_type": "stream",
     "text": [
      "tensor([ 5.7272, 10.4180, 20.7338])\n",
      "tensor([[3., 3.],\n",
      "        [3., 3.]])\n",
      "tensor([[1., 1., 1.],\n",
      "        [1., 1., 1.]])\n"
     ]
    }
   ],
   "source": [
    "# Addition\n",
    "x = torch.tensor([5, 10, 20])\n",
    "y = torch.rand(3)\n",
    "print(x + y) #Position wise add\n",
    "\n",
    "# Matrix multiplication\n",
    "a = torch.ones(2, 3)\n",
    "b = torch.ones(3, 2)\n",
    "print(torch.matmul(a, b))\n",
    "\n",
    "# Element-wise multiplication\n",
    "print(a * b.t())  # .t() is for transpose\n"
   ]
  },
  {
   "cell_type": "code",
   "execution_count": 5,
   "id": "66f1734a",
   "metadata": {},
   "outputs": [
    {
     "name": "stdout",
     "output_type": "stream",
     "text": [
      "tensor([[ 2,  4,  6],\n",
      "        [ 8, 10, 12]])\n"
     ]
    }
   ],
   "source": [
    "w = torch.tensor([[1, 2, 3], [4, 5, 6]])\n",
    "b = torch.tensor([[1, 2], [3, 4], [5, 6]])\n",
    "\n",
    "print(w + w)"
   ]
  },
  {
   "cell_type": "code",
   "execution_count": 6,
   "id": "52bb4c53",
   "metadata": {},
   "outputs": [],
   "source": [
    "# not possible due to dimention mitch match (must show en error)\n",
    "\n",
    "#print(w * b) \n",
    "#RuntimeError: The size of tensor a (3) must match the size of tensor b (2) at non-singleton dimension 1"
   ]
  },
  {
   "cell_type": "code",
   "execution_count": 7,
   "id": "7cde4164",
   "metadata": {},
   "outputs": [
    {
     "data": {
      "text/plain": [
       "(tensor([[1, 2],\n",
       "         [3, 4],\n",
       "         [5, 6]]),\n",
       " tensor([[1, 3, 5],\n",
       "         [2, 4, 6]]))"
      ]
     },
     "execution_count": 7,
     "metadata": {},
     "output_type": "execute_result"
    }
   ],
   "source": [
    "b, b.t()"
   ]
  },
  {
   "cell_type": "code",
   "execution_count": 8,
   "id": "edf92d91",
   "metadata": {},
   "outputs": [
    {
     "data": {
      "text/plain": [
       "tensor([[ 1,  6, 15],\n",
       "        [ 8, 20, 36]])"
      ]
     },
     "execution_count": 8,
     "metadata": {},
     "output_type": "execute_result"
    }
   ],
   "source": [
    "# now it has matching dimentions for element wise multiplication\n",
    "w * b.t()"
   ]
  },
  {
   "cell_type": "code",
   "execution_count": 9,
   "id": "4e7028a8",
   "metadata": {},
   "outputs": [],
   "source": [
    "# not possible due to dimention mitch match (must show en error)\n",
    "# torch.matmul(w, b.t()) #RuntimeError: mat1 and mat2 shapes cannot be multiplied (2x3 and 2x3)"
   ]
  },
  {
   "cell_type": "markdown",
   "id": "6b2a9f87",
   "metadata": {},
   "source": [
    "# Autograd: Automatic Differentiation\n",
    "PyTorch’s autograd feature allows you to calculate the gradient of a computation graph dynamically. This is useful for training neural networks.\n",
    "\n"
   ]
  },
  {
   "cell_type": "code",
   "execution_count": 10,
   "id": "3aaa84dc",
   "metadata": {},
   "outputs": [
    {
     "name": "stdout",
     "output_type": "stream",
     "text": [
      "tensor([0.6667, 0.6667, 0.6667])\n"
     ]
    }
   ],
   "source": [
    "# Create tensors with `requires_grad=True` to track computation\n",
    "x = torch.tensor([1.0, 2.0, 3.0], requires_grad=True)\n",
    "\n",
    "# Perform some operations\n",
    "y = x * 2\n",
    "z = y.mean()\n",
    "\n",
    "# Calculate gradients\n",
    "z.backward()\n",
    "\n",
    "# Print gradients d(z)/dx\n",
    "print(x.grad)\n"
   ]
  },
  {
   "cell_type": "code",
   "execution_count": 11,
   "id": "1620465e",
   "metadata": {},
   "outputs": [
    {
     "name": "stdout",
     "output_type": "stream",
     "text": [
      "None\n"
     ]
    },
    {
     "name": "stderr",
     "output_type": "stream",
     "text": [
      "/opt/anaconda3/lib/python3.9/site-packages/torch/_tensor.py:1104: UserWarning: The .grad attribute of a Tensor that is not a leaf Tensor is being accessed. Its .grad attribute won't be populated during autograd.backward(). If you indeed want the .grad field to be populated for a non-leaf Tensor, use .retain_grad() on the non-leaf Tensor. If you access the non-leaf Tensor by mistake, make sure you access the leaf Tensor instead. See github.com/pytorch/pytorch/pull/30531 for more informations. (Triggered internally at  /Users/distiller/project/conda/conda-bld/pytorch_1646756029501/work/build/aten/src/ATen/core/TensorBody.h:475.)\n",
      "  return self._grad\n"
     ]
    }
   ],
   "source": [
    "print(y.grad)"
   ]
  },
  {
   "cell_type": "markdown",
   "id": "3ff01b49",
   "metadata": {},
   "source": [
    "x is a tensor with requires_grad=True, so PyTorch will track operations on it to compute gradients later.\n",
    "\n",
    "y is derived from x, and since x has requires_grad=True, operations on y are also tracked, and y inherits the requires_grad property from x.\n",
    "\n",
    "z is the mean of y, and it is a scalar (a single value), which makes it suitable for calling z.backward(), triggering the computation of gradients.\n",
    "\n",
    "When we call z.backward(), PyTorch computes the gradient of z with respect to x, which is stored in x.grad. However, y.grad and z.grad are not computed because:\n",
    "\n",
    "* By default, PyTorch only accumulates gradients for leaf nodes in the computation graph, where a leaf node is a node that has requires_grad=True and was created by the user, not as the result of an operation. In this case, x is a leaf node, but y and z are not, because they are the results of operations.\n",
    "\n",
    "* Gradients are not computed for non-scalar outputs by default. Since y and z are not leaf nodes and the backward operation is called on z, the gradients are only calculated for x. PyTorch does this to save memory and computation since gradients are typically only needed for the parameters we wish to optimize (like x in this case)."
   ]
  },
  {
   "cell_type": "markdown",
   "id": "6ded7618",
   "metadata": {},
   "source": [
    "## GPU Acceleration\n",
    "PyTorch can utilize GPUs to speed up its tensor computations."
   ]
  },
  {
   "cell_type": "code",
   "execution_count": 12,
   "id": "0f988114",
   "metadata": {},
   "outputs": [
    {
     "name": "stdout",
     "output_type": "stream",
     "text": [
      "tensor([2., 4., 6.], grad_fn=<MulBackward0>)\n"
     ]
    }
   ],
   "source": [
    "# Check if CUDA is available\n",
    "if torch.cuda.is_available():\n",
    "    x = x.to('cuda')\n",
    "\n",
    "# Perform operations on GPU\n",
    "y = x * 2\n",
    "print(y)\n"
   ]
  },
  {
   "cell_type": "markdown",
   "id": "27c75172",
   "metadata": {},
   "source": [
    "# Core PyTorch Modules\n"
   ]
  },
  {
   "cell_type": "markdown",
   "id": "a07b297e",
   "metadata": {},
   "source": [
    "##  1. torch.nn: Building Blocks for Neural Networks\n",
    "The torch.nn module in PyTorch provides the necessary building blocks for designing and creating neural networks. These building blocks include layers, activation functions, and utilities for assembling and managing these components."
   ]
  },
  {
   "cell_type": "code",
   "execution_count": 13,
   "id": "ca5a7f94",
   "metadata": {},
   "outputs": [],
   "source": [
    "import torch.nn as nn"
   ]
  },
  {
   "cell_type": "markdown",
   "id": "af7de28b",
   "metadata": {},
   "source": [
    "### 1.1 Layers\n",
    "\n",
    "Layers are the fundamental units that process data in a neural network. Common types of layers include:"
   ]
  },
  {
   "cell_type": "code",
   "execution_count": 14,
   "id": "f35c9034",
   "metadata": {},
   "outputs": [],
   "source": [
    "#Linear Layers (nn.Linear): Implements a fully connected linear layer.\n",
    "linear_layer = nn.Linear(10, 5) # nn.Linear(in_features=10, out_features=5) #10 inputs, 5 outputs "
   ]
  },
  {
   "cell_type": "code",
   "execution_count": 15,
   "id": "929e2449",
   "metadata": {},
   "outputs": [],
   "source": [
    "#Convolutional Layers (nn.Conv2d): Applies a 2D convolution over an input signal.\n",
    "conv_layer = nn.Conv2d(in_channels = 1, out_channels = 32, kernel_size = 3, stride = 1, padding = 1)"
   ]
  },
  {
   "cell_type": "code",
   "execution_count": 16,
   "id": "b7793dbc",
   "metadata": {},
   "outputs": [],
   "source": [
    "#Recurrent Layers (nn.LSTM, nn.GRU): Layers for processing sequential data.\n",
    "lstm_layers = nn.LSTM(input_size = 10, hidden_size = 20, num_layers = 2)"
   ]
  },
  {
   "cell_type": "markdown",
   "id": "4bf9d28e",
   "metadata": {},
   "source": [
    "### 1.2 Activation Functions\n",
    "\n",
    "Activation functions introduce non-linearity into the network, allowing it to learn complex patterns, some common example includes:"
   ]
  },
  {
   "cell_type": "code",
   "execution_count": 17,
   "id": "cf3906ec",
   "metadata": {},
   "outputs": [],
   "source": [
    "# ReLU (nn.ReLU): A common activation function that outputs the input if it's positive, otherwise, it outputs zero.\n",
    "relu = nn.ReLU()"
   ]
  },
  {
   "cell_type": "code",
   "execution_count": 18,
   "id": "979384e4",
   "metadata": {},
   "outputs": [],
   "source": [
    "# Sigmoid (nn.Sigmoid): Transforms inputs into a range between 0 and 1, often used for binary classification.\n",
    "sigmoid = nn.Sigmoid()"
   ]
  },
  {
   "cell_type": "code",
   "execution_count": 19,
   "id": "e3a27394",
   "metadata": {},
   "outputs": [],
   "source": [
    "# Softmax (nn.Softmax): Used for multi-class classification, turning logits into probabilities.\n",
    "softmax = nn.Softmax(dim=1)"
   ]
  },
  {
   "cell_type": "markdown",
   "id": "3f393979",
   "metadata": {},
   "source": [
    "## 2. torch.optim: Optimization Algorithms for Training\n",
    "The torch.optim module provides implementations of various optimization algorithms used for training neural networks. These algorithms adjust the weights of the network to minimize the loss function.\n",
    "\n"
   ]
  },
  {
   "cell_type": "code",
   "execution_count": 20,
   "id": "4ac131f2",
   "metadata": {},
   "outputs": [],
   "source": [
    "import torch.optim as optim"
   ]
  },
  {
   "cell_type": "markdown",
   "id": "3f9a3325",
   "metadata": {},
   "source": [
    "### 2.1 Common Optimizers"
   ]
  },
  {
   "cell_type": "code",
   "execution_count": 21,
   "id": "b25597aa",
   "metadata": {},
   "outputs": [],
   "source": [
    "# SGD (Stochastic Gradient Descent): A basic yet effective optimization method.\n",
    "#optimization would be applied to model's parameter using assigned learning rate\n",
    "#optimizer = optim.SGD(model.parameters(), lr = 0.01) #need to create the model first"
   ]
  },
  {
   "cell_type": "code",
   "execution_count": 22,
   "id": "9a64f9b2",
   "metadata": {},
   "outputs": [],
   "source": [
    "# Adam: An optimizer that adapts the learning rate for each weight.\n",
    "#optimizer = optim.Adam(model.parameters(), lr = 0.001)"
   ]
  },
  {
   "cell_type": "markdown",
   "id": "0e997005",
   "metadata": {},
   "source": [
    "#### 2.2 Using an Optimizer\n",
    "\n",
    "To use an optimizer, we need to perform the following steps in your training loop:\n",
    "\n",
    "* Zero the gradients (optimizer.zero_grad()).\n",
    "* Compute the loss.\n",
    "* Backpropagate (loss.backward()).\n",
    "* Update the model parameters (optimizer.step())."
   ]
  },
  {
   "cell_type": "markdown",
   "id": "9184cb00",
   "metadata": {},
   "source": [
    "## 3. torch.utils.data: Utilities for Data Loading and Preprocessing\n",
    "The torch.utils.data module provides tools for data loading and preprocessing, making it easier to feed data into your model."
   ]
  },
  {
   "cell_type": "markdown",
   "id": "32017e50",
   "metadata": {},
   "source": [
    "### 3.1 Datasets and DataLoaders"
   ]
  },
  {
   "cell_type": "markdown",
   "id": "c152f703",
   "metadata": {},
   "source": [
    "### Dataset: \n",
    "An abstract class for representing a dataset. We can use built-in datasets (like CIFAR10, MNIST) or create our own custom dataset by subclassing Dataset."
   ]
  },
  {
   "cell_type": "markdown",
   "id": "9661841e",
   "metadata": {},
   "source": [
    "#### Built-in datset example:"
   ]
  },
  {
   "cell_type": "code",
   "execution_count": 23,
   "id": "c04e0647",
   "metadata": {},
   "outputs": [],
   "source": [
    "import torchvision\n",
    "from torchvision import datasets, transforms\n",
    "from torch.utils.data import Dataset, DataLoader\n",
    "\n",
    "transform = transforms.Compose([\n",
    "    transforms.ToTensor(),\n",
    "    transforms.Normalize((0.5,), (0.5,))\n",
    "])\n",
    "\n",
    "# transformed_dataset = torchvision.datasets.MNIST(root='./data', train=True, download=True, transform=transform)\n",
    "\n",
    "# dataloader = DataLoader(transformed_dataset, batch_size=4, shuffle=True)\n"
   ]
  },
  {
   "cell_type": "markdown",
   "id": "02cdcb03",
   "metadata": {},
   "source": [
    "#### Custom dataset example:"
   ]
  },
  {
   "cell_type": "code",
   "execution_count": 24,
   "id": "d4b1baf9",
   "metadata": {},
   "outputs": [],
   "source": [
    "from torch.utils.data import Dataset, DataLoader\n",
    "\n",
    "class CustomDataset(Dataset):\n",
    "    def __init__(self, data, labels):\n",
    "        self.data = data\n",
    "        self.labels = labels\n",
    "    \n",
    "    def __len__(self):\n",
    "        return len(self.data)\n",
    "    \n",
    "    def __getitem__(self, idx):\n",
    "        return self.data[idx], self.labels[idx]\n"
   ]
  },
  {
   "cell_type": "markdown",
   "id": "67c03f16",
   "metadata": {},
   "source": [
    "The double underscores (often referred to as \"dunder\" methods) in Python indicate special methods that provide an interface for built-in behaviors or operations. \n",
    "To call these special methods, you usually don't invoke them directly using their names (like __len__() or __getitem__()). Instead, you use Python's built-in functions or operators that are designed to automatically trigger these methods. "
   ]
  },
  {
   "cell_type": "code",
   "execution_count": 25,
   "id": "664de8ac",
   "metadata": {},
   "outputs": [],
   "source": [
    "# Create an instance of the custom dataset\n",
    "data = torch.randn(100, 10)  # Example data: 100 samples, 10 features each\n",
    "labels = torch.randint(0, 2, (100,))  # Example labels: 100 binary labels\n",
    "dataset = CustomDataset(data, labels)"
   ]
  },
  {
   "cell_type": "code",
   "execution_count": 26,
   "id": "d84a282d",
   "metadata": {},
   "outputs": [
    {
     "name": "stdout",
     "output_type": "stream",
     "text": [
      "Dataset length: 100\n"
     ]
    }
   ],
   "source": [
    "# Get the length of the dataset\n",
    "#We call __len__ indirectly by using the len() function on an instance of the dataset class.\n",
    "\n",
    "print(f\"Dataset length: {len(dataset)}\")"
   ]
  },
  {
   "cell_type": "code",
   "execution_count": 27,
   "id": "9bdd2afd",
   "metadata": {},
   "outputs": [
    {
     "name": "stdout",
     "output_type": "stream",
     "text": [
      "Sample data point: tensor([ 1.3715,  1.3914, -0.6345, -0.9111, -0.0949, -0.8790,  0.8919,  1.7470,\n",
      "        -1.7602, -0.6528]), Label: 0\n"
     ]
    }
   ],
   "source": [
    "# Access a single data point \n",
    "# we call __getitem__ by using the indexing syntax on the dataset instance.\n",
    "\n",
    "item, label = dataset[5]\n",
    "print(f\"Sample data point: {item}, Label: {label}\")\n"
   ]
  },
  {
   "cell_type": "markdown",
   "id": "3b57829b",
   "metadata": {},
   "source": [
    "### DataLoader: \n",
    "Combines a dataset and a sampler, providing an iterable over the given dataset."
   ]
  },
  {
   "cell_type": "code",
   "execution_count": 28,
   "id": "87afc25f",
   "metadata": {},
   "outputs": [
    {
     "name": "stdout",
     "output_type": "stream",
     "text": [
      "Batch 0: Data torch.Size([15, 10]), Labels torch.Size([15])\n",
      "Batch 1: Data torch.Size([15, 10]), Labels torch.Size([15])\n",
      "Batch 2: Data torch.Size([15, 10]), Labels torch.Size([15])\n",
      "Batch 3: Data torch.Size([15, 10]), Labels torch.Size([15])\n",
      "Batch 4: Data torch.Size([15, 10]), Labels torch.Size([15])\n",
      "Batch 5: Data torch.Size([15, 10]), Labels torch.Size([15])\n",
      "Batch 6: Data torch.Size([10, 10]), Labels torch.Size([10])\n"
     ]
    }
   ],
   "source": [
    "# Using the dataset with DataLoader\n",
    "dataloader = DataLoader(dataset, batch_size = 15, shuffle = True)\n",
    "for batch_idx, (data, labels) in enumerate(dataloader):\n",
    "    print(f\"Batch {batch_idx}: Data {data.size()}, Labels {labels.size()}\")\n",
    "    # Here we would typically proceed with processing the data and labels"
   ]
  },
  {
   "cell_type": "markdown",
   "id": "1dc1798c",
   "metadata": {},
   "source": [
    "## 3.2 Preprocessing\n",
    "\n",
    "Preprocessing steps like normalization and data augmentation can be integrated with dataset:"
   ]
  },
  {
   "cell_type": "markdown",
   "id": "1022336a",
   "metadata": {},
   "source": [
    "#### Example with image data"
   ]
  },
  {
   "cell_type": "code",
   "execution_count": 29,
   "id": "1a606b73",
   "metadata": {},
   "outputs": [],
   "source": [
    "import torch\n",
    "from torchvision import datasets, transforms\n",
    "\n",
    "# Load a sample dataset (e.g., CIFAR10)\n",
    "# dataset = datasets.CIFAR10(root='./data', train=True, download=True)\n"
   ]
  },
  {
   "cell_type": "code",
   "execution_count": 30,
   "id": "a602476a",
   "metadata": {},
   "outputs": [],
   "source": [
    "# Define transformations\n",
    "transform = transforms.Compose([\n",
    "    transforms.ToTensor(),  # Convert images to PyTorch tensors\n",
    "    transforms.Resize(256),  # Resize images to 256x256 pixels\n",
    "    transforms.CenterCrop(224),  # Crop images to 224x224 pixels\n",
    "    transforms.RandomHorizontalFlip(),  # Randomly flip images horizontally\n",
    "    transforms.Normalize(mean=[0.485, 0.456, 0.406],  # Normalize images\n",
    "                         std=[0.229, 0.224, 0.225])\n",
    "])"
   ]
  },
  {
   "cell_type": "code",
   "execution_count": 31,
   "id": "18a76a33",
   "metadata": {},
   "outputs": [],
   "source": [
    "# Apply transformations to the dataset\n",
    "# transformed_dataset = datasets.CIFAR10(root='./data', train=True, download=True, transform=transform)\n"
   ]
  },
  {
   "cell_type": "code",
   "execution_count": 32,
   "id": "55bf03ed",
   "metadata": {},
   "outputs": [
    {
     "ename": "NameError",
     "evalue": "name 'transformed_dataset' is not defined",
     "output_type": "error",
     "traceback": [
      "\u001b[0;31m---------------------------------------------------------------------------\u001b[0m",
      "\u001b[0;31mNameError\u001b[0m                                 Traceback (most recent call last)",
      "\u001b[0;32m/var/folders/pq/8nvzr_h55nqdlpwmts7fmsq40000gn/T/ipykernel_60844/2919197675.py\u001b[0m in \u001b[0;36m<module>\u001b[0;34m\u001b[0m\n\u001b[1;32m      1\u001b[0m \u001b[0;31m# Create a data loader\u001b[0m\u001b[0;34m\u001b[0m\u001b[0;34m\u001b[0m\u001b[0m\n\u001b[0;32m----> 2\u001b[0;31m \u001b[0mdataloader\u001b[0m \u001b[0;34m=\u001b[0m \u001b[0mDataLoader\u001b[0m\u001b[0;34m(\u001b[0m\u001b[0mtransformed_dataset\u001b[0m\u001b[0;34m,\u001b[0m \u001b[0mbatch_size\u001b[0m\u001b[0;34m=\u001b[0m\u001b[0;36m32\u001b[0m\u001b[0;34m,\u001b[0m \u001b[0mshuffle\u001b[0m\u001b[0;34m=\u001b[0m\u001b[0;32mTrue\u001b[0m\u001b[0;34m)\u001b[0m\u001b[0;34m\u001b[0m\u001b[0;34m\u001b[0m\u001b[0m\n\u001b[0m",
      "\u001b[0;31mNameError\u001b[0m: name 'transformed_dataset' is not defined"
     ]
    }
   ],
   "source": [
    "# Create a data loader\n",
    "dataloader = DataLoader(transformed_dataset, batch_size=32, shuffle=True)"
   ]
  },
  {
   "cell_type": "code",
   "execution_count": 33,
   "id": "0bce7f7c",
   "metadata": {},
   "outputs": [],
   "source": [
    "# Iterate over the data loader\n",
    "for images, labels in dataloader:\n",
    "    # Here, we would typically feed 'images' and 'labels' to the model\n",
    "    pass"
   ]
  },
  {
   "cell_type": "markdown",
   "id": "f7ff28d9",
   "metadata": {},
   "source": [
    "#### Example: Preprocessing Tabular Data"
   ]
  },
  {
   "cell_type": "code",
   "execution_count": 34,
   "id": "c9c1b4a7",
   "metadata": {},
   "outputs": [
    {
     "data": {
      "text/html": [
       "<div>\n",
       "<style scoped>\n",
       "    .dataframe tbody tr th:only-of-type {\n",
       "        vertical-align: middle;\n",
       "    }\n",
       "\n",
       "    .dataframe tbody tr th {\n",
       "        vertical-align: top;\n",
       "    }\n",
       "\n",
       "    .dataframe thead th {\n",
       "        text-align: right;\n",
       "    }\n",
       "</style>\n",
       "<table border=\"1\" class=\"dataframe\">\n",
       "  <thead>\n",
       "    <tr style=\"text-align: right;\">\n",
       "      <th></th>\n",
       "      <th>feature1</th>\n",
       "      <th>feature2</th>\n",
       "      <th>feature3</th>\n",
       "      <th>feature4</th>\n",
       "      <th>feature5</th>\n",
       "      <th>target</th>\n",
       "    </tr>\n",
       "  </thead>\n",
       "  <tbody>\n",
       "    <tr>\n",
       "      <th>0</th>\n",
       "      <td>0.374540</td>\n",
       "      <td>0.950714</td>\n",
       "      <td>0.731994</td>\n",
       "      <td>0.598658</td>\n",
       "      <td>0.156019</td>\n",
       "      <td>1</td>\n",
       "    </tr>\n",
       "    <tr>\n",
       "      <th>1</th>\n",
       "      <td>0.155995</td>\n",
       "      <td>0.058084</td>\n",
       "      <td>0.866176</td>\n",
       "      <td>0.601115</td>\n",
       "      <td>0.708073</td>\n",
       "      <td>0</td>\n",
       "    </tr>\n",
       "    <tr>\n",
       "      <th>2</th>\n",
       "      <td>0.020584</td>\n",
       "      <td>0.969910</td>\n",
       "      <td>0.832443</td>\n",
       "      <td>0.212339</td>\n",
       "      <td>0.181825</td>\n",
       "      <td>0</td>\n",
       "    </tr>\n",
       "  </tbody>\n",
       "</table>\n",
       "</div>"
      ],
      "text/plain": [
       "   feature1  feature2  feature3  feature4  feature5  target\n",
       "0  0.374540  0.950714  0.731994  0.598658  0.156019       1\n",
       "1  0.155995  0.058084  0.866176  0.601115  0.708073       0\n",
       "2  0.020584  0.969910  0.832443  0.212339  0.181825       0"
      ]
     },
     "execution_count": 34,
     "metadata": {},
     "output_type": "execute_result"
    }
   ],
   "source": [
    "#Generating data\n",
    "import numpy as np\n",
    "import pandas as pd\n",
    "\n",
    "np.random.seed(42)\n",
    "data = np.random.rand(100,5) # 100 samples and 5 features\n",
    "labels = np.random.randint(0, 2, (100,)) #binary targets\n",
    "columns = ['feature1', 'feature2', 'feature3', 'feature4', 'feature5']\n",
    "\n",
    "#Convert to a Pandas DataFrame\n",
    "df = pd.DataFrame(data, columns = columns)\n",
    "df['target'] = labels\n",
    "df.head(3)"
   ]
  },
  {
   "cell_type": "code",
   "execution_count": 35,
   "id": "41229125",
   "metadata": {},
   "outputs": [],
   "source": [
    "#Splitting the Data into Features and Labels\n",
    "X = df.drop('target', axis = 1).values\n",
    "y = df['target'].values"
   ]
  },
  {
   "cell_type": "code",
   "execution_count": 36,
   "id": "596ef174",
   "metadata": {},
   "outputs": [],
   "source": [
    "# Normalize the features to have a mean of 0 and a standard deviation of 1.\n",
    "from sklearn.preprocessing import StandardScaler\n",
    "scaler = StandardScaler()\n",
    "X_normalized = scaler.fit_transform(X)"
   ]
  },
  {
   "cell_type": "code",
   "execution_count": 37,
   "id": "a8ea41bd",
   "metadata": {},
   "outputs": [],
   "source": [
    "from torch.utils.data import Dataset, DataLoader\n",
    "import torch\n",
    "\n",
    "# Define a custom Dataset class that will be used with PyTorch's DataLoader.\n",
    "class TabularDataset(Dataset):\n",
    "    def __init__(self, features, labels):\n",
    "        self.features = torch.tensor(features, dtype = torch.float32)\n",
    "        self.labels = torch.tensor(labels, dtype = torch.float32)\n",
    "        \n",
    "    def __len__(self):\n",
    "        return len(self.features)\n",
    "    \n",
    "    def __getitem__(self, idx):\n",
    "        return self.features[idx], self.labels[idx]\n",
    "        \n",
    "    "
   ]
  },
  {
   "cell_type": "code",
   "execution_count": 38,
   "id": "14b9331d",
   "metadata": {},
   "outputs": [],
   "source": [
    "#create the custom dataset\n",
    "dataset = TabularDataset(X_normalized, y)"
   ]
  },
  {
   "cell_type": "code",
   "execution_count": 39,
   "id": "86f88423",
   "metadata": {},
   "outputs": [],
   "source": [
    "#create DataLoader \n",
    "dataloader = DataLoader(dataset, batch_size = 10, shuffle= True)"
   ]
  },
  {
   "cell_type": "code",
   "execution_count": 40,
   "id": "8dffad40",
   "metadata": {
    "scrolled": true
   },
   "outputs": [
    {
     "name": "stdout",
     "output_type": "stream",
     "text": [
      "Features shape: torch.Size([10, 5]), Labels shape: torch.Size([10])\n",
      "Features shape: torch.Size([10, 5]), Labels shape: torch.Size([10])\n",
      "Features shape: torch.Size([10, 5]), Labels shape: torch.Size([10])\n",
      "Features shape: torch.Size([10, 5]), Labels shape: torch.Size([10])\n",
      "Features shape: torch.Size([10, 5]), Labels shape: torch.Size([10])\n",
      "Features shape: torch.Size([10, 5]), Labels shape: torch.Size([10])\n",
      "Features shape: torch.Size([10, 5]), Labels shape: torch.Size([10])\n",
      "Features shape: torch.Size([10, 5]), Labels shape: torch.Size([10])\n",
      "Features shape: torch.Size([10, 5]), Labels shape: torch.Size([10])\n",
      "Features shape: torch.Size([10, 5]), Labels shape: torch.Size([10])\n",
      "Features shape: torch.Size([10, 5]), Labels shape: torch.Size([10])\n",
      "Features shape: torch.Size([10, 5]), Labels shape: torch.Size([10])\n",
      "Features shape: torch.Size([10, 5]), Labels shape: torch.Size([10])\n",
      "Features shape: torch.Size([10, 5]), Labels shape: torch.Size([10])\n",
      "Features shape: torch.Size([10, 5]), Labels shape: torch.Size([10])\n",
      "Features shape: torch.Size([10, 5]), Labels shape: torch.Size([10])\n",
      "Features shape: torch.Size([10, 5]), Labels shape: torch.Size([10])\n",
      "Features shape: torch.Size([10, 5]), Labels shape: torch.Size([10])\n",
      "Features shape: torch.Size([10, 5]), Labels shape: torch.Size([10])\n",
      "Features shape: torch.Size([10, 5]), Labels shape: torch.Size([10])\n"
     ]
    }
   ],
   "source": [
    "#using dataloader: iterate over the DataLoader in a training loop\n",
    "for epoch in range(2):  # example for 2 epochs\n",
    "    for features, labels in dataloader:\n",
    "        # Here, we would typically feed 'features' and 'labels' to the model\n",
    "        print(f\"Features shape: {features.shape}, Labels shape: {labels.shape}\")\n",
    "        # Simulate a training step\n",
    "        # e.g., loss = model(features, labels)\n",
    "        # loss.backward()\n",
    "        # optimizer.step()\n",
    "        # optimizer.zero_grad()"
   ]
  },
  {
   "cell_type": "markdown",
   "id": "5204234d",
   "metadata": {},
   "source": [
    "# Building a Deep NN using PyTorch"
   ]
  },
  {
   "cell_type": "code",
   "execution_count": 41,
   "id": "d576c095",
   "metadata": {},
   "outputs": [],
   "source": [
    "import torch\n",
    "from torch import nn, optim\n",
    "from torch.utils.data import DataLoader, TensorDataset, random_split"
   ]
  },
  {
   "cell_type": "code",
   "execution_count": 42,
   "id": "c62a633c",
   "metadata": {},
   "outputs": [],
   "source": [
    "#define the Neural Network for Classification\n",
    "class Simple_NN_Classification(nn.Module):\n",
    "    def __init__(self):\n",
    "        super(Simple_NN_Classification, self).__init__()\n",
    "        self.fc1 = nn.Linear(10, 100) # Assuming we have 10 featuers, and adding 100 hidden layer node\n",
    "        self.relu = nn.ReLU()\n",
    "        self.dropout = nn.Dropout(0.25) # 25% dropout regularization\n",
    "        self.fc2 = nn.Linear(100, 200) # Second hidden layer\n",
    "        self.fc3 = nn.Linear(200, 50) # Third hidden layer\n",
    "        self.fc4 = nn.Linear(50, 2) # Assuming we have two outputs (target variables)\n",
    "        \n",
    "    def forward(self, x):\n",
    "        x = self.relu(self.fc1(x))\n",
    "        x = self.relu(self.fc2(x))\n",
    "        x = self.dropout(x)\n",
    "        x = self.relu(self.fc3(x)) \n",
    "        x = self.fc4(x)\n",
    "        \n",
    "        return x\n",
    "             "
   ]
  },
  {
   "cell_type": "code",
   "execution_count": 43,
   "id": "1c096f61",
   "metadata": {},
   "outputs": [],
   "source": [
    "#intialize the network, loss function and optimizer\n",
    "model = Simple_NN_Classification()\n",
    "criterion = nn.CrossEntropyLoss()\n",
    "optimizer = optim.SGD(model.parameters(), lr = 0.01)\n"
   ]
  },
  {
   "cell_type": "code",
   "execution_count": 44,
   "id": "7e017f47",
   "metadata": {},
   "outputs": [],
   "source": [
    "# Simulate some data\n",
    "inputs = torch.randn(100, 10) #100 samples ,with 10 features each\n",
    "targets = torch.randint(0, 2, (100,)) #binary targets labels\n"
   ]
  },
  {
   "cell_type": "code",
   "execution_count": 45,
   "id": "ac01fb43",
   "metadata": {},
   "outputs": [],
   "source": [
    "# Create the dataset and split it into training and validationset\n",
    "dataset = TensorDataset(inputs, targets)\n",
    "split_index = 0.8\n",
    "train_size = int(split_index *len(dataset))\n",
    "val_size = len(dataset) - train_size\n",
    "train_dataset, val_dataset = random_split(dataset, [train_size, val_size])\n",
    "#len(train_dataset), len(val_dataset) #should return (80, 20) in this case\n",
    "\n",
    "train_loader = DataLoader(train_dataset, batch_size = 10, shuffle = True)\n",
    "val_loader = DataLoader(val_dataset, batch_size = 10) #shuffle by default false, and for testing we do not need to shuffle\n"
   ]
  },
  {
   "cell_type": "code",
   "execution_count": 46,
   "id": "26bbe869",
   "metadata": {},
   "outputs": [],
   "source": [
    "#function to compute the accuracy\n",
    "def compute_accuracy(model, data_loader):\n",
    "    model.eval() #set the model to evaluation mode\n",
    "    correct = 0\n",
    "    total = 0\n",
    "    with torch.no_grad(): #Do not need to calculate gradient as its not training, would make the execution faster\n",
    "        for data, labels in data_loader: #take a batch at a time\n",
    "            output = model(data)\n",
    "            _, predicted = torch.max(output, 1) # (output, 1 -indicate columns) return max_value, index (we only need the index)\n",
    "            total += labels.size(0)  #gives the number of labels in the batch, which is added to total to keep track of the total number of evaluated samples.\n",
    "            correct += (predicted == labels).sum().item() #sum() counts the number of True values, which is the number of correct predictions in the batch; \n",
    "                                                          #item() converts the result to a Python integer, which is added to the correct counter.\n",
    "        return 100 * correct/total\n"
   ]
  },
  {
   "cell_type": "code",
   "execution_count": 47,
   "id": "2ea737bc",
   "metadata": {
    "scrolled": true
   },
   "outputs": [
    {
     "name": "stdout",
     "output_type": "stream",
     "text": [
      "Epoch 1, Trainning Loss: 0.69, Validation Loss:  0.69, Train Accuracy:  52.50, Val Accuracy:  45.00\n",
      "Epoch 2, Trainning Loss: 0.69, Validation Loss:  0.69, Train Accuracy:  51.25, Val Accuracy:  35.00\n",
      "Epoch 3, Trainning Loss: 0.69, Validation Loss:  0.69, Train Accuracy:  50.00, Val Accuracy:  50.00\n",
      "Epoch 4, Trainning Loss: 0.69, Validation Loss:  0.69, Train Accuracy:  60.00, Val Accuracy:  50.00\n",
      "Epoch 5, Trainning Loss: 0.69, Validation Loss:  0.69, Train Accuracy:  55.00, Val Accuracy:  55.00\n",
      "Epoch 6, Trainning Loss: 0.69, Validation Loss:  0.69, Train Accuracy:  57.50, Val Accuracy:  60.00\n",
      "Epoch 7, Trainning Loss: 0.69, Validation Loss:  0.69, Train Accuracy:  56.25, Val Accuracy:  55.00\n",
      "Epoch 8, Trainning Loss: 0.69, Validation Loss:  0.69, Train Accuracy:  55.00, Val Accuracy:  55.00\n",
      "Epoch 9, Trainning Loss: 0.69, Validation Loss:  0.69, Train Accuracy:  55.00, Val Accuracy:  50.00\n",
      "Epoch 10, Trainning Loss: 0.69, Validation Loss:  0.69, Train Accuracy:  55.00, Val Accuracy:  50.00\n"
     ]
    }
   ],
   "source": [
    "# Lists to store loss and accuracy for each epoch\n",
    "train_losses = []\n",
    "train_accuracies = []\n",
    "val_losses = []\n",
    "val_accuracies = []\n",
    "\n",
    "#trinning loop\n",
    "for epoch in range(10):\n",
    "    model.train() #set the model to training mode\n",
    "    running_loss = 0.0\n",
    "    for data, labels in train_loader:\n",
    "        optimizer.zero_grad() #clear the grading for each batch\n",
    "        output = model(data) #forward pass\n",
    "        loss = criterion(output, labels) #calculating the loss for the batch\n",
    "        loss.backward() #back-propagation\n",
    "        optimizer.step() #update the models weight\n",
    "        running_loss += loss.item() #adding the batch loss to total loss\n",
    "        \n",
    "    #calulating average training loss and accuracy\n",
    "    avg_train_loss = running_loss / len(train_loader)\n",
    "    train_accuracy = compute_accuracy(model, train_loader)\n",
    "    \n",
    "    #validation loop\n",
    "    model.eval()\n",
    "    running_val_loss = 0.0\n",
    "    with torch.no_grad():\n",
    "        for data, labels in val_loader:\n",
    "            output = model(data)\n",
    "            loss = criterion(output, labels)\n",
    "            running_val_loss += loss.item()\n",
    "\n",
    "    avg_val_loss = running_val_loss / len(val_loader)\n",
    "    val_accuracy = compute_accuracy(model, val_loader)\n",
    "    \n",
    "    #appending the current value to the list\n",
    "    train_losses.append(avg_train_loss)\n",
    "    val_losses.append(avg_val_loss)\n",
    "    train_accuracies.append(train_accuracy)\n",
    "    val_accuracies.append(val_accuracy)\n",
    "    \n",
    "    print(f\"Epoch {epoch +1}, Trainning Loss:{avg_train_loss: .2f}, Validation Loss: {avg_val_loss: .2f}, Train Accuracy: {train_accuracy: .2f}, Val Accuracy: {val_accuracy: .2f}\")\n",
    "        \n",
    "        \n"
   ]
  },
  {
   "cell_type": "code",
   "execution_count": 48,
   "id": "21d9462c",
   "metadata": {},
   "outputs": [
    {
     "data": {
      "image/png": "[encoded data removed]",
      "text/plain": [
       "<Figure size 1200x500 with 2 Axes>"
      ]
     },
     "metadata": {},
     "output_type": "display_data"
    }
   ],
   "source": [
    "#plotting the result\n",
    "import matplotlib.pyplot as plt\n",
    "\n",
    "plt.figure(figsize = (12, 5)) \n",
    "\n",
    "#plotting the loss\n",
    "plt.subplot(1, 2, 1) \n",
    "plt.plot(train_losses, label = \"Training loss\")\n",
    "plt.plot(val_losses, label = 'Validation loss')\n",
    "plt.title('Training vs Validation loss')\n",
    "plt.xlabel('Epochs')\n",
    "plt.ylabel('Loss')\n",
    "plt.legend()\n",
    "\n",
    "plt.subplot(1, 2, 2)\n",
    "plt.plot(train_accuracies, label = \"Training accuracy\")\n",
    "plt.plot(val_accuracies, label = \"Validation accuracy\")\n",
    "plt.title(\"Traing vs. Validation accuracy\")\n",
    "plt.xlabel(\"Epochs\")\n",
    "plt.ylabel('Accuracy')\n",
    "plt.legend()\n",
    "plt.show()"
   ]
  },
  {
   "cell_type": "code",
   "execution_count": null,
   "id": "ad1c9009",
   "metadata": {},
   "outputs": [],
   "source": []
  }
 ],
 "metadata": {
  "kernelspec": {
   "display_name": "Python 3 (ipykernel)",
   "language": "python",
   "name": "python3"
  },
  "language_info": {
   "codemirror_mode": {
    "name": "ipython",
    "version": 3
   },
   "file_extension": ".py",
   "mimetype": "text/x-python",
   "name": "python",
   "nbconvert_exporter": "python",
   "pygments_lexer": "ipython3",
   "version": "3.9.7"
  }
 },
 "nbformat": 4,
 "nbformat_minor": 5
}
