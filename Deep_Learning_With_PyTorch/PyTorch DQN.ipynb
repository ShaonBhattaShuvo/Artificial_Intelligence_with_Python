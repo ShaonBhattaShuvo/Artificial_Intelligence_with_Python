{
 "cells": [
  {
   "cell_type": "code",
   "execution_count": 11,
   "id": "565757f4",
   "metadata": {},
   "outputs": [],
   "source": [
    "import torch\n",
    "import torch.nn as nn\n",
    "import torch.optim as optim\n",
    "import torch.nn.functional as F\n",
    "import numpy as np\n",
    "import matplotlib\n",
    "import matplotlib.pyplot as plt\n",
    "from collections import namedtuple, deque\n",
    "import gym"
   ]
  },
  {
   "cell_type": "code",
   "execution_count": 12,
   "id": "60638ffc",
   "metadata": {},
   "outputs": [],
   "source": [
    "env = gym.make(\"CartPole-v1\")\n",
    "\n",
    "# set up matplotlib\n",
    "is_ipython = 'inline' in matplotlib.get_backend()\n",
    "if is_ipython:\n",
    "    from IPython import display\n",
    "\n",
    "plt.ion()\n",
    "\n",
    "# if GPU is to be used\n",
    "device = torch.device(\"cuda\" if torch.cuda.is_available() else \"cpu\")\n"
   ]
  },
  {
   "cell_type": "markdown",
   "id": "80815e27",
   "metadata": {},
   "source": [
    "# Transition\n",
    "A named tuple representing a single transition in our environment. It essentially maps (state, action) pairs to their (next_state, reward) result, with the state being the screen difference image as described later on.\n"
   ]
  },
  {
   "cell_type": "code",
   "execution_count": 15,
   "id": "b5b88c0d",
   "metadata": {},
   "outputs": [],
   "source": [
    "Transition = namedtuple('Transition', ('state', 'action', 'next_state', 'reward'))"
   ]
  },
  {
   "cell_type": "markdown",
   "id": "f4fbab33",
   "metadata": {},
   "source": [
    "# Replay Memory\n",
    "A cyclic buffer of bounded size that holds the transitions observed recently. It also implements a .sample() method for selecting a random batch of transitions for training."
   ]
  },
  {
   "cell_type": "code",
   "execution_count": 17,
   "id": "c8aec74f",
   "metadata": {},
   "outputs": [],
   "source": [
    "class Replay_Memory():\n",
    "    def __init__(self, max_capacity): #initalize the memory\n",
    "        self.memory = deque([], maxlen = max_capacity)\n",
    "    \n",
    "    def push(self, *args):  #add a transition to the memory\n",
    "        self.memory.append(Transition(*args))\n",
    "    \n",
    "    def sample(self, batch_size): #take a random sample from the memory\n",
    "        return radom.sample(self.memory, batch_size)\n",
    "    \n",
    "    def __len__(): #finding the len of the memory\n",
    "        return len(self.memory)"
   ]
  },
  {
   "cell_type": "markdown",
   "id": "7106da4b",
   "metadata": {},
   "source": [
    "# Deep Q-network\n",
    "Our model will be a feed forward neural network that takes in the difference between the current and previous screen patches. It has two outputs, representing  Q(s,left) and  Q(s,right) \n",
    "(where s is the input to the network). \n",
    "\n",
    "In effect, the network is trying to predict the expected return of taking each action given the current input."
   ]
  },
  {
   "cell_type": "code",
   "execution_count": 21,
   "id": "fc365b84",
   "metadata": {},
   "outputs": [],
   "source": [
    "class DQN(nn.Module):\n",
    "    def __init__(self, n_observations, n_actions, n_hidden):\n",
    "        super(DQN, self).__init__()\n",
    "        self.layer1 = nn.Linear(n_observations, n_hidden)\n",
    "        self.layer2 = nn.Linear(n_hidden, n_hidden * 2)\n",
    "        self.layer3 = nn.Linear(n_hidden * 2, n_actions)\n",
    "        \n",
    "    def forward(self, x):\n",
    "        x = F.relu(sefl.layer1(x))\n",
    "        x = F.relu(self.layer2(x))\n",
    "        x = self.layer3(x)\n",
    "        \n",
    "        return x\n",
    "        "
   ]
  },
  {
   "cell_type": "code",
   "execution_count": null,
   "id": "aec9d48e",
   "metadata": {},
   "outputs": [],
   "source": []
  }
 ],
 "metadata": {
  "kernelspec": {
   "display_name": "Python 3 (ipykernel)",
   "language": "python",
   "name": "python3"
  },
  "language_info": {
   "codemirror_mode": {
    "name": "ipython",
    "version": 3
   },
   "file_extension": ".py",
   "mimetype": "text/x-python",
   "name": "python",
   "nbconvert_exporter": "python",
   "pygments_lexer": "ipython3",
   "version": "3.9.7"
  }
 },
 "nbformat": 4,
 "nbformat_minor": 5
}
