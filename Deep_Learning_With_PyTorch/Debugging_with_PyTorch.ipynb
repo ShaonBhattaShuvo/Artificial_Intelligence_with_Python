{
 "cells": [
  {
   "cell_type": "markdown",
   "id": "a997d75d",
   "metadata": {},
   "source": [
    "# PyTorch Debugging\n",
    "Debugging is an essential aspect of developing machine learning models in PyTorch. PyTorch's dynamic computation graph makes it easier to debug using standard Python debugging tools. "
   ]
  },
  {
   "cell_type": "markdown",
   "id": "45919fe5",
   "metadata": {},
   "source": [
    "## Understanding PyTorch's Dynamic Graph\n",
    "PyTorch uses a dynamic computation graph, meaning the graph is built at runtime. This allows for more interactive debugging and flexibility but requires understanding how PyTorch tracks operations to debug effectively."
   ]
  },
  {
   "cell_type": "markdown",
   "id": "71739acf",
   "metadata": {},
   "source": [
    "# Debugging Techniques"
   ]
  },
  {
   "cell_type": "markdown",
   "id": "9f391bc2",
   "metadata": {},
   "source": [
    "## 1. Using Print Statements\n",
    "\n",
    "Print tensors and their shapes to understand the flow of data."
   ]
  },
  {
   "cell_type": "code",
   "execution_count": 2,
   "id": "2a626870",
   "metadata": {},
   "outputs": [
    {
     "name": "stdout",
     "output_type": "stream",
     "text": [
      "tensor([[ 2.1699, -0.7203,  0.1938],\n",
      "        [ 0.4552,  1.5074, -0.3009],\n",
      "        [ 1.9378,  0.2204,  2.0289],\n",
      "        [ 2.1689, -0.2511,  0.3391],\n",
      "        [-0.7584,  1.0573,  1.4920]])\n",
      "torch.Size([5, 3])\n"
     ]
    }
   ],
   "source": [
    "import torch\n",
    "x = torch.randn(5, 3)\n",
    "print(x)\n",
    "print(x.shape)"
   ]
  },
  {
   "cell_type": "markdown",
   "id": "d2702ea9",
   "metadata": {},
   "source": [
    "## 2. Using Python Debugger\n",
    "Python debuggers like pdb or integrated development environment (IDE) debuggers."
   ]
  },
  {
   "cell_type": "code",
   "execution_count": 2,
   "id": "79c0a1af",
   "metadata": {},
   "outputs": [
    {
     "name": "stdout",
     "output_type": "stream",
     "text": [
      "--Return--\n",
      "None\n",
      "> \u001b[0;32m/var/folders/pq/8nvzr_h55nqdlpwmts7fmsq40000gn/T/ipykernel_56734/1260668640.py\u001b[0m(5)\u001b[0;36m<module>\u001b[0;34m()\u001b[0m\n",
      "\u001b[0;32m      2 \u001b[0;31m\u001b[0;32mimport\u001b[0m \u001b[0mpdb\u001b[0m\u001b[0;34m\u001b[0m\u001b[0;34m\u001b[0m\u001b[0m\n",
      "\u001b[0m\u001b[0;32m      3 \u001b[0;31m\u001b[0;34m\u001b[0m\u001b[0m\n",
      "\u001b[0m\u001b[0;32m      4 \u001b[0;31m\u001b[0mx\u001b[0m \u001b[0;34m=\u001b[0m \u001b[0mtorch\u001b[0m\u001b[0;34m.\u001b[0m\u001b[0mrandn\u001b[0m\u001b[0;34m(\u001b[0m\u001b[0;36m5\u001b[0m\u001b[0;34m,\u001b[0m \u001b[0;36m3\u001b[0m\u001b[0;34m)\u001b[0m\u001b[0;34m\u001b[0m\u001b[0;34m\u001b[0m\u001b[0m\n",
      "\u001b[0m\u001b[0;32m----> 5 \u001b[0;31m\u001b[0mpdb\u001b[0m\u001b[0;34m.\u001b[0m\u001b[0mset_trace\u001b[0m\u001b[0;34m(\u001b[0m\u001b[0;34m)\u001b[0m  \u001b[0;31m# Sets a breakpoint\u001b[0m\u001b[0;34m\u001b[0m\u001b[0;34m\u001b[0m\u001b[0m\n",
      "\u001b[0m\u001b[0;32m      6 \u001b[0;31m\u001b[0my\u001b[0m \u001b[0;34m=\u001b[0m \u001b[0mx\u001b[0m \u001b[0;34m*\u001b[0m \u001b[0;36m2\u001b[0m\u001b[0;34m\u001b[0m\u001b[0;34m\u001b[0m\u001b[0m\n",
      "\u001b[0m\n",
      "--KeyboardInterrupt--\n",
      "\n",
      "KeyboardInterrupt: Interrupted by user\n"
     ]
    }
   ],
   "source": [
    "import torch\n",
    "import pdb\n",
    "\n",
    "x = torch.randn(5, 3)\n",
    "pdb.set_trace()  # Sets a breakpoint\n",
    "y = x * 2"
   ]
  },
  {
   "cell_type": "markdown",
   "id": "4b03e218",
   "metadata": {},
   "source": [
    "## 3. Visualizing the Computation Graph\n",
    "\n",
    "Tools like TensorBoard to visualize the computation graph and track the flow of tensors.\n"
   ]
  },
  {
   "cell_type": "code",
   "execution_count": null,
   "id": "08069750",
   "metadata": {},
   "outputs": [],
   "source": [
    "from torch.utils.tensorboard import SummaryWriter\n",
    "import torch.nn as nn\n",
    "\n",
    "writer = SummaryWriter()\n",
    "\n",
    "model = nn.Sequential(nn.Linear(10, 5), nn.ReLU(), nn.Linear(5, 2))\n",
    "input_tensor = torch.randn(1, 10)\n",
    "writer.add_graph(model, input_tensor)\n",
    "writer.close()\n"
   ]
  },
  {
   "cell_type": "markdown",
   "id": "730999b6",
   "metadata": {},
   "source": [
    "## 4. Checking for NaN and Inf Values\n",
    "\n",
    "Detect NaN or Inf values in tensors, which can indicate numerical instability."
   ]
  },
  {
   "cell_type": "code",
   "execution_count": 3,
   "id": "e5de5d9d",
   "metadata": {},
   "outputs": [
    {
     "name": "stdout",
     "output_type": "stream",
     "text": [
      "tensor([False,  True, False]) tensor([False, False,  True])\n"
     ]
    }
   ],
   "source": [
    "x = torch.tensor([1.0, float('nan'), float('inf')])\n",
    "print(torch.isnan(x), torch.isinf(x))\n"
   ]
  },
  {
   "cell_type": "markdown",
   "id": "21f5f78c",
   "metadata": {},
   "source": [
    "## 5. Using Assertion Statements\n",
    "\n",
    "Assert conditions to ensure variables have expected values or shapes.\n",
    "Example:"
   ]
  },
  {
   "cell_type": "code",
   "execution_count": 4,
   "id": "16c54129",
   "metadata": {},
   "outputs": [],
   "source": [
    "x = torch.randn(5, 3)\n",
    "assert x.shape[0] == 5, \"Expected 5 rows\""
   ]
  },
  {
   "cell_type": "markdown",
   "id": "d3ba7a10",
   "metadata": {},
   "source": [
    "## 6. Gradient Checking\n",
    "\n",
    "Verify gradients manually to check for correct backpropagation.\n"
   ]
  },
  {
   "cell_type": "code",
   "execution_count": 5,
   "id": "f571347f",
   "metadata": {},
   "outputs": [
    {
     "name": "stdout",
     "output_type": "stream",
     "text": [
      "tensor([[2., 2., 2.],\n",
      "        [2., 2., 2.],\n",
      "        [2., 2., 2.],\n",
      "        [2., 2., 2.],\n",
      "        [2., 2., 2.]])\n"
     ]
    }
   ],
   "source": [
    "x = torch.randn(5, 3, requires_grad = True)\n",
    "y = x * 2 \n",
    "y.backward(torch.ones_like(x))\n",
    "print(x.grad)"
   ]
  },
  {
   "cell_type": "code",
   "execution_count": null,
   "id": "dd87a3d9",
   "metadata": {},
   "outputs": [],
   "source": []
  }
 ],
 "metadata": {
  "kernelspec": {
   "display_name": "Python 3 (ipykernel)",
   "language": "python",
   "name": "python3"
  },
  "language_info": {
   "codemirror_mode": {
    "name": "ipython",
    "version": 3
   },
   "file_extension": ".py",
   "mimetype": "text/x-python",
   "name": "python",
   "nbconvert_exporter": "python",
   "pygments_lexer": "ipython3",
   "version": "3.9.7"
  }
 },
 "nbformat": 4,
 "nbformat_minor": 5
}
