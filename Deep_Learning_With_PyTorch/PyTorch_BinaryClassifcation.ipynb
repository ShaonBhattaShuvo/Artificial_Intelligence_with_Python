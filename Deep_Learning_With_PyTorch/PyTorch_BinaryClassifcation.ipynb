{
 "cells": [
  {
   "cell_type": "code",
   "execution_count": 1,
   "id": "28232394",
   "metadata": {},
   "outputs": [],
   "source": [
    "import numpy as np\n",
    "import torch\n",
    "from torch import nn, optim\n",
    "from torch.utils.data import TensorDataset, DataLoader, random_split"
   ]
  },
  {
   "cell_type": "code",
   "execution_count": 2,
   "id": "2e560eea",
   "metadata": {},
   "outputs": [],
   "source": [
    "#create a dataset\n",
    "import sklearn.datasets as skd\n",
    "X, y = skd.make_circles(n_samples=100, shuffle=True, noise=None, random_state=None, factor=0.6)"
   ]
  },
  {
   "cell_type": "code",
   "execution_count": 3,
   "id": "f3feeacb",
   "metadata": {},
   "outputs": [
    {
     "data": {
      "text/plain": [
       "(array([0, 1]), array([50, 50]))"
      ]
     },
     "execution_count": 3,
     "metadata": {},
     "output_type": "execute_result"
    }
   ],
   "source": [
    "#finding the number of unique classes and samples\n",
    "unique, counts = np.unique(y, return_counts = True)\n",
    "unique, counts"
   ]
  },
  {
   "cell_type": "code",
   "execution_count": 4,
   "id": "1c0b7442",
   "metadata": {},
   "outputs": [
    {
     "data": {
      "image/png": "[encoded data removed]",
      "text/plain": [
       "<Figure size 300x300 with 1 Axes>"
      ]
     },
     "metadata": {},
     "output_type": "display_data"
    }
   ],
   "source": [
    "import matplotlib.pyplot as plt\n",
    "#Visualising the dataset\n",
    "plt.figure(figsize = (3, 3))\n",
    "plt.plot(X[:, 0][y == 0], X[:, 1][y == 0], 'g^', label='Class: 0')\n",
    "plt.plot(X[:, 0][y == 1], X[:, 1][y == 1], 'ro' , label=\"Class: 1\")\n",
    "plt.title(\"Visualizing the synthetic dataset of class 1 and 0\")\n",
    "plt.xlabel(\"X1\")\n",
    "plt.ylabel(\"X2\")\n",
    "plt.legend()\n",
    "plt.show()"
   ]
  },
  {
   "cell_type": "code",
   "execution_count": 5,
   "id": "9803bc6b",
   "metadata": {},
   "outputs": [],
   "source": [
    "#converting the datset into tensor dataset\n",
    "inputs = torch.tensor(X, dtype = torch.float32)\n",
    "targets = torch.tensor(y)\n",
    "dataset = TensorDataset(inputs, targets)"
   ]
  },
  {
   "cell_type": "code",
   "execution_count": 6,
   "id": "3067495b",
   "metadata": {},
   "outputs": [
    {
     "data": {
      "text/plain": [
       "(2, 2)"
      ]
     },
     "execution_count": 6,
     "metadata": {},
     "output_type": "execute_result"
    }
   ],
   "source": [
    "#train, test and validation set foramtion\n",
    "train_ratio = 0.7\n",
    "val_ratio = 0.2\n",
    "test_ratio = 0.1\n",
    "\n",
    "total_size = len(dataset)\n",
    "train_size = int(train_ratio * total_size)\n",
    "test_size = int(test_ratio * total_size)\n",
    "val_size = int(val_ratio * total_size)\n",
    "\n",
    "train_dataset, val_dataset, test_dataset = random_split(dataset, [train_size, val_size, test_size])\n",
    "\n",
    "#finding the number of features in dataset\n",
    "data, label = next(iter(train_dataset))\n",
    "n_features = data.shape[0]\n",
    "n_targets = len(torch.unique(targets, return_counts = True))\n",
    "n_features, n_targets"
   ]
  },
  {
   "cell_type": "code",
   "execution_count": 24,
   "id": "f5a29efa",
   "metadata": {},
   "outputs": [],
   "source": [
    "#Define the neural network for classifier\n",
    "class BinaryClassification(nn.Module):\n",
    "    def __init__(self, n_inputs, n_outputs):\n",
    "        super(BinaryClassification, self).__init__()\n",
    "        self.fc1 = nn.Linear(n_inputs, 100)\n",
    "        self.relu = nn.ReLU()\n",
    "        self.sig = nn.Sigmoid()\n",
    "        self.fc2 = nn.Linear(100, 200)\n",
    "        self.fc3 = nn.Linear(200, 100)\n",
    "        self.fc4 = nn.Linear(100, n_outputs)\n",
    "    \n",
    "    def forward(self, x):\n",
    "        x = self.relu(self.fc1(x))\n",
    "        x = self.relu(self.fc2(x))\n",
    "        x = self.relu(self.fc3(x))\n",
    "        x = self.fc4(x)\n",
    "    \n",
    "        return x\n",
    "        "
   ]
  },
  {
   "cell_type": "code",
   "execution_count": 25,
   "id": "ea8028df",
   "metadata": {},
   "outputs": [],
   "source": [
    "#Creating the model and loss optimzer\n",
    "model = BinaryClassification(n_inputs = 2, n_outputs = 2)\n",
    "optimizer = optim.SGD(model.parameters(), lr = 0.01)\n",
    "criterion = nn.CrossEntropyLoss()"
   ]
  },
  {
   "cell_type": "code",
   "execution_count": 26,
   "id": "e056e620",
   "metadata": {},
   "outputs": [],
   "source": [
    "#Batch processing for training, validation and testset\n",
    "train_loader = DataLoader(train_dataset, batch_size = 10, shuffle = True)\n",
    "val_loader = DataLoader(val_dataset, batch_size = 10, shuffle = False)\n",
    "test_loader = DataLoader(test_dataset, batch_size = 10, shuffle = False)"
   ]
  },
  {
   "cell_type": "code",
   "execution_count": 27,
   "id": "2e9f6759",
   "metadata": {},
   "outputs": [],
   "source": [
    "#function to compute the accuracy\n",
    "def compute_accuracy(model, data_loader):\n",
    "    model.eval() #set the model to evaluation mode\n",
    "    correct = 0\n",
    "    total = 0\n",
    "    with torch.no_grad(): #Do not need to calculate gradient as its not training, would make the execution faster\n",
    "        for data, labels in data_loader: #take a batch at a time\n",
    "            output = model(data)\n",
    "            _, predicted = torch.max(output, 1) # (output, 1 -indicate columns) return max_value, index (we only need the index)\n",
    "            total += labels.size(0)  #gives the number of labels in the batch, which is added to total to keep track of the total number of evaluated samples.\n",
    "            correct += (predicted == labels).sum().item() #sum() counts the number of True values, which is the number of correct predictions in the batch; \n",
    "                                                          #item() converts the result to a Python integer, which is added to the correct counter.\n",
    "        return 100 * correct/total\n"
   ]
  },
  {
   "cell_type": "code",
   "execution_count": 28,
   "id": "6a7037cd",
   "metadata": {},
   "outputs": [
    {
     "name": "stdout",
     "output_type": "stream",
     "text": [
      "Epoch 1, Trainning Loss: 0.70, Validation Loss:  0.69, Train Accuracy:  40.00, Val Accuracy:  45.00\n",
      "Epoch 2, Trainning Loss: 0.69, Validation Loss:  0.69, Train Accuracy:  45.71, Val Accuracy:  50.00\n",
      "Epoch 3, Trainning Loss: 0.69, Validation Loss:  0.69, Train Accuracy:  50.00, Val Accuracy:  50.00\n",
      "Epoch 4, Trainning Loss: 0.69, Validation Loss:  0.69, Train Accuracy:  52.86, Val Accuracy:  50.00\n",
      "Epoch 5, Trainning Loss: 0.69, Validation Loss:  0.69, Train Accuracy:  55.71, Val Accuracy:  60.00\n",
      "Epoch 6, Trainning Loss: 0.69, Validation Loss:  0.69, Train Accuracy:  57.14, Val Accuracy:  60.00\n",
      "Epoch 7, Trainning Loss: 0.69, Validation Loss:  0.69, Train Accuracy:  58.57, Val Accuracy:  60.00\n",
      "Epoch 8, Trainning Loss: 0.69, Validation Loss:  0.69, Train Accuracy:  60.00, Val Accuracy:  60.00\n",
      "Epoch 9, Trainning Loss: 0.69, Validation Loss:  0.69, Train Accuracy:  62.86, Val Accuracy:  60.00\n",
      "Epoch 10, Trainning Loss: 0.69, Validation Loss:  0.69, Train Accuracy:  64.29, Val Accuracy:  60.00\n",
      "Epoch 11, Trainning Loss: 0.69, Validation Loss:  0.69, Train Accuracy:  64.29, Val Accuracy:  60.00\n",
      "Epoch 12, Trainning Loss: 0.69, Validation Loss:  0.69, Train Accuracy:  67.14, Val Accuracy:  55.00\n",
      "Epoch 13, Trainning Loss: 0.69, Validation Loss:  0.69, Train Accuracy:  65.71, Val Accuracy:  55.00\n",
      "Epoch 14, Trainning Loss: 0.69, Validation Loss:  0.69, Train Accuracy:  65.71, Val Accuracy:  55.00\n",
      "Epoch 15, Trainning Loss: 0.69, Validation Loss:  0.69, Train Accuracy:  67.14, Val Accuracy:  55.00\n",
      "Epoch 16, Trainning Loss: 0.69, Validation Loss:  0.69, Train Accuracy:  68.57, Val Accuracy:  55.00\n",
      "Epoch 17, Trainning Loss: 0.69, Validation Loss:  0.69, Train Accuracy:  70.00, Val Accuracy:  60.00\n",
      "Epoch 18, Trainning Loss: 0.69, Validation Loss:  0.69, Train Accuracy:  71.43, Val Accuracy:  60.00\n",
      "Epoch 19, Trainning Loss: 0.69, Validation Loss:  0.69, Train Accuracy:  72.86, Val Accuracy:  60.00\n",
      "Epoch 20, Trainning Loss: 0.69, Validation Loss:  0.69, Train Accuracy:  74.29, Val Accuracy:  60.00\n",
      "Epoch 21, Trainning Loss: 0.69, Validation Loss:  0.69, Train Accuracy:  75.71, Val Accuracy:  65.00\n",
      "Epoch 22, Trainning Loss: 0.68, Validation Loss:  0.69, Train Accuracy:  77.14, Val Accuracy:  70.00\n",
      "Epoch 23, Trainning Loss: 0.68, Validation Loss:  0.69, Train Accuracy:  77.14, Val Accuracy:  70.00\n",
      "Epoch 24, Trainning Loss: 0.68, Validation Loss:  0.69, Train Accuracy:  78.57, Val Accuracy:  75.00\n",
      "Epoch 25, Trainning Loss: 0.68, Validation Loss:  0.69, Train Accuracy:  80.00, Val Accuracy:  75.00\n",
      "Epoch 26, Trainning Loss: 0.68, Validation Loss:  0.69, Train Accuracy:  80.00, Val Accuracy:  70.00\n",
      "Epoch 27, Trainning Loss: 0.68, Validation Loss:  0.69, Train Accuracy:  80.00, Val Accuracy:  70.00\n",
      "Epoch 28, Trainning Loss: 0.68, Validation Loss:  0.68, Train Accuracy:  80.00, Val Accuracy:  65.00\n",
      "Epoch 29, Trainning Loss: 0.68, Validation Loss:  0.68, Train Accuracy:  80.00, Val Accuracy:  70.00\n",
      "Epoch 30, Trainning Loss: 0.68, Validation Loss:  0.68, Train Accuracy:  80.00, Val Accuracy:  75.00\n",
      "Epoch 31, Trainning Loss: 0.68, Validation Loss:  0.68, Train Accuracy:  80.00, Val Accuracy:  70.00\n",
      "Epoch 32, Trainning Loss: 0.68, Validation Loss:  0.68, Train Accuracy:  80.00, Val Accuracy:  75.00\n",
      "Epoch 33, Trainning Loss: 0.68, Validation Loss:  0.68, Train Accuracy:  80.00, Val Accuracy:  75.00\n",
      "Epoch 34, Trainning Loss: 0.68, Validation Loss:  0.68, Train Accuracy:  80.00, Val Accuracy:  75.00\n",
      "Epoch 35, Trainning Loss: 0.68, Validation Loss:  0.68, Train Accuracy:  81.43, Val Accuracy:  75.00\n",
      "Epoch 36, Trainning Loss: 0.68, Validation Loss:  0.68, Train Accuracy:  81.43, Val Accuracy:  75.00\n",
      "Epoch 37, Trainning Loss: 0.68, Validation Loss:  0.68, Train Accuracy:  81.43, Val Accuracy:  75.00\n",
      "Epoch 38, Trainning Loss: 0.68, Validation Loss:  0.68, Train Accuracy:  81.43, Val Accuracy:  75.00\n",
      "Epoch 39, Trainning Loss: 0.68, Validation Loss:  0.68, Train Accuracy:  82.86, Val Accuracy:  75.00\n",
      "Epoch 40, Trainning Loss: 0.68, Validation Loss:  0.68, Train Accuracy:  82.86, Val Accuracy:  75.00\n",
      "Epoch 41, Trainning Loss: 0.68, Validation Loss:  0.68, Train Accuracy:  82.86, Val Accuracy:  75.00\n",
      "Epoch 42, Trainning Loss: 0.68, Validation Loss:  0.68, Train Accuracy:  82.86, Val Accuracy:  75.00\n",
      "Epoch 43, Trainning Loss: 0.67, Validation Loss:  0.68, Train Accuracy:  82.86, Val Accuracy:  75.00\n",
      "Epoch 44, Trainning Loss: 0.67, Validation Loss:  0.68, Train Accuracy:  82.86, Val Accuracy:  75.00\n",
      "Epoch 45, Trainning Loss: 0.67, Validation Loss:  0.68, Train Accuracy:  84.29, Val Accuracy:  80.00\n",
      "Epoch 46, Trainning Loss: 0.67, Validation Loss:  0.68, Train Accuracy:  84.29, Val Accuracy:  75.00\n",
      "Epoch 47, Trainning Loss: 0.67, Validation Loss:  0.68, Train Accuracy:  84.29, Val Accuracy:  75.00\n",
      "Epoch 48, Trainning Loss: 0.67, Validation Loss:  0.68, Train Accuracy:  82.86, Val Accuracy:  75.00\n",
      "Epoch 49, Trainning Loss: 0.67, Validation Loss:  0.68, Train Accuracy:  84.29, Val Accuracy:  80.00\n",
      "Epoch 50, Trainning Loss: 0.67, Validation Loss:  0.67, Train Accuracy:  85.71, Val Accuracy:  80.00\n",
      "Epoch 51, Trainning Loss: 0.67, Validation Loss:  0.67, Train Accuracy:  85.71, Val Accuracy:  80.00\n",
      "Epoch 52, Trainning Loss: 0.67, Validation Loss:  0.67, Train Accuracy:  85.71, Val Accuracy:  80.00\n",
      "Epoch 53, Trainning Loss: 0.67, Validation Loss:  0.67, Train Accuracy:  85.71, Val Accuracy:  80.00\n",
      "Epoch 54, Trainning Loss: 0.67, Validation Loss:  0.67, Train Accuracy:  85.71, Val Accuracy:  80.00\n",
      "Epoch 55, Trainning Loss: 0.67, Validation Loss:  0.67, Train Accuracy:  85.71, Val Accuracy:  80.00\n",
      "Epoch 56, Trainning Loss: 0.67, Validation Loss:  0.67, Train Accuracy:  85.71, Val Accuracy:  80.00\n",
      "Epoch 57, Trainning Loss: 0.67, Validation Loss:  0.67, Train Accuracy:  85.71, Val Accuracy:  80.00\n",
      "Epoch 58, Trainning Loss: 0.67, Validation Loss:  0.67, Train Accuracy:  85.71, Val Accuracy:  80.00\n",
      "Epoch 59, Trainning Loss: 0.67, Validation Loss:  0.67, Train Accuracy:  85.71, Val Accuracy:  80.00\n",
      "Epoch 60, Trainning Loss: 0.67, Validation Loss:  0.67, Train Accuracy:  85.71, Val Accuracy:  80.00\n",
      "Epoch 61, Trainning Loss: 0.66, Validation Loss:  0.67, Train Accuracy:  85.71, Val Accuracy:  80.00\n",
      "Epoch 62, Trainning Loss: 0.66, Validation Loss:  0.67, Train Accuracy:  85.71, Val Accuracy:  80.00\n",
      "Epoch 63, Trainning Loss: 0.66, Validation Loss:  0.67, Train Accuracy:  87.14, Val Accuracy:  85.00\n",
      "Epoch 64, Trainning Loss: 0.66, Validation Loss:  0.67, Train Accuracy:  87.14, Val Accuracy:  85.00\n",
      "Epoch 65, Trainning Loss: 0.66, Validation Loss:  0.67, Train Accuracy:  87.14, Val Accuracy:  85.00\n",
      "Epoch 66, Trainning Loss: 0.66, Validation Loss:  0.67, Train Accuracy:  87.14, Val Accuracy:  85.00\n",
      "Epoch 67, Trainning Loss: 0.66, Validation Loss:  0.66, Train Accuracy:  87.14, Val Accuracy:  85.00\n",
      "Epoch 68, Trainning Loss: 0.66, Validation Loss:  0.66, Train Accuracy:  87.14, Val Accuracy:  85.00\n",
      "Epoch 69, Trainning Loss: 0.66, Validation Loss:  0.66, Train Accuracy:  87.14, Val Accuracy:  85.00\n",
      "Epoch 70, Trainning Loss: 0.66, Validation Loss:  0.66, Train Accuracy:  87.14, Val Accuracy:  85.00\n",
      "Epoch 71, Trainning Loss: 0.66, Validation Loss:  0.66, Train Accuracy:  87.14, Val Accuracy:  85.00\n",
      "Epoch 72, Trainning Loss: 0.66, Validation Loss:  0.66, Train Accuracy:  87.14, Val Accuracy:  85.00\n",
      "Epoch 73, Trainning Loss: 0.66, Validation Loss:  0.66, Train Accuracy:  87.14, Val Accuracy:  85.00\n",
      "Epoch 74, Trainning Loss: 0.65, Validation Loss:  0.66, Train Accuracy:  88.57, Val Accuracy:  85.00\n",
      "Epoch 75, Trainning Loss: 0.66, Validation Loss:  0.66, Train Accuracy:  88.57, Val Accuracy:  85.00\n",
      "Epoch 76, Trainning Loss: 0.65, Validation Loss:  0.66, Train Accuracy:  88.57, Val Accuracy:  85.00\n",
      "Epoch 77, Trainning Loss: 0.65, Validation Loss:  0.66, Train Accuracy:  88.57, Val Accuracy:  85.00\n",
      "Epoch 78, Trainning Loss: 0.65, Validation Loss:  0.66, Train Accuracy:  90.00, Val Accuracy:  85.00\n",
      "Epoch 79, Trainning Loss: 0.65, Validation Loss:  0.66, Train Accuracy:  90.00, Val Accuracy:  85.00\n",
      "Epoch 80, Trainning Loss: 0.65, Validation Loss:  0.66, Train Accuracy:  90.00, Val Accuracy:  85.00\n",
      "Epoch 81, Trainning Loss: 0.65, Validation Loss:  0.65, Train Accuracy:  90.00, Val Accuracy:  85.00\n",
      "Epoch 82, Trainning Loss: 0.65, Validation Loss:  0.65, Train Accuracy:  90.00, Val Accuracy:  85.00\n",
      "Epoch 83, Trainning Loss: 0.65, Validation Loss:  0.65, Train Accuracy:  91.43, Val Accuracy:  85.00\n",
      "Epoch 84, Trainning Loss: 0.64, Validation Loss:  0.65, Train Accuracy:  92.86, Val Accuracy:  85.00\n",
      "Epoch 85, Trainning Loss: 0.64, Validation Loss:  0.65, Train Accuracy:  92.86, Val Accuracy:  90.00\n",
      "Epoch 86, Trainning Loss: 0.64, Validation Loss:  0.65, Train Accuracy:  91.43, Val Accuracy:  85.00\n",
      "Epoch 87, Trainning Loss: 0.64, Validation Loss:  0.65, Train Accuracy:  92.86, Val Accuracy:  85.00\n",
      "Epoch 88, Trainning Loss: 0.64, Validation Loss:  0.65, Train Accuracy:  92.86, Val Accuracy:  85.00\n",
      "Epoch 89, Trainning Loss: 0.64, Validation Loss:  0.65, Train Accuracy:  92.86, Val Accuracy:  85.00\n",
      "Epoch 90, Trainning Loss: 0.64, Validation Loss:  0.64, Train Accuracy:  94.29, Val Accuracy:  90.00\n",
      "Epoch 91, Trainning Loss: 0.64, Validation Loss:  0.64, Train Accuracy:  94.29, Val Accuracy:  90.00\n",
      "Epoch 92, Trainning Loss: 0.64, Validation Loss:  0.64, Train Accuracy:  95.71, Val Accuracy:  90.00\n",
      "Epoch 93, Trainning Loss: 0.63, Validation Loss:  0.64, Train Accuracy:  95.71, Val Accuracy:  95.00\n",
      "Epoch 94, Trainning Loss: 0.63, Validation Loss:  0.64, Train Accuracy:  95.71, Val Accuracy:  95.00\n"
     ]
    },
    {
     "name": "stdout",
     "output_type": "stream",
     "text": [
      "Epoch 95, Trainning Loss: 0.63, Validation Loss:  0.64, Train Accuracy:  95.71, Val Accuracy:  95.00\n",
      "Epoch 96, Trainning Loss: 0.63, Validation Loss:  0.64, Train Accuracy:  95.71, Val Accuracy:  95.00\n",
      "Epoch 97, Trainning Loss: 0.63, Validation Loss:  0.64, Train Accuracy:  95.71, Val Accuracy:  95.00\n",
      "Epoch 98, Trainning Loss: 0.63, Validation Loss:  0.63, Train Accuracy:  95.71, Val Accuracy:  95.00\n",
      "Epoch 99, Trainning Loss: 0.63, Validation Loss:  0.63, Train Accuracy:  97.14, Val Accuracy:  95.00\n",
      "Epoch 100, Trainning Loss: 0.62, Validation Loss:  0.63, Train Accuracy:  97.14, Val Accuracy:  95.00\n"
     ]
    }
   ],
   "source": [
    "# Lists to store loss and accuracy for each epoch\n",
    "train_losses = []\n",
    "train_accuracies = []\n",
    "val_losses = []\n",
    "val_accuracies = []\n",
    "\n",
    "#trinning loop\n",
    "for epoch in range(100):\n",
    "    model.train() #set the model to training mode\n",
    "    running_loss = 0.0\n",
    "    for data, labels in train_loader:\n",
    "        optimizer.zero_grad() #clear the grading for each batch\n",
    "        output = model(data) #forward pass\n",
    "        loss = criterion(output, labels) #calculating the loss for the batch\n",
    "        loss.backward() #backpropagation\n",
    "        optimizer.step() #update the models weight\n",
    "        running_loss += loss.item() #adding the batch loss to total loss\n",
    "        \n",
    "    #calulating average training loss and accuracy\n",
    "    avg_train_loss = running_loss / len(train_loader)\n",
    "    train_accuracy = compute_accuracy(model, train_loader)\n",
    "    \n",
    "    #validation loop\n",
    "    model.eval()\n",
    "    running_val_loss = 0.0\n",
    "    with torch.no_grad():\n",
    "        for data, labels in val_loader:\n",
    "            output = model(data)\n",
    "            loss = criterion(output, labels)\n",
    "            running_val_loss += loss.item()\n",
    "\n",
    "    avg_val_loss = running_val_loss / len(val_loader)\n",
    "    val_accuracy = compute_accuracy(model, val_loader)\n",
    "    \n",
    "    #appending the current value to the list\n",
    "    train_losses.append(avg_train_loss)\n",
    "    val_losses.append(avg_val_loss)\n",
    "    train_accuracies.append(train_accuracy)\n",
    "    val_accuracies.append(val_accuracy)\n",
    "    \n",
    "    print(f\"Epoch {epoch +1}, Trainning Loss:{avg_train_loss: .2f}, Validation Loss: {avg_val_loss: .2f}, Train Accuracy: {train_accuracy: .2f}, Val Accuracy: {val_accuracy: .2f}\")\n",
    "        \n",
    "        \n"
   ]
  },
  {
   "cell_type": "code",
   "execution_count": null,
   "id": "a2f70ce7",
   "metadata": {},
   "outputs": [],
   "source": []
  },
  {
   "cell_type": "code",
   "execution_count": null,
   "id": "c7097fae",
   "metadata": {},
   "outputs": [],
   "source": []
  }
 ],
 "metadata": {
  "kernelspec": {
   "display_name": "Python 3 (ipykernel)",
   "language": "python",
   "name": "python3"
  },
  "language_info": {
   "codemirror_mode": {
    "name": "ipython",
    "version": 3
   },
   "file_extension": ".py",
   "mimetype": "text/x-python",
   "name": "python",
   "nbconvert_exporter": "python",
   "pygments_lexer": "ipython3",
   "version": "3.9.7"
  }
 },
 "nbformat": 4,
 "nbformat_minor": 5
}
