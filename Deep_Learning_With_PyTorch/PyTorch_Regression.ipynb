{
 "cells": [
  {
   "cell_type": "code",
   "execution_count": 81,
   "id": "c8e52ff6",
   "metadata": {},
   "outputs": [],
   "source": [
    "import numpy as np\n",
    "import torch\n",
    "from torch import nn, optim\n",
    "from torch.utils.data import TensorDataset, DataLoader, random_split\n",
    "import sklearn.datasets as skd\n",
    "from sklearn.model_selection import train_test_split\n",
    "import matplotlib.pyplot as plt"
   ]
  },
  {
   "cell_type": "code",
   "execution_count": 82,
   "id": "06b64ccf",
   "metadata": {},
   "outputs": [],
   "source": [
    "#Generating synthetic dataset \n",
    "X,y = skd.make_regression(n_samples=100, n_features=1, n_targets=1, bias=0.5, noise=5.5, random_state=42)"
   ]
  },
  {
   "cell_type": "code",
   "execution_count": 83,
   "id": "0298cb09",
   "metadata": {},
   "outputs": [
    {
     "data": {
      "image/png": "[encoded data removed]",
      "text/plain": [
       "<Figure size 500x300 with 1 Axes>"
      ]
     },
     "metadata": {},
     "output_type": "display_data"
    }
   ],
   "source": [
    "plt.figure(figsize = (5,3))\n",
    "plt.style.use('ggplot')\n",
    "plt.scatter(X[:,0], y, color='red', edgecolor='green')\n",
    "#plt.scatter(X[:,1], y)\n",
    "plt.title('Synthetics Dataset')\n",
    "plt.xlabel('X')\n",
    "plt.ylabel('y')\n",
    "plt.show()"
   ]
  },
  {
   "cell_type": "code",
   "execution_count": 84,
   "id": "ea38734c",
   "metadata": {},
   "outputs": [],
   "source": [
    "#preparing the Tensor dataset\n",
    "inputs = torch.tensor(X, dtype=torch.float32)\n",
    "targets = torch.tensor(y, dtype = torch.float32)\n",
    "dataset = TensorDataset(inputs, targets)"
   ]
  },
  {
   "cell_type": "code",
   "execution_count": 85,
   "id": "fbcd2fc8",
   "metadata": {},
   "outputs": [
    {
     "name": "stdout",
     "output_type": "stream",
     "text": [
      "torch.Size([1]) torch.Size([])\n"
     ]
    }
   ],
   "source": [
    "#train, test and validation set formation\n",
    "train_ratio = 0.7\n",
    "val_ratio = 0.2\n",
    "test_ratio = 0.1\n",
    "\n",
    "dataset_size = int(len(dataset))\n",
    "train_size = int(train_ratio * dataset_size)\n",
    "test_size = int(test_ratio * dataset_size)\n",
    "val_size = int(val_ratio * dataset_size)\n",
    "\n",
    "train_dataset, val_dataset, test_dataset = random_split(dataset, [train_size, val_size, test_size])\n",
    "\n",
    "#finding the shape of the dataset\n",
    "data, label = next(iter(train_dataset))\n",
    "\n",
    "print(data.shape, label.shape)"
   ]
  },
  {
   "cell_type": "code",
   "execution_count": 86,
   "id": "c496f056",
   "metadata": {},
   "outputs": [],
   "source": [
    "#Define the Neural Network for Regression\n",
    "class Regression(nn.Module):\n",
    "    def __init__(self, n_inputs, n_outputs):\n",
    "        super(Regression, self).__init__()\n",
    "        self.fc1 = nn.Linear(n_inputs, 50)\n",
    "        self.tanh = nn.Tanh()\n",
    "        self.fc2 = nn.Linear(50, 100)\n",
    "        self.fc3 = nn.Linear(100, 50)\n",
    "        self.fc4 = nn.Linear(50, n_outputs)\n",
    "        \n",
    "    def forward(self, x):\n",
    "        x = self.tanh(self.fc1(x))\n",
    "        x = self.tanh(self.fc2(x))\n",
    "        x = self.tanh(self.fc3(x))\n",
    "        x = self.fc4(x)\n",
    "        return x"
   ]
  },
  {
   "cell_type": "code",
   "execution_count": 87,
   "id": "ce869b25",
   "metadata": {},
   "outputs": [],
   "source": [
    "#Creating the model, loss function and optimizer\n",
    "model = Regression(n_inputs = 1, n_outputs=1)\n",
    "optimizer = optim.SGD(model.parameters(), lr = 0.01)\n",
    "criterion = nn.MSELoss()"
   ]
  },
  {
   "cell_type": "code",
   "execution_count": 88,
   "id": "5d01cc7c",
   "metadata": {},
   "outputs": [],
   "source": [
    "#Batch processing the training, validation and testsets\n",
    "train_loader = DataLoader(train_dataset, batch_size = 10, shuffle = True)\n",
    "val_loader = DataLoader(val_dataset, batch_size = 10)\n",
    "test_loader = DataLoader(test_dataset, batch_size = 10)"
   ]
  },
  {
   "cell_type": "code",
   "execution_count": 89,
   "id": "b1cdcbec",
   "metadata": {},
   "outputs": [
    {
     "name": "stderr",
     "output_type": "stream",
     "text": [
      "/opt/anaconda3/lib/python3.9/site-packages/torch/nn/modules/loss.py:529: UserWarning: Using a target size (torch.Size([10])) that is different to the input size (torch.Size([10, 1])). This will likely lead to incorrect results due to broadcasting. Please ensure they have the same size.\n",
      "  return F.mse_loss(input, target, reduction=self.reduction)\n"
     ]
    },
    {
     "name": "stdout",
     "output_type": "stream",
     "text": [
      "Epoch: 1, Average Loss = 154.94244384765625\n",
      "Epoch: 2, Average Loss = 153.02909502301898\n",
      "Epoch: 3, Average Loss = 155.31119210379464\n",
      "Epoch: 4, Average Loss = 152.6264892578125\n",
      "Epoch: 5, Average Loss = 153.30104108537947\n",
      "Epoch: 6, Average Loss = 152.66134207589286\n",
      "Epoch: 7, Average Loss = 152.48053850446428\n",
      "Epoch: 8, Average Loss = 152.4990025111607\n",
      "Epoch: 9, Average Loss = 151.99769723074778\n",
      "Epoch: 10, Average Loss = 151.78092912946428\n",
      "Epoch: 11, Average Loss = 151.58538033621653\n",
      "Epoch: 12, Average Loss = 153.19988577706474\n",
      "Epoch: 13, Average Loss = 152.24407043457032\n",
      "Epoch: 14, Average Loss = 151.65923549107143\n",
      "Epoch: 15, Average Loss = 151.85495256696427\n",
      "Epoch: 16, Average Loss = 151.98753574916296\n",
      "Epoch: 17, Average Loss = 152.21349051339286\n",
      "Epoch: 18, Average Loss = 151.6998055594308\n",
      "Epoch: 19, Average Loss = 151.64780796595983\n",
      "Epoch: 20, Average Loss = 149.0534188406808\n",
      "Epoch: 21, Average Loss = 151.86788678850448\n",
      "Epoch: 22, Average Loss = 151.19943062918526\n",
      "Epoch: 23, Average Loss = 150.5291512625558\n",
      "Epoch: 24, Average Loss = 151.6078369140625\n",
      "Epoch: 25, Average Loss = 151.14097377232142\n",
      "Epoch: 26, Average Loss = 151.75880475725447\n",
      "Epoch: 27, Average Loss = 151.83980800083705\n",
      "Epoch: 28, Average Loss = 151.3654061453683\n",
      "Epoch: 29, Average Loss = 151.6064426967076\n",
      "Epoch: 30, Average Loss = 151.31638619559152\n",
      "Epoch: 31, Average Loss = 152.12393624441964\n",
      "Epoch: 32, Average Loss = 150.72069702148437\n",
      "Epoch: 33, Average Loss = 150.81306849888392\n",
      "Epoch: 34, Average Loss = 150.99153791155135\n",
      "Epoch: 35, Average Loss = 151.24263392857142\n",
      "Epoch: 36, Average Loss = 151.5926304408482\n",
      "Epoch: 37, Average Loss = 150.7027090890067\n",
      "Epoch: 38, Average Loss = 149.6241498674665\n",
      "Epoch: 39, Average Loss = 151.8824454171317\n",
      "Epoch: 40, Average Loss = 150.7855259486607\n",
      "Epoch: 41, Average Loss = 151.56231166294643\n",
      "Epoch: 42, Average Loss = 151.30167236328126\n",
      "Epoch: 43, Average Loss = 151.64009137834822\n",
      "Epoch: 44, Average Loss = 151.20287388392856\n",
      "Epoch: 45, Average Loss = 151.08394688197544\n",
      "Epoch: 46, Average Loss = 151.29634573800223\n",
      "Epoch: 47, Average Loss = 151.26002894810267\n",
      "Epoch: 48, Average Loss = 150.15433131626673\n",
      "Epoch: 49, Average Loss = 150.98802490234374\n",
      "Epoch: 50, Average Loss = 150.22640032087054\n",
      "Epoch: 51, Average Loss = 150.69285452706472\n",
      "Epoch: 52, Average Loss = 150.0847176688058\n",
      "Epoch: 53, Average Loss = 151.04661516462053\n",
      "Epoch: 54, Average Loss = 151.58658011300224\n",
      "Epoch: 55, Average Loss = 151.24070521763392\n",
      "Epoch: 56, Average Loss = 151.08221784319196\n",
      "Epoch: 57, Average Loss = 151.07674560546874\n",
      "Epoch: 58, Average Loss = 151.32498822893416\n",
      "Epoch: 59, Average Loss = 151.2488730294364\n",
      "Epoch: 60, Average Loss = 151.1759966169085\n",
      "Epoch: 61, Average Loss = 151.1259286063058\n",
      "Epoch: 62, Average Loss = 150.9221452985491\n",
      "Epoch: 63, Average Loss = 151.12953578404017\n",
      "Epoch: 64, Average Loss = 151.21727033342634\n",
      "Epoch: 65, Average Loss = 151.03820277622768\n",
      "Epoch: 66, Average Loss = 150.59851946149553\n",
      "Epoch: 67, Average Loss = 150.76490391322545\n",
      "Epoch: 68, Average Loss = 150.90654994419643\n",
      "Epoch: 69, Average Loss = 151.37313494001117\n",
      "Epoch: 70, Average Loss = 151.28710065569197\n",
      "Epoch: 71, Average Loss = 151.3647931780134\n",
      "Epoch: 72, Average Loss = 150.37343139648436\n",
      "Epoch: 73, Average Loss = 150.69422869001116\n",
      "Epoch: 74, Average Loss = 150.91776341029575\n",
      "Epoch: 75, Average Loss = 151.36697474888393\n",
      "Epoch: 76, Average Loss = 150.04445277622767\n",
      "Epoch: 77, Average Loss = 151.2321995326451\n",
      "Epoch: 78, Average Loss = 150.39370814732143\n",
      "Epoch: 79, Average Loss = 151.44501342773438\n",
      "Epoch: 80, Average Loss = 151.32886614118303\n",
      "Epoch: 81, Average Loss = 149.69747837611607\n",
      "Epoch: 82, Average Loss = 148.00841413225447\n",
      "Epoch: 83, Average Loss = 150.48514404296876\n",
      "Epoch: 84, Average Loss = 151.80910993303573\n",
      "Epoch: 85, Average Loss = 149.47776750837053\n",
      "Epoch: 86, Average Loss = 151.20406886509485\n",
      "Epoch: 87, Average Loss = 151.37513558523995\n",
      "Epoch: 88, Average Loss = 150.92394845145088\n",
      "Epoch: 89, Average Loss = 151.69779227120534\n",
      "Epoch: 90, Average Loss = 151.1518807547433\n",
      "Epoch: 91, Average Loss = 151.4580505371094\n",
      "Epoch: 92, Average Loss = 150.49154488699776\n",
      "Epoch: 93, Average Loss = 149.82787214006697\n",
      "Epoch: 94, Average Loss = 150.56441301618304\n",
      "Epoch: 95, Average Loss = 151.60571812220982\n",
      "Epoch: 96, Average Loss = 151.21278860909598\n",
      "Epoch: 97, Average Loss = 151.31204136439732\n",
      "Epoch: 98, Average Loss = 151.20531441824778\n",
      "Epoch: 99, Average Loss = 150.5487322126116\n",
      "Epoch: 100, Average Loss = 151.17642124720982\n"
     ]
    }
   ],
   "source": [
    "#List to store training and validation losses and accuracies\n",
    "train_losses = []\n",
    "val_losses = []\n",
    "#train_accuracies = []\n",
    "#val_accuracies = []\n",
    "\n",
    "#Training loop\n",
    "for epoch in range(100):\n",
    "    model.train()\n",
    "    running_loss = 0.0\n",
    "    total = 0\n",
    "    for data, label in train_loader:\n",
    "        optimizer.zero_grad()\n",
    "        output = model(data)\n",
    "        loss = criterion(output, label)\n",
    "        loss.backward()\n",
    "        optimizer.step()\n",
    "        running_loss += loss.item()\n",
    "        total += label.size(0) \n",
    "    avg_loss = running_loss / total\n",
    "    \n",
    "    print(f'Epoch: {epoch + 1}, Average Loss = {avg_loss}')\n",
    "    \n"
   ]
  },
  {
   "cell_type": "code",
   "execution_count": null,
   "id": "70350720",
   "metadata": {},
   "outputs": [],
   "source": []
  }
 ],
 "metadata": {
  "kernelspec": {
   "display_name": "Python 3 (ipykernel)",
   "language": "python",
   "name": "python3"
  },
  "language_info": {
   "codemirror_mode": {
    "name": "ipython",
    "version": 3
   },
   "file_extension": ".py",
   "mimetype": "text/x-python",
   "name": "python",
   "nbconvert_exporter": "python",
   "pygments_lexer": "ipython3",
   "version": "3.9.7"
  }
 },
 "nbformat": 4,
 "nbformat_minor": 5
}
