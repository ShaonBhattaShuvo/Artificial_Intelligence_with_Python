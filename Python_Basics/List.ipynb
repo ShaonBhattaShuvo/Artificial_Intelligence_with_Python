{
 "cells": [
  {
   "cell_type": "markdown",
   "id": "0b46df71",
   "metadata": {},
   "source": [
    "# List Basics"
   ]
  },
  {
   "cell_type": "markdown",
   "id": "cd04d573",
   "metadata": {},
   "source": [
    "Lists in Python are versatile, mutable data structures that can store items of various data types in an ordered sequence. A list can be created by placing all the items (elements) inside square brackets [], separated by commas."
   ]
  },
  {
   "cell_type": "code",
   "execution_count": 1,
   "id": "1256bc99",
   "metadata": {},
   "outputs": [
    {
     "name": "stdout",
     "output_type": "stream",
     "text": [
      "[42, 'Hello', (1, 2, 3), [4, 5, 6], {'key': 'value'}]\n"
     ]
    }
   ],
   "source": [
    "#Creating Lists\n",
    "\n",
    "# An empty list\n",
    "empty_list = []\n",
    "\n",
    "# A list of integers\n",
    "integer_list = [1, 2, 3, 4, 5]\n",
    "\n",
    "# A list of mixed data types\n",
    "mixed_list = [1, \"Hello\", 3.14, True]\n",
    "\n",
    "# A list containing an integer, a string, a tuple, another list, and a dictionary_\n",
    "mixed_list_nested= [42, \"Hello\", (1, 2, 3), [4, 5, 6], {'key': 'value'}]\n",
    "print(mixed_list_nested)"
   ]
  },
  {
   "cell_type": "markdown",
   "id": "8e62d1a6",
   "metadata": {},
   "source": [
    "# Accessing List Elements"
   ]
  },
  {
   "cell_type": "code",
   "execution_count": 2,
   "id": "9ac1785e",
   "metadata": {},
   "outputs": [
    {
     "name": "stdout",
     "output_type": "stream",
     "text": [
      "Alice\n",
      "Charlie\n",
      "2\n",
      "{'key': 'value'}\n"
     ]
    }
   ],
   "source": [
    "# List indexing starts at 0. We can access list items by referring to the index number.\n",
    "\n",
    "names = [\"Alice\", \"Bob\", \"Charlie\"]\n",
    "print(names[0])  # Output: Alice\n",
    "print(names[2])  # Output: Charlie\n",
    "\n",
    "#For nested (detailed in Nexted List section)\n",
    "print(mixed_list_nested[2][1])  # Output: 2\n",
    "print(mixed_list_nested[4])  # Output: key"
   ]
  },
  {
   "cell_type": "code",
   "execution_count": 3,
   "id": "79574974",
   "metadata": {},
   "outputs": [
    {
     "name": "stdout",
     "output_type": "stream",
     "text": [
      "Charlie\n",
      "Alice\n"
     ]
    }
   ],
   "source": [
    "#Negative indexing means beginning from the end of the list. -1 refers to the last item, -2 to the second last, and so on.\n",
    "print(names[-1])  # Output: Charlie\n",
    "print(names[-3])  # Output: Alice"
   ]
  },
  {
   "cell_type": "markdown",
   "id": "e8111471",
   "metadata": {},
   "source": [
    "# Finding the index of an element (returns the fist occurence)\n"
   ]
  },
  {
   "cell_type": "code",
   "execution_count": 4,
   "id": "e231aaa6",
   "metadata": {},
   "outputs": [
    {
     "name": "stdout",
     "output_type": "stream",
     "text": [
      "2\n",
      "1\n"
     ]
    }
   ],
   "source": [
    "numbers = [1, 5, 3, 2, 5]\n",
    "print(numbers.index(3)) #Returns 2\n",
    "print(numbers.index(5)) #Returns 1"
   ]
  },
  {
   "cell_type": "markdown",
   "id": "05c7acf3",
   "metadata": {},
   "source": [
    "# Slicing Lists\n",
    "We can return a specified range of elements in the list by using the slicing operator : , as [start: end(not included)] "
   ]
  },
  {
   "cell_type": "code",
   "execution_count": 5,
   "id": "65b59802",
   "metadata": {},
   "outputs": [
    {
     "name": "stdout",
     "output_type": "stream",
     "text": [
      "[30, 40, 50, 60]\n",
      "[10, 20, 30, 40]\n",
      "[60, 70, 80, 90, 100]\n"
     ]
    }
   ],
   "source": [
    "numbers = [10, 20, 30, 40, 50, 60, 70, 80, 90, 100]\n",
    "\n",
    "# Get items from index 2 to 5\n",
    "print(numbers[2:6])  # Output: [30, 40, 50, 60]\n",
    "\n",
    "# Get items from the beginning to index 3 \n",
    "print(numbers[:4])  # Output: [10, 20, 30, 40]\n",
    "\n",
    "# Get items from index 5 to the end\n",
    "print(numbers[5:])  # Output: [60, 70, 80, 90, 100]"
   ]
  },
  {
   "cell_type": "code",
   "execution_count": 6,
   "id": "543ed6d5",
   "metadata": {},
   "outputs": [
    {
     "name": "stdout",
     "output_type": "stream",
     "text": [
      "[10, 20, 30, 40, 50, 60, 70, 80, 90]\n",
      "[10, 20, 30, 40, 50, 60, 70, 80]\n",
      "[70, 80, 90, 100]\n",
      "[90, 100]\n"
     ]
    }
   ],
   "source": [
    "# We can perform samilar operations using negetive indexing as well\n",
    "\n",
    "# Get all the items except last one\n",
    "print(numbers[:-1])  # Output: [10, 20, 30, 40, 50, 60, 70, 80, 90]\n",
    "# Get all except last two elements\n",
    "print(numbers[:-2])  # Output: [10, 20, 30, 40, 50, 60, 70, 80]\n",
    "\n",
    "# Get last x elements #numbers[-x:]\n",
    "# Get last 4 elements\n",
    "print(numbers[-4:])  # Output: [70, 80, 90, 100]\n",
    "# Get last 4 elements\n",
    "print(numbers[-2:])  # Output: [90, 100]"
   ]
  },
  {
   "cell_type": "markdown",
   "id": "67d91dd0",
   "metadata": {},
   "source": [
    "#Combining Positive and Negative Indexes:\n",
    "\n",
    "We can combine positive and negative indexes to slice sections relative to both ends of the list:"
   ]
  },
  {
   "cell_type": "code",
   "execution_count": 7,
   "id": "a198cc4f",
   "metadata": {},
   "outputs": [
    {
     "name": "stdout",
     "output_type": "stream",
     "text": [
      "[30, 40, 50, 60, 70, 80]\n",
      "[40, 50, 60]\n"
     ]
    }
   ],
   "source": [
    "# Get elements from the third element to the third-last element\n",
    "# numbers[from_first_x_element : to_last_y_elements]\n",
    "print(numbers[2:-2])  # Output: [30, 40, 50, 60, 70, 80]\n",
    "print(numbers[3:-4])  # Output: [40, 50, 60]"
   ]
  },
  {
   "cell_type": "markdown",
   "id": "e3ef03c6",
   "metadata": {},
   "source": [
    "#Reversing a List:\n",
    "Negative slicing can be used to reverse a list when you step through the entire list in reverse order."
   ]
  },
  {
   "cell_type": "code",
   "execution_count": 8,
   "id": "0c109e61",
   "metadata": {},
   "outputs": [
    {
     "name": "stdout",
     "output_type": "stream",
     "text": [
      "[100, 90, 80, 70, 60, 50, 40, 30, 20, 10]\n"
     ]
    }
   ],
   "source": [
    "# Reversing the list using negative stepping\n",
    "print(numbers[::-1])  # Output: [100, 90, 80, 70, 60, 50, 40, 30, 20, 10]"
   ]
  },
  {
   "cell_type": "code",
   "execution_count": 9,
   "id": "7e0f27aa",
   "metadata": {},
   "outputs": [
    {
     "name": "stdout",
     "output_type": "stream",
     "text": [
      "[100, 90, 80]\n",
      "[90, 80, 70, 60]\n",
      "[100, 90]\n",
      "[100, 90, 80, 70, 60]\n",
      "[40, 30, 20, 10]\n",
      "[80, 70, 60, 50, 40, 30, 20, 10]\n"
     ]
    }
   ],
   "source": [
    "# Get the last element to the third-last element\n",
    "print(numbers[-1:-4:-1])  # Output: [100, 90, 80]\n",
    "\n",
    "# Get the second last element to the fifth-last element\n",
    "print(numbers[-2:-6:-1])  # Output: [90, 80, 70, 60]\n",
    "\n",
    "# Get the last two elements in reverse order: (last index - last elements = 9-2 = 7) \n",
    "print(numbers[:7:-1])  # Output: [100, 90]\n",
    "print(numbers[:4:-1])  # Output: [100, 90, 80, 70, 60, 50] #last five elements in reveserse order\n",
    "\n",
    "# Get the first four elements elementin reverse order (-last index - (-first no of elements) -1 = -10 -(-4) -1 = -7\n",
    "print(numbers[-7::-1])  # Output: [100, 90, 80, 70]\n",
    "print(numbers[-3::-1])  # Output: [80, 70, 60, 50, 40, 30, 20, 10]  #first eight elements in reveserse order\n"
   ]
  },
  {
   "cell_type": "markdown",
   "id": "5cb514ac",
   "metadata": {},
   "source": [
    "# Comparing Lists\n",
    "Lists support comparison operations, which are performed with the so-called \"dictionary order\" or \"lexical order.\" First, the item at index zero from each tuple is compared; if they are different, this determines the outcome of the comparison. If they are the same, the items at next index (one)  are compared, and so on.\n",
    "\n",
    "If all the elements are equal up to the length of the shorter list or tuple, then the longer list or tuple is considered larger."
   ]
  },
  {
   "cell_type": "code",
   "execution_count": 10,
   "id": "f17d5bbb",
   "metadata": {},
   "outputs": [
    {
     "name": "stdout",
     "output_type": "stream",
     "text": [
      "False\n",
      "True\n",
      "True\n",
      "True\n"
     ]
    }
   ],
   "source": [
    "list1 = [1, 2, 3]\n",
    "list2 = [1, 1, 4]\n",
    "list3 = [1, 2, 3, 0]\n",
    "list4 = [1, 2, 3]\n",
    "list5 = [2, 1, 1]\n",
    "\n",
    "# Comparing lists element by element\n",
    "print(list1 < list2)  # Output: False, comparison starts with the first element (equal no decision), then next 2 < 1 (which is true) \n",
    "print(list1 < list3)  # Output: True, because list1 ends before list3 and all preceding elements are equal\n",
    "print(list1 == list4) # Output: True, because all corresponding elements are equal\n",
    "print(list1 < list5)  # Output: True, comparison starts with the first element. Since 1 < 2, list_a is less than list_b."
   ]
  },
  {
   "cell_type": "markdown",
   "id": "0569df1c",
   "metadata": {},
   "source": [
    "# Modifying Lists and Common List Methods\n",
    "Lists are mutable, meaning we can change their content."
   ]
  },
  {
   "cell_type": "code",
   "execution_count": 11,
   "id": "5f425be8",
   "metadata": {},
   "outputs": [
    {
     "name": "stdout",
     "output_type": "stream",
     "text": [
      "['apple', 'blueberry', 'cherry']\n",
      "['apple', 'blueberry', 'cherry', 'orange']\n",
      "['apple', 'blueberry', 'cherry', 'orange', 'grape', 'watermelon']\n",
      "['apple', 'banana', 'blueberry', 'cherry', 'orange', 'grape', 'watermelon']\n"
     ]
    }
   ],
   "source": [
    "# Changing an item\n",
    "fruits = [\"apple\", \"banana\", \"cherry\"]\n",
    "fruits[1] = \"blueberry\"\n",
    "print(fruits)  # Output: ['apple', 'blueberry', 'cherry']\n",
    "\n",
    "# Adding an item \n",
    "fruits.append(\"orange\")\n",
    "print(fruits)  # Output: ['apple', 'blueberry', 'cherry', 'orange']\n",
    "\n",
    "# Adding a list of items\n",
    "fruits.extend([\"grape\", \"watermelon\"])\n",
    "print(fruits)  # Output: ['apple', 'blueberry', 'cherry', 'orange', 'grape', 'watermelon']\n",
    "\n",
    "# Inserting at a specific index\n",
    "fruits.insert(1, \"banana\")\n",
    "print(fruits)  # Output: ['apple', 'banana', blueberry', 'cherry', 'orange', 'grape', 'watermelon']"
   ]
  },
  {
   "cell_type": "markdown",
   "id": "870cd941",
   "metadata": {},
   "source": [
    "# Removing Items: \n",
    "Items can be removed from a list using several methods:"
   ]
  },
  {
   "cell_type": "code",
   "execution_count": 12,
   "id": "d0997e74",
   "metadata": {},
   "outputs": [
    {
     "name": "stdout",
     "output_type": "stream",
     "text": [
      "['apple', 'blueberry', 'watermelon', 'cherry']\n",
      "cherry\n",
      "blueberry\n",
      "['apple', 'watermelon']\n",
      "[]\n"
     ]
    }
   ],
   "source": [
    "fruits = [\"apple\", \"banana\", \"blueberry\", \"watermelon\", \"cherry\"]\n",
    "\n",
    "# Removing by value\n",
    "fruits.remove(\"banana\")\n",
    "print(fruits)  # Output: [\"apple\", \"blueberry\", \"watermelon\", \"cherry\"]\n",
    "\n",
    "# Removing by index and getting the item\n",
    "pop_stack = fruits.pop() #remove the last item of the list\n",
    "print(pop_stack) # Output: cherry\n",
    "\n",
    "popped_item = fruits.pop(1) #or we can use del keyword to remove value at specific index:  del fruits[1]\n",
    "print(popped_item)  # Output: blueberry\n",
    " \n",
    "print(fruits)  # Output: ['apple', 'watermelon']\n",
    "\n",
    "# Clearing the list\n",
    "fruits.clear()\n",
    "print(fruits)  # Output: []"
   ]
  },
  {
   "cell_type": "markdown",
   "id": "fc437528",
   "metadata": {},
   "source": [
    "# List Concatenation and Repetition:\n",
    "We can concatenate two lists using the + operator, extend() method,  and repeat lists using the * operator."
   ]
  },
  {
   "cell_type": "code",
   "execution_count": 13,
   "id": "ba1b931b",
   "metadata": {},
   "outputs": [
    {
     "data": {
      "text/plain": [
       "([1, 2, 3, 4, 5, 6], [4, 5, 6, 1, 2, 3], [1, 2, 3, 1, 2, 3, 1, 2, 3])"
      ]
     },
     "execution_count": 13,
     "metadata": {},
     "output_type": "execute_result"
    }
   ],
   "source": [
    "list1 = [1, 2, 3]\n",
    "list2 = [4, 5, 6]\n",
    "\n",
    "concatenated_list = list1 + list2  # [1, 2, 3, 4, 5, 6]\n",
    "\n",
    "#also can be done using extend() to apply to the same list\n",
    "list2.extend(list1) # [4, 5, 6, 1, 2, 3]\n",
    "\n",
    "repeated_list = list1 * 3  # [1, 2, 3, 1, 2, 3, 1, 2, 3]\n",
    "\n",
    "concatenated_list, list2, repeated_list"
   ]
  },
  {
   "cell_type": "markdown",
   "id": "8dcf4f28",
   "metadata": {},
   "source": [
    "# Sorting Lists\n",
    "Lists can be sorted in place using the sort() method or can create a new sorted list from the original using the sorted() function."
   ]
  },
  {
   "cell_type": "code",
   "execution_count": 14,
   "id": "acd8c06a",
   "metadata": {},
   "outputs": [
    {
     "name": "stdout",
     "output_type": "stream",
     "text": [
      "[1, 1, 2, 3, 4, 5, 6, 9]\n",
      "[9, 6, 5, 4, 3, 2, 1, 1]\n"
     ]
    }
   ],
   "source": [
    "numbers = [3, 1, 4, 1, 5, 9, 2, 6]\n",
    "numbers.sort()\n",
    "print(numbers)  # Output: [1, 1, 2, 3, 4, 5, 6, 9]\n",
    "\n",
    "# Sorting in descending order\n",
    "numbers.sort(reverse=True)\n",
    "print(numbers)  # Output: [9, 6, 5, 4, 3, 2, 1, 1]\n"
   ]
  },
  {
   "cell_type": "code",
   "execution_count": 15,
   "id": "f83a2483",
   "metadata": {},
   "outputs": [
    {
     "name": "stdout",
     "output_type": "stream",
     "text": [
      "[3, 1, 4, 1, 5, 9, 2, 6]\n",
      "[1, 1, 2, 3, 4, 5, 6, 9]\n",
      "[9, 6, 5, 4, 3, 2, 1, 1]\n"
     ]
    }
   ],
   "source": [
    "# Sorting and storing to a newlist  without changing the original list\n",
    "numbers = [3, 1, 4, 1, 5, 9, 2, 6]\n",
    "new_numbers =  sorted(numbers) \n",
    "new_numbers_rev = sorted(numbers, reverse=True)\n",
    "\n",
    "print(numbers)  # Output: [3, 1, 4, 1, 5, 9, 2, 6]\n",
    "print(new_numbers)  # Output: [1, 1, 2, 3, 4, 5, 6, 9]\n",
    "print(new_numbers_rev)  # Output: [9, 6, 5, 4, 3, 2, 1, 1]"
   ]
  },
  {
   "cell_type": "markdown",
   "id": "29cab953",
   "metadata": {},
   "source": [
    "# Counting list elements\n",
    "The count() method returns the count of how many times an object occurs in a list."
   ]
  },
  {
   "cell_type": "code",
   "execution_count": 16,
   "id": "02041afe",
   "metadata": {},
   "outputs": [
    {
     "name": "stdout",
     "output_type": "stream",
     "text": [
      "4\n",
      "0\n",
      "2\n"
     ]
    }
   ],
   "source": [
    "numbers = [1, 2, 3, 4, 1, 1, 4, 1]\n",
    "# Count how many times 1 appears in the list\n",
    "print(numbers.count(1))  # Output: 4\n",
    "print(numbers.count(10)) # Output: 0\n",
    "print(numbers.count(4))  # Output: 2"
   ]
  },
  {
   "cell_type": "markdown",
   "id": "f62a8085",
   "metadata": {},
   "source": [
    "# List Membership:\n",
    "\n",
    "We can check if an item exists in a list using the 'in' operator."
   ]
  },
  {
   "cell_type": "code",
   "execution_count": 17,
   "id": "f2b45158",
   "metadata": {},
   "outputs": [
    {
     "name": "stdout",
     "output_type": "stream",
     "text": [
      "True\n",
      "False\n"
     ]
    }
   ],
   "source": [
    "fruits = [\"apple\", \"blueberry\", \"grape\"]\n",
    "print(\"grape\" in fruits)  # Output: True\n",
    "print(\"banana\" in fruits) # Output: False"
   ]
  },
  {
   "cell_type": "markdown",
   "id": "b4755973",
   "metadata": {},
   "source": [
    "# Nested Lists\n",
    "Lists can contain other lists. This is known as a nested list."
   ]
  },
  {
   "cell_type": "code",
   "execution_count": 18,
   "id": "7e0f451c",
   "metadata": {},
   "outputs": [
    {
     "name": "stdout",
     "output_type": "stream",
     "text": [
      "[1, 2, 3]\n",
      "2\n"
     ]
    }
   ],
   "source": [
    "matrix = [[1, 2, 3], [4, 5, 6], [7, 8, 9]]\n",
    "\n",
    "# Accessing a nested list\n",
    "print(matrix[0])  # Output: [1, 2, 3]\n",
    "\n",
    "# Accessing an item from a nested list\n",
    "print(matrix[0][1])  # Output: 2"
   ]
  },
  {
   "cell_type": "markdown",
   "id": "2d9fc501",
   "metadata": {},
   "source": [
    "# List Copying \n",
    "Understanding the distinction between shallow and deep copies is crucial when dealing with lists in Python, particularly when working with nested lists or lists containing mutable objects. "
   ]
  },
  {
   "cell_type": "code",
   "execution_count": 19,
   "id": "658a9274",
   "metadata": {},
   "outputs": [
    {
     "name": "stdout",
     "output_type": "stream",
     "text": [
      "[1, 2, 3, 10, 40] [1, 2, 3, 10, 40]\n"
     ]
    },
    {
     "data": {
      "text/plain": [
       "(140603276497792, 140603276497792)"
      ]
     },
     "execution_count": 19,
     "metadata": {},
     "output_type": "execute_result"
    }
   ],
   "source": [
    "list1 = [1, 2, 3, 4, 5]\n",
    "list2 = list1 #creating a new reference\n",
    "list1[3] = 10\n",
    "list2[4] = 40\n",
    "print(list1, list2) # does not matter which one is modified, both of the list will be modified as\n",
    "id(list1), id(list2) # both list have exact same reference"
   ]
  },
  {
   "cell_type": "code",
   "execution_count": 20,
   "id": "1d6a6055",
   "metadata": {},
   "outputs": [
    {
     "name": "stdout",
     "output_type": "stream",
     "text": [
      "list1=[1, 2, 3, 40, 5], list3=[3, 4], list4=[1, 2, 3, 4, 5], list5=[1, 2, 3, 4, 5]\n"
     ]
    },
    {
     "data": {
      "text/plain": [
       "(140603276512960, 140603276699776, 140603276512000, 140603276500672)"
      ]
     },
     "execution_count": 20,
     "metadata": {},
     "output_type": "execute_result"
    }
   ],
   "source": [
    "list1 = [1, 2, 3, 4, 5]\n",
    "list3 = list1[2:4] #copy elements [3,4]\n",
    "list4 = list1[:] #copy entire list1 but with different reference\n",
    "list5 = list1.copy()\n",
    "list1[3] = 40 #modified the 3 index of list1 to 40\n",
    "\n",
    "print(f\"list1={list1}, list3={list3}, list4={list4}, list5={list5}\")\n",
    "# now references are different, as we selected a copy of list1 using : operator or using copy() function\n",
    "id(list1), id(list3), id(list4), id(list5) "
   ]
  },
  {
   "cell_type": "markdown",
   "id": "825f040b",
   "metadata": {},
   "source": [
    "# Shallow Copy and Deep Copy (Important to know for Nested Lists)\n"
   ]
  },
  {
   "cell_type": "markdown",
   "id": "c4dfe3b2",
   "metadata": {},
   "source": [
    "# Shallow Copy:\n",
    "A shallow copy creates a new list object but does not create copies of the nested objects within the original list. Instead, it just copies the references to those objects. So, changes made to the nested objects in the original list will be reflected in the shallow copy and vice versa. "
   ]
  },
  {
   "cell_type": "code",
   "execution_count": 21,
   "id": "079f4b41",
   "metadata": {},
   "outputs": [
    {
     "name": "stdout",
     "output_type": "stream",
     "text": [
      "Original List: [[1, 'changed', 3], [4, 5, 6]]\n",
      "Shallow Copy: [[1, 'changed', 3], [4, 5, 6]]\n"
     ]
    }
   ],
   "source": [
    "import copy\n",
    "# Creating a list with a nested list\n",
    "original_list = [[1, 2, 3], [4, 5, 6]]\n",
    "\n",
    "# Creating a shallow copy\n",
    "shallow_copy = copy.copy(original_list) # Or using the slice syntax: shallow_copy = original_list[:]\n",
    "\n",
    "# Modifying the nested list\n",
    "original_list[0][1] = 'changed'\n",
    "\n",
    "print(\"Original List:\", original_list)  # Output: [[1, 'changed', 3], [4, 5, 6]]\n",
    "print(\"Shallow Copy:\", shallow_copy)    # Output: [[1, 'changed', 3], [4, 5, 6]]"
   ]
  },
  {
   "cell_type": "markdown",
   "id": "0ed31183",
   "metadata": {},
   "source": [
    "# Deep Copy:\n",
    "A deep copy creates a new list and recursively inserts copies of the objects found in the original. Changes to the original list or its nested objects will not affect the deep copy, and vice versa."
   ]
  },
  {
   "cell_type": "code",
   "execution_count": 22,
   "id": "955d9c32",
   "metadata": {},
   "outputs": [
    {
     "name": "stdout",
     "output_type": "stream",
     "text": [
      "Original List: [[1, 'deeply changed', 3], [4, 5, 6]]\n",
      "Deep Copy: [[1, 'changed', 3], [4, 5, 6]]\n"
     ]
    }
   ],
   "source": [
    "# Creating a deep copy\n",
    "deep_copy = copy.deepcopy(original_list)\n",
    "\n",
    "# Modifying the nested list in the original list\n",
    "original_list[0][1] = 'deeply changed'\n",
    "\n",
    "print(\"Original List:\", original_list)  # Output: [[1, 'deeply changed', 3], [4, 5, 6]]\n",
    "print(\"Deep Copy:\", deep_copy)         # Output: [[1, 'changed', 3], [4, 5, 6]]\n"
   ]
  },
  {
   "cell_type": "markdown",
   "id": "2924aac8",
   "metadata": {},
   "source": [
    "# Convert a List into String"
   ]
  },
  {
   "cell_type": "code",
   "execution_count": 23,
   "id": "6f1b821f",
   "metadata": {},
   "outputs": [
    {
     "data": {
      "text/plain": [
       "('cricket football ice hockey busketball',\n",
       " 'cricket, football, ice hockey, busketball')"
      ]
     },
     "execution_count": 23,
     "metadata": {},
     "output_type": "execute_result"
    }
   ],
   "source": [
    "sports = [\"cricket\", \"football\", \"ice hockey\", \"busketball\"]\n",
    "new_string = \" \".join(sports)   #join seperated by space\n",
    "new_string2 = \", \".join(sports) #join seperated by comma\n",
    "new_string, new_string2"
   ]
  },
  {
   "cell_type": "code",
   "execution_count": 24,
   "id": "dd941d0a",
   "metadata": {},
   "outputs": [
    {
     "name": "stdout",
     "output_type": "stream",
     "text": [
      "['cricket', 'football', 'ice', 'hockey', 'busketball']\n",
      "['cricket', ' football', ' ice hockey', ' busketball']\n"
     ]
    }
   ],
   "source": [
    "#similarly we can make a list string into list\n",
    "print(new_string.split(\" \")) #Output: ['cricket', 'football', 'ice', 'hockey', 'busketball']\n",
    "print(new_string2.split(\",\")) #Output: ['cricket', ' football', ' ice hockey', ' busketball']"
   ]
  },
  {
   "cell_type": "markdown",
   "id": "a681c23b",
   "metadata": {},
   "source": [
    "# Iterating Over a List\n",
    "To iterate over a list in Python, you can use a simple for loop:"
   ]
  },
  {
   "cell_type": "code",
   "execution_count": 25,
   "id": "eb93899a",
   "metadata": {},
   "outputs": [
    {
     "name": "stdout",
     "output_type": "stream",
     "text": [
      "cricket\n",
      "football\n",
      "ice hockey\n",
      "busketball\n"
     ]
    }
   ],
   "source": [
    "sports = [\"cricket\", \"football\", \"ice hockey\", \"busketball\"]\n",
    "for sport in sports:\n",
    "    print(sport)"
   ]
  },
  {
   "cell_type": "code",
   "execution_count": 26,
   "id": "c43baecb",
   "metadata": {},
   "outputs": [
    {
     "name": "stdout",
     "output_type": "stream",
     "text": [
      "Index:0 , Sport: cricket\n",
      "Index:1 , Sport: football\n",
      "Index:2 , Sport: ice hockey\n",
      "Index:3 , Sport: busketball\n"
     ]
    }
   ],
   "source": [
    "#Sometimes we need both the item and its index in the list. We can achieve this using the enumerate function:\n",
    "for index, item in enumerate(sports):\n",
    "    print(f\"Index:{index} , Sport: {item}\")"
   ]
  },
  {
   "cell_type": "code",
   "execution_count": 27,
   "id": "643ed035",
   "metadata": {},
   "outputs": [
    {
     "name": "stdout",
     "output_type": "stream",
     "text": [
      "1 2 3 \n",
      "4 5 6 \n",
      "7 8 9 \n"
     ]
    }
   ],
   "source": [
    "#iterating over a nexted loop\n",
    "matrix = [[1, 2, 3], [4, 5, 6], [7, 8, 9]]\n",
    "for row in matrix:\n",
    "    for item in row:\n",
    "        print(item, end=\" \")  #put space after each item \n",
    "    print() #for new line after each row"
   ]
  },
  {
   "cell_type": "markdown",
   "id": "df36704c",
   "metadata": {},
   "source": [
    "#Unpacking list elements: \n",
    "\n",
    "Here's what happens during each iteration of the loop:\n",
    "\n",
    "In the first iteration, [1, 2] is unpacked such that a = 1 and b = 2.\n",
    "In the second iteration, [3, 4] is unpacked such that a = 3 and b = 4.\n",
    "a and b are individual integer values in this context, not lists. The unpacking assigns the first element of each sublist to a and the second element to b."
   ]
  },
  {
   "cell_type": "code",
   "execution_count": 28,
   "id": "662fc197",
   "metadata": {},
   "outputs": [
    {
     "name": "stdout",
     "output_type": "stream",
     "text": [
      "1 2\n",
      "3 4\n"
     ]
    }
   ],
   "source": [
    "nested_list = [[1, 2], [3, 4]]\n",
    "for a, b in nested_list:  # a and b are not lists but the individual elements inside the sublists of \n",
    "    print(a, b) \n"
   ]
  },
  {
   "cell_type": "code",
   "execution_count": 29,
   "id": "5c908ba6",
   "metadata": {},
   "outputs": [
    {
     "name": "stdout",
     "output_type": "stream",
     "text": [
      "[1, 2]\n",
      "[3, 4]\n"
     ]
    }
   ],
   "source": [
    "for row in nested_list: #returns lists\n",
    "    print(row) "
   ]
  },
  {
   "cell_type": "markdown",
   "id": "fdc29ab9",
   "metadata": {},
   "source": [
    "Conditional Iteration:\n",
    "We can also iterate through lists using conditionals to filter items:"
   ]
  },
  {
   "cell_type": "code",
   "execution_count": 30,
   "id": "b8066c52",
   "metadata": {},
   "outputs": [
    {
     "name": "stdout",
     "output_type": "stream",
     "text": [
      "2 4 6 8 10 "
     ]
    }
   ],
   "source": [
    "# Print only even numbers from the list\n",
    "numbers = [1, 2, 3, 4, 5, 6, 7, 8, 9, 10]\n",
    "\n",
    "for num in numbers:\n",
    "    if num % 2 == 0:\n",
    "        print(num, end=' ')"
   ]
  },
  {
   "cell_type": "markdown",
   "id": "36b3b8e2",
   "metadata": {},
   "source": [
    "Iterating with Multiple Lists: \n",
    "The zip function can be used to iterate over two lists in parallel:\n",
    "\n"
   ]
  },
  {
   "cell_type": "code",
   "execution_count": 31,
   "id": "8ac83082",
   "metadata": {},
   "outputs": [
    {
     "name": "stdout",
     "output_type": "stream",
     "text": [
      "Cricke : Sachin\n",
      "Football : Messi\n",
      "Tenis : Federar\n",
      "Ice Hockey : Tim Horton\n"
     ]
    }
   ],
   "source": [
    "sports = ['Cricke', 'Football', 'Tenis', 'Ice Hockey']\n",
    "players = ['Sachin', 'Messi', 'Federar', 'Tim Horton']\n",
    "\n",
    "for sport, player in zip(sports, players):\n",
    "    print(f\"{sport} : {player}\")"
   ]
  },
  {
   "cell_type": "markdown",
   "id": "ba0ced90",
   "metadata": {},
   "source": [
    "# List comprehensions \n",
    "Provide a concise way to create lists in Python. They consist of brackets containing an expression followed by a for clause, then zero or more for or if clauses. The expressions can be anything, meaning we can put all kinds of objects in lists. "
   ]
  },
  {
   "cell_type": "code",
   "execution_count": 32,
   "id": "1e0fb73e",
   "metadata": {},
   "outputs": [
    {
     "data": {
      "text/plain": [
       "[0, 1, 4, 9, 16, 25, 36, 49, 64, 81]"
      ]
     },
     "execution_count": 32,
     "metadata": {},
     "output_type": "execute_result"
    }
   ],
   "source": [
    "#Creating a list of square numbers from 0 to 9:\n",
    "squares = [x*x for x in range(10)]\n",
    "squares"
   ]
  },
  {
   "cell_type": "code",
   "execution_count": 33,
   "id": "ccfb15c1",
   "metadata": {},
   "outputs": [
    {
     "data": {
      "text/plain": [
       "[0, 2, 4, 6, 8]"
      ]
     },
     "execution_count": 33,
     "metadata": {},
     "output_type": "execute_result"
    }
   ],
   "source": [
    "#Creating a list of only the even numbers from 0 to 9:\n",
    "evens = [x for x in range(10) if x%2 == 0]\n",
    "evens"
   ]
  },
  {
   "cell_type": "markdown",
   "id": "5ab1510f",
   "metadata": {},
   "source": [
    "Nested List Comprehensions: We can also create lists using nested list comprehensions. \n",
    "\n",
    "For example, let's flatten a matrix:"
   ]
  },
  {
   "cell_type": "code",
   "execution_count": 34,
   "id": "9c14d060",
   "metadata": {},
   "outputs": [
    {
     "data": {
      "text/plain": [
       "[1, 2, 3, 4, 5, 6, 7, 8, 9]"
      ]
     },
     "execution_count": 34,
     "metadata": {},
     "output_type": "execute_result"
    }
   ],
   "source": [
    "matrix = [[1, 2, 3], [4, 5, 6], [7, 8, 9]]\n",
    "flatten = [item for row in matrix for item in row]\n",
    "flatten"
   ]
  },
  {
   "cell_type": "markdown",
   "id": "c8d44223",
   "metadata": {},
   "source": [
    "List Comprehension with Multiple Iterables: \n",
    "    \n",
    "We can iterate over multiple iterables simultaneously in a list comprehension, similar to using zip:"
   ]
  },
  {
   "cell_type": "code",
   "execution_count": 35,
   "id": "dc91fc2e",
   "metadata": {},
   "outputs": [
    {
     "data": {
      "text/plain": [
       "[11, 22, 33, 44]"
      ]
     },
     "execution_count": 35,
     "metadata": {},
     "output_type": "execute_result"
    }
   ],
   "source": [
    "a = [1, 2, 3, 4]\n",
    "b = [10, 20, 30, 40]\n",
    "sums = [x+y for x, y in zip(a,b)]\n",
    "sums"
   ]
  },
  {
   "cell_type": "code",
   "execution_count": 36,
   "id": "107680ce",
   "metadata": {},
   "outputs": [
    {
     "data": {
      "text/plain": [
       "[0, 1, 4, 27, 16, 125, 36, 343, 64, 729]"
      ]
     },
     "execution_count": 36,
     "metadata": {},
     "output_type": "execute_result"
    }
   ],
   "source": [
    "# Conditional Logic on the Iterator: for more customization\n",
    "custom_list = [x*x if x%2==0 else x**3 for x in range(10)] \n",
    "custom_list"
   ]
  },
  {
   "cell_type": "markdown",
   "id": "1745afbc",
   "metadata": {},
   "source": [
    "Using List Comprehension for String Manipulation: \n",
    "\n",
    "List comprehensions can be particularly handy for string manipulation\n"
   ]
  },
  {
   "cell_type": "code",
   "execution_count": 37,
   "id": "3ae5c21a",
   "metadata": {},
   "outputs": [
    {
     "data": {
      "text/plain": [
       "[7, 8, 10, 10]"
      ]
     },
     "execution_count": 37,
     "metadata": {},
     "output_type": "execute_result"
    }
   ],
   "source": [
    "#Finding the lenght of each words in a list and then assigning to a list\n",
    "sports = [\"cricket\", \"football\", \"ice hockey\", \"busketball\"]\n",
    "word_lengths = [len(word) for word in sports]\n",
    "word_lengths"
   ]
  },
  {
   "cell_type": "markdown",
   "id": "89525203",
   "metadata": {},
   "source": [
    "Cartesian Product Using List Comprehension:\n",
    "\n",
    "We can generate the cartesian product of two lists, which is a list of all possible pairs between the two lists:"
   ]
  },
  {
   "cell_type": "code",
   "execution_count": 38,
   "id": "226c3fdc",
   "metadata": {},
   "outputs": [
    {
     "name": "stdout",
     "output_type": "stream",
     "text": [
      "[('Cricke', 'Sachin'), ('Cricke', 'Messi'), ('Cricke', 'Federar'), ('Cricke', 'Tim Horton'), ('Football', 'Sachin'), ('Football', 'Messi'), ('Football', 'Federar'), ('Football', 'Tim Horton'), ('Tenis', 'Sachin'), ('Tenis', 'Messi'), ('Tenis', 'Federar'), ('Tenis', 'Tim Horton'), ('Ice Hockey', 'Sachin'), ('Ice Hockey', 'Messi'), ('Ice Hockey', 'Federar'), ('Ice Hockey', 'Tim Horton')]\n"
     ]
    }
   ],
   "source": [
    "sports = ['Cricke', 'Football', 'Tenis', 'Ice Hockey']\n",
    "players = ['Sachin', 'Messi', 'Federar', 'Tim Horton']\n",
    "\n",
    "all_pairs = [(sport, player) for sport in sports for player in players]\n",
    "print(all_pairs)"
   ]
  },
  {
   "cell_type": "markdown",
   "id": "996f354e",
   "metadata": {},
   "source": [
    "Filtering One List Based on Another:\n",
    "\n",
    "We can filter one list based on the contents of another list:"
   ]
  },
  {
   "cell_type": "code",
   "execution_count": 39,
   "id": "710ca277",
   "metadata": {},
   "outputs": [
    {
     "data": {
      "text/plain": [
       "[20, 30]"
      ]
     },
     "execution_count": 39,
     "metadata": {},
     "output_type": "execute_result"
    }
   ],
   "source": [
    "a = [1, 40, 3, 4]\n",
    "b = [3, 20, 30, 40]\n",
    "filter_a = [x for x in b if x not in a]\n",
    "filter_a"
   ]
  },
  {
   "cell_type": "markdown",
   "id": "26046689",
   "metadata": {},
   "source": [
    "# Some Common Functions to Apply on Lists\n",
    "We have alredy discussed common list methods [e.g. insert(), remove(), pop(), sort(), reverse(), append(), extend() etc.] in the Modifying Lists section. \n",
    "\n",
    "In addtion, Python also provides several built-in functions like all(), any(), len(), min(), max(), and sum() that are quite useful when working with lists. These aren't methods of list objects but standalone functions that accept lists (and other iterables) as arguments. Let's explore these functions:\n",
    "\n"
   ]
  },
  {
   "cell_type": "markdown",
   "id": "63a21158",
   "metadata": {},
   "source": [
    "# all() :\n",
    "\n",
    "The all() function returns True if all elements of the iterable are true (or if the iterable is empty). It is often used to check a list of boolean values or apply a condition to all elements of a list."
   ]
  },
  {
   "cell_type": "code",
   "execution_count": 40,
   "id": "b96aff00",
   "metadata": {},
   "outputs": [
    {
     "name": "stdout",
     "output_type": "stream",
     "text": [
      "True\n",
      "True\n",
      "True\n",
      "False\n"
     ]
    }
   ],
   "source": [
    "# Checking if all numbers are positive\n",
    "numbers = [1, 2, 3, 4, 5]\n",
    "print(all(x>0 for x in numbers)) #Output: true\n",
    "\n",
    "# Using all() with a list of booleans\n",
    "bools = [True, True, True]\n",
    "print(all(bools))  # Output: True\n",
    "\n",
    "# all() returns True for an empty list\n",
    "print(all([]))  # Output: True\n",
    "\n",
    "# 0 is considered False in Python\n",
    "nums = [1, 3, 4, 0]  \n",
    "print(all(nums))  # Output: False"
   ]
  },
  {
   "cell_type": "markdown",
   "id": "175136b7",
   "metadata": {},
   "source": [
    "# any()\n",
    "The any() function returns True if any element of the iterable is true. If the iterable is empty, any() returns False. It is useful for checking if at least one condition holds in a sequence."
   ]
  },
  {
   "cell_type": "code",
   "execution_count": 41,
   "id": "162112e5",
   "metadata": {},
   "outputs": [
    {
     "name": "stdout",
     "output_type": "stream",
     "text": [
      "True\n",
      "True\n",
      "False\n",
      "False\n"
     ]
    }
   ],
   "source": [
    "# Checking if any number is negative\n",
    "numbers = [1, -2, 3, 4, 5]\n",
    "print(any(number < 0 for number in numbers))  # Output: True\n",
    "\n",
    "# Using any() with a list of booleans to check if any number is true\n",
    "bools = [False, False, True]\n",
    "print(any(bools))  # Output: True\n",
    "\n",
    "# any() returns False for an empty list\n",
    "print(any([]))  # Output: False\n",
    "\n",
    "# 0 is considered False in Python\n",
    "nums = [0, 0, 0, 0]\n",
    "print(any(nums))  # Output: False"
   ]
  },
  {
   "cell_type": "markdown",
   "id": "36574030",
   "metadata": {},
   "source": [
    "# len()\n",
    "Returns the number of items in the list. It's one of the most commonly used functions with lists."
   ]
  },
  {
   "cell_type": "code",
   "execution_count": 42,
   "id": "81fe075c",
   "metadata": {},
   "outputs": [
    {
     "name": "stdout",
     "output_type": "stream",
     "text": [
      "5\n",
      "3\n",
      "4\n"
     ]
    }
   ],
   "source": [
    "print(len(numbers))\n",
    "print(len(bools))\n",
    "print(len(nums))"
   ]
  },
  {
   "cell_type": "markdown",
   "id": "f837bf00",
   "metadata": {},
   "source": [
    "# min() and max()\n",
    "min() returns the smallest item in the list, and max() returns the largest item in the list.\n",
    "\n"
   ]
  },
  {
   "cell_type": "code",
   "execution_count": 43,
   "id": "8d5d9036",
   "metadata": {},
   "outputs": [
    {
     "name": "stdout",
     "output_type": "stream",
     "text": [
      "1\n",
      "5\n"
     ]
    }
   ],
   "source": [
    "numbers = [3, 1, 4, 1, 5]\n",
    "print(min(numbers))  # Output: 1\n",
    "print(max(numbers))  # Output: 5"
   ]
  },
  {
   "cell_type": "markdown",
   "id": "bb2f9f0b",
   "metadata": {},
   "source": [
    "# sum()\n",
    "Returns the total sum of elements in the list. The list items need to be numbers."
   ]
  },
  {
   "cell_type": "code",
   "execution_count": 44,
   "id": "6c48d2ce",
   "metadata": {},
   "outputs": [
    {
     "name": "stdout",
     "output_type": "stream",
     "text": [
      "14\n"
     ]
    }
   ],
   "source": [
    "numbers = [3, 1, 4, 1, 5]\n",
    "print(sum(numbers))  # Output: 14"
   ]
  },
  {
   "cell_type": "markdown",
   "id": "c1bda9a4",
   "metadata": {},
   "source": [
    "# Combining with List Comprehensions\n",
    "These functions can be particularly powerful when combined with list comprehensions for more complex operations:\n",
    "\n"
   ]
  },
  {
   "cell_type": "code",
   "execution_count": 45,
   "id": "e7d926e5",
   "metadata": {},
   "outputs": [
    {
     "data": {
      "text/plain": [
       "(int, 25)"
      ]
     },
     "execution_count": 45,
     "metadata": {},
     "output_type": "execute_result"
    }
   ],
   "source": [
    "max_square = max(x * x for x in numbers)\n",
    "type(max_square), max_square"
   ]
  },
  {
   "cell_type": "code",
   "execution_count": 46,
   "id": "3f0e7427",
   "metadata": {},
   "outputs": [
    {
     "name": "stdout",
     "output_type": "stream",
     "text": [
      "218\n"
     ]
    }
   ],
   "source": [
    "print(sum(x**3 for x in numbers))"
   ]
  },
  {
   "cell_type": "markdown",
   "id": "2318c29d",
   "metadata": {},
   "source": [
    "# Exercise: Some Example Problems to Solve Using List\n",
    "# List Uses With Function"
   ]
  },
  {
   "cell_type": "markdown",
   "id": "4be79eb6",
   "metadata": {},
   "source": [
    "#Problem 1: Find the Missing Number:\n",
    "\n",
    "Given a list of n-1 integers, and these integers are in the range of 1 to n. There are no duplicates in the list. One of the integers is missing from the list. Write a function to find the missing number."
   ]
  },
  {
   "cell_type": "code",
   "execution_count": 47,
   "id": "9f4bba42",
   "metadata": {},
   "outputs": [
    {
     "name": "stdout",
     "output_type": "stream",
     "text": [
      "3\n",
      "5\n"
     ]
    }
   ],
   "source": [
    "def find_missing(nums):\n",
    "    n = len(nums) + 1\n",
    "    actual_sum = sum(nums)\n",
    "    expected_sum = n*(n+1)//2\n",
    "    return expected_sum - actual_sum\n",
    "\n",
    "numbers = [1, 2, 4, 5]\n",
    "print(find_missing(numbers)) #Output: 3\n",
    "print(find_missing([1, 2, 3, 4, 7, 6])) #Output: 5"
   ]
  },
  {
   "cell_type": "markdown",
   "id": "6b05a060",
   "metadata": {},
   "source": [
    "#Problem 2: Merge Overlapping Intervals\n",
    "\n",
    "Given a collection of intervals, merge all overlapping intervals. For example, given [1,3],[2,6],[8,10],[15,18], the function should return [1,6],[8,10],[15,18]"
   ]
  },
  {
   "cell_type": "code",
   "execution_count": 48,
   "id": "3c7e0b04",
   "metadata": {},
   "outputs": [
    {
     "name": "stdout",
     "output_type": "stream",
     "text": [
      "[[1, 6], [8, 10], [15, 18]]\n",
      "[[4, 18]]\n"
     ]
    }
   ],
   "source": [
    "def merge_intervals(intervals):\n",
    "    intervals.sort( key = lambda x: x[0])\n",
    "    merge = []\n",
    "    for interval in intervals:\n",
    "        if not merge or merge[-1][1] < interval[0]:  \n",
    "             merge.append(interval)\n",
    "        else:\n",
    "            merge[-1][1] = max(merge[-1][1], interval[1])\n",
    "        \n",
    "    return merge\n",
    "\n",
    "#Explanation:\n",
    "# not merge checeks if the merge list is empty\n",
    "# merged[-1][1]: This accesses the end value of the last interval currently in the merged list. \n",
    "# merged[-1] is the last interval added to merged, and the [1] index accesses its end value.\n",
    "# interval[0]: This is the start value of the current interval being considered in the loop.\n",
    "\n",
    "# Example usage:\n",
    "intervals = [[1, 3], [2, 6], [8, 10], [15, 18]]\n",
    "print(merge_intervals(intervals))  # Output should be [[1, 6], [8, 10], [15, 18]]\n",
    "intervals = [[4, 10], [5, 9], [8, 15], [11, 18]] #Output: [4,18]\n",
    "print(merge_intervals(intervals))"
   ]
  },
  {
   "cell_type": "markdown",
   "id": "416f5b2f",
   "metadata": {},
   "source": [
    "#Problem 3: Find All Duplicates in an Array\n",
    "Given an integer array nums of length n where all the integers of nums are in the range [1, n] and each integer appears once or twice, return an array of all the integers that appear twice."
   ]
  },
  {
   "cell_type": "code",
   "execution_count": 49,
   "id": "f6c00189",
   "metadata": {},
   "outputs": [
    {
     "name": "stdout",
     "output_type": "stream",
     "text": [
      "[2, 3]\n"
     ]
    }
   ],
   "source": [
    "def find_duplicates(nums):\n",
    "    unique = []\n",
    "    duplicate = []\n",
    "    for num in nums:\n",
    "        if num not in unique:\n",
    "            unique.append(num)\n",
    "        else:\n",
    "            duplicate.append(num)\n",
    "\n",
    "    return duplicate\n",
    "\n",
    "# Example usage:\n",
    "nums = [4, 3, 2, 7, 8, 2, 3, 1]\n",
    "print(find_duplicates(nums))  # Output should be [2, 3]"
   ]
  },
  {
   "cell_type": "markdown",
   "id": "a49abcbc",
   "metadata": {},
   "source": [
    "#Problem 4: Rotate Array\n",
    "\n",
    "Given an array, rotate the array to the right by k steps, where k is non-negative."
   ]
  },
  {
   "cell_type": "code",
   "execution_count": 50,
   "id": "f6865613",
   "metadata": {},
   "outputs": [
    {
     "name": "stdout",
     "output_type": "stream",
     "text": [
      "[4, 5, 6, 7, 1, 2, 3]\n"
     ]
    }
   ],
   "source": [
    "def rotate_array(nums, k):\n",
    "    k = k % len(nums) #in case if number of rotation exeeced the length\n",
    "    nums[:] = nums[-k:] + nums[:-k] \n",
    "    return nums\n",
    "    \n",
    "# Example usage:\n",
    "nums = [1, 2, 3, 4, 5, 6, 7]\n",
    "rotate_array(nums, 4)\n",
    "print(nums)  # Output should be [5, 6, 7, 1, 2, 3, 4]"
   ]
  },
  {
   "cell_type": "markdown",
   "id": "2864e556",
   "metadata": {},
   "source": [
    "#Problem 5: Set Matrix Zeroes\n",
    "\n",
    "Given an m x n matrix, if an element is 0, set its entire row and column to 0. Do it in place.\n",
    "\n"
   ]
  },
  {
   "cell_type": "code",
   "execution_count": 51,
   "id": "4e4b2304",
   "metadata": {},
   "outputs": [
    {
     "name": "stdout",
     "output_type": "stream",
     "text": [
      "[[1, 0, 1], [0, 0, 0], [1, 0, 1]]\n"
     ]
    }
   ],
   "source": [
    "def set_zeroes(matrix):\n",
    "    row_len, col_len = len(matrix), len(matrix[0])\n",
    "    cols_to_zero = set()\n",
    "    rows_to_zero = set()\n",
    "    \n",
    "    for index_row, row in enumerate(matrix):\n",
    "        for index_col, item in enumerate(row):\n",
    "            if item == 0:\n",
    "                rows_to_zero.add(index_row)\n",
    "                cols_to_zero.add(index_col)\n",
    "    \n",
    "    for index_row in range(row_len):\n",
    "        for index_col in range(col_len):\n",
    "            if index_row in rows_to_zero or index_col in cols_to_zero:\n",
    "                matrix[index_row][index_col] = 0\n",
    "                \n",
    "    return matrix\n",
    "\n",
    "# Example usage:\n",
    "matrix = [[1, 1, 1], [1, 0, 1], [1, 1, 1]]\n",
    "set_zeroes(matrix)\n",
    "print(matrix)  # Output should be [[1, 0, 1], [0, 0, 0], [1, 0, 1]]"
   ]
  },
  {
   "cell_type": "markdown",
   "id": "2f6c23f6",
   "metadata": {},
   "source": [
    "#Problem 6: Two Sum\n",
    "\n",
    "Given an array of integers nums and an integer target, return indices of the two numbers such that they add up to target. You may assume that each input would have exactly one solution, and you may not use the same element twice. You can return the answer in any order."
   ]
  },
  {
   "cell_type": "code",
   "execution_count": 52,
   "id": "e387376b",
   "metadata": {},
   "outputs": [
    {
     "name": "stdout",
     "output_type": "stream",
     "text": [
      "[0, 1]\n",
      "[2, 4]\n"
     ]
    }
   ],
   "source": [
    "def two_sum(nums, target):\n",
    "    map_index = {}\n",
    "    \n",
    "    for index, num in enumerate(nums):\n",
    "        difference = target - num\n",
    "        if difference in map_index:\n",
    "            return [map_index[difference], index]\n",
    "        map_index[num] = index\n",
    "    \n",
    "    \n",
    "#Sample Inputs:\n",
    "nums = [2, 7, 11, 15, 10]\n",
    "print(two_sum(nums, 9))  #Output: [0, 1]\n",
    "print(two_sum(nums, 21))  #Output: [2, 4]"
   ]
  },
  {
   "cell_type": "markdown",
   "id": "353ee7f8",
   "metadata": {},
   "source": [
    "#Problem 7: Contains Duplicate\n",
    "\n",
    "Given an integer array nums, return true if any value appears at least twice in the array, and return false if every element is distinct.\n"
   ]
  },
  {
   "cell_type": "code",
   "execution_count": 53,
   "id": "6f8f76fb",
   "metadata": {},
   "outputs": [
    {
     "name": "stdout",
     "output_type": "stream",
     "text": [
      "True\n"
     ]
    }
   ],
   "source": [
    "def any_duplicates(nums):\n",
    "    return len(nums) != len(set(nums))\n",
    "\n",
    "# Sample Inputs:\n",
    "nums = [4, 3, 2, 7, 8, 2, 3, 1]\n",
    "print(any_duplicates(nums))  # true"
   ]
  },
  {
   "cell_type": "markdown",
   "id": "c485b416",
   "metadata": {},
   "source": [
    "#Problem 8: Maximum Subarray\n",
    "\n",
    "Given an integer array nums, find the contiguous subarray (containing at least one number) which has the largest sum and return its sum. This is a classic problem that can be solved with the Kadane's algorithm."
   ]
  },
  {
   "cell_type": "code",
   "execution_count": 54,
   "id": "43b78103",
   "metadata": {},
   "outputs": [
    {
     "name": "stdout",
     "output_type": "stream",
     "text": [
      "6\n"
     ]
    }
   ],
   "source": [
    "def max_subarray(nums):\n",
    "    current_max = max_global = nums[0]\n",
    "    for num in nums[1:]:\n",
    "        current_max = max(current_max+num, num)\n",
    "        if current_max > max_global:\n",
    "            max_global = current_max\n",
    "    return max_global\n",
    "        \n",
    "\n",
    "#Example input\n",
    "nums = [-2, 1, -3, 4, -1, 2, 1, -5, 4]\n",
    "print(max_subarray(nums))  #Explanation: The contiguous subarray [4, -1, 2, 1] has the largest sum = 6."
   ]
  },
  {
   "cell_type": "markdown",
   "id": "3683d88f",
   "metadata": {},
   "source": [
    "#Problem 9: Product of Array Except Self\n",
    "\n",
    "Given an array nums of n integers where n > 1, return an array output such that output[i] is equal to the product of all the elements of nums except nums[i]"
   ]
  },
  {
   "cell_type": "code",
   "execution_count": 55,
   "id": "f0487ef0",
   "metadata": {},
   "outputs": [
    {
     "name": "stdout",
     "output_type": "stream",
     "text": [
      "[24, 12, 8, 6]\n"
     ]
    }
   ],
   "source": [
    "def product_except_self(nums):\n",
    "    length = len(nums)\n",
    "    left_prod = [1] * length\n",
    "    right_prod = [1] * length\n",
    "    answer = [1] * length\n",
    "    \n",
    "    for i in range(1, length):   #started from 1 otherwise i-1 will be negetive for first value\n",
    "        left_prod[i] = left_prod[i-1] * nums[i-1]\n",
    "    \n",
    "    for i in range(length -2, -1, -1):    #started from from second last elment otherwise i+1 will go beyond the array\n",
    "        right_prod[i] = right_prod[i+1] * nums[i+1]\n",
    "                   \n",
    "    for i in range(length):\n",
    "        answer[i] = left_prod[i] * right_prod[i]\n",
    "    \n",
    "    return answer\n",
    "                   \n",
    "#Sample inputs    \n",
    "nums = [1, 2, 3, 4]\n",
    "\n",
    "print(product_except_self(nums))  #Output: [24, 12, 8, 6]"
   ]
  },
  {
   "cell_type": "markdown",
   "id": "16555c01",
   "metadata": {},
   "source": [
    "#Problem 10: Longest Consecutive Sequence\n",
    "\n",
    "Given an unsorted array of integers nums, return the length of the longest consecutive elements sequence. \n",
    "\n",
    "You must write an algorithm that runs in O(n) complexity."
   ]
  },
  {
   "cell_type": "code",
   "execution_count": 56,
   "id": "360613ac",
   "metadata": {},
   "outputs": [
    {
     "data": {
      "text/plain": [
       "4"
      ]
     },
     "execution_count": 56,
     "metadata": {},
     "output_type": "execute_result"
    }
   ],
   "source": [
    "def longest_seq(nums):\n",
    "    nums.sort()\n",
    "    curr_count = 1\n",
    "    max_count = 1\n",
    "    for i in range(1, len(nums)):\n",
    "        if nums[i-1]+1 == nums[i]:\n",
    "            curr_count += 1\n",
    "            max_count = max(curr_count, max_count)\n",
    "        else:\n",
    "            curr_count = 0\n",
    "    return max_count\n",
    "        \n",
    "\n",
    "nums = [100, 4, 200, 1, 3, 2]\n",
    "longest_seq(nums) #Output: 4  #[1, 2, 3, 4]"
   ]
  },
  {
   "cell_type": "markdown",
   "id": "69272ff5",
   "metadata": {},
   "source": [
    "#Problem 11: Move Zeroes\n",
    "Given an array nums, write a function to move all 0's to the end of it while maintaining the relative order of the non-zero elements. You must do this in-place without making a copy of the array.\n",
    "\n"
   ]
  },
  {
   "cell_type": "code",
   "execution_count": 57,
   "id": "1aeebf7a",
   "metadata": {},
   "outputs": [
    {
     "name": "stdout",
     "output_type": "stream",
     "text": [
      "[1, 3, 12, 0, 0]\n"
     ]
    }
   ],
   "source": [
    "# def move_zeroes(nums):\n",
    "#     j = 1\n",
    "#     for i in range(0, len(nums)-1):\n",
    "#         for j in range(i, len(nums)):\n",
    "#             if nums[i] == 0:\n",
    "#                 nums[i], nums[j] = nums[j], nums[i]\n",
    "#     return nums\n",
    "\n",
    "##O(n) solution:\n",
    "\n",
    "def move_zeroes(nums):\n",
    "    j = 0\n",
    "    for i in range(len(nums)):\n",
    "        if nums[i] != 0:\n",
    "            nums[j], nums[i] = nums[i], nums[j]\n",
    "            j = j+1\n",
    "            \n",
    "    return nums\n",
    "\n",
    "nums = [0, 1, 0, 3, 12]\n",
    "print(move_zeroes(nums))  # Output: [1, 3, 12, 0, 0]"
   ]
  },
  {
   "cell_type": "markdown",
   "id": "98de1e03",
   "metadata": {},
   "source": [
    "#Problem 12: Best Time to Buy and Sell Stock\n",
    "\n",
    "You are given an array prices where prices[i] is the price of a given stock on the ith day. You want to maximize your profit by choosing a single day to buy one stock and choosing a different day in the future to sell that stock. Return the maximum profit you can achieve from this transaction. If you cannot achieve any profit, return 0.\n"
   ]
  },
  {
   "cell_type": "code",
   "execution_count": 58,
   "id": "efc75421",
   "metadata": {},
   "outputs": [
    {
     "name": "stdout",
     "output_type": "stream",
     "text": [
      "5\n"
     ]
    }
   ],
   "source": [
    "def max_profit(prices):\n",
    "    min_price = float('inf')\n",
    "    max_profit = 0\n",
    "    \n",
    "    for price in prices:\n",
    "        min_price = min(min_price, price)\n",
    "        profit = price - min_price\n",
    "        max_profit = max(profit, max_profit)\n",
    "   \n",
    "    return max_profit \n",
    "\n",
    "prices = [7, 1, 5, 3, 6, 4]\n",
    "print(max_profit(prices))   # Output: 5\n"
   ]
  }
 ],
 "metadata": {
  "kernelspec": {
   "display_name": "Python 3 (ipykernel)",
   "language": "python",
   "name": "python3"
  },
  "language_info": {
   "codemirror_mode": {
    "name": "ipython",
    "version": 3
   },
   "file_extension": ".py",
   "mimetype": "text/x-python",
   "name": "python",
   "nbconvert_exporter": "python",
   "pygments_lexer": "ipython3",
   "version": "3.9.7"
  }
 },
 "nbformat": 4,
 "nbformat_minor": 5
}
