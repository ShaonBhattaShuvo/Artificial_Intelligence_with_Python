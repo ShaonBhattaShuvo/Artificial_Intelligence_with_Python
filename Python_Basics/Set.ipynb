{
 "cells": [
  {
   "cell_type": "markdown",
   "id": "e41aae10",
   "metadata": {},
   "source": [
    "# Sets Basics\n",
    "A set in Python is an unordered collection of distinct hashable objects. Sets are commonly used for membership testing, removing duplicates from a sequence, and computing mathematical operations such as intersection, union, difference, and symmetric difference."
   ]
  },
  {
   "cell_type": "markdown",
   "id": "a7b12b02",
   "metadata": {},
   "source": [
    "Set in python can be created using curly braces '{}' or the set() function. "
   ]
  },
  {
   "cell_type": "code",
   "execution_count": 1,
   "id": "6b7ec56f",
   "metadata": {},
   "outputs": [
    {
     "name": "stdout",
     "output_type": "stream",
     "text": [
      "{1, 2, 3, 4, 5}\n"
     ]
    }
   ],
   "source": [
    "example_set = {1, 2, 3, 4, 5} \n",
    "print(example_set)"
   ]
  },
  {
   "cell_type": "code",
   "execution_count": 2,
   "id": "213dd534",
   "metadata": {},
   "outputs": [
    {
     "name": "stdout",
     "output_type": "stream",
     "text": [
      "{1, 2, 3, 4, 5}\n"
     ]
    }
   ],
   "source": [
    "another_set = set([1, 2, 3, 4, 5, 2, 3]) #set values are unique: {1, 2, 3, 4, 5}\n",
    "print(another_set)"
   ]
  },
  {
   "cell_type": "markdown",
   "id": "4b25c1ad",
   "metadata": {},
   "source": [
    "# Accessing Elements in a Set\n",
    "Sets are unordered, so we cannot access items using indexes. However, we can iterate over a set using a loop:"
   ]
  },
  {
   "cell_type": "code",
   "execution_count": 3,
   "id": "90c4ebb7",
   "metadata": {},
   "outputs": [
    {
     "name": "stdout",
     "output_type": "stream",
     "text": [
      "1 2 3 5 "
     ]
    }
   ],
   "source": [
    "example_set = {1 ,2, 5, 3}\n",
    "for num in example_set:\n",
    "    print(num, end=\" \")"
   ]
  },
  {
   "cell_type": "markdown",
   "id": "ef1dadbb",
   "metadata": {},
   "source": [
    "# Checking for membership efficiently: "
   ]
  },
  {
   "cell_type": "code",
   "execution_count": 4,
   "id": "a0e99ef0",
   "metadata": {},
   "outputs": [
    {
     "name": "stdout",
     "output_type": "stream",
     "text": [
      "5 is in the set\n"
     ]
    }
   ],
   "source": [
    "example_set = {1 ,2, 5, 3}\n",
    "if 5 in example_set:\n",
    "    print(\"5 is in the set\")"
   ]
  },
  {
   "cell_type": "markdown",
   "id": "68b8dda3",
   "metadata": {},
   "source": [
    "# Adding element to a set\n",
    "We can add elements to a set using add() or update() methods"
   ]
  },
  {
   "cell_type": "code",
   "execution_count": 5,
   "id": "9d2f3b54",
   "metadata": {},
   "outputs": [
    {
     "name": "stdout",
     "output_type": "stream",
     "text": [
      "{1, 2, 3, 5, 8}\n"
     ]
    }
   ],
   "source": [
    "example_set = {1 ,2, 5, 3}\n",
    "example_set.add(8) # use add() to add a single element\n",
    "print(example_set)"
   ]
  },
  {
   "cell_type": "code",
   "execution_count": 6,
   "id": "ad471ac1",
   "metadata": {},
   "outputs": [
    {
     "name": "stdout",
     "output_type": "stream",
     "text": [
      "{1, 2, 3, 4, 5, 6, 8, 9}\n"
     ]
    }
   ],
   "source": [
    "example_set.update([2, 6, 9, 4]) # use update() to add multiple elements\n",
    "print(example_set)"
   ]
  },
  {
   "cell_type": "markdown",
   "id": "f74589e8",
   "metadata": {},
   "source": [
    "# Removing element from a set\n",
    "We can use remove(), discard() and pop() methods to remove elements from a set"
   ]
  },
  {
   "cell_type": "code",
   "execution_count": 7,
   "id": "ee9fb0d6",
   "metadata": {},
   "outputs": [
    {
     "name": "stdout",
     "output_type": "stream",
     "text": [
      "{2, 3, 5}\n"
     ]
    }
   ],
   "source": [
    "example_set = {1 ,2, 5, 3}\n",
    "example_set.remove(1)       #Removes the element, raise a KeyError if not present\n",
    "print(example_set)"
   ]
  },
  {
   "cell_type": "code",
   "execution_count": 8,
   "id": "8e3c496e",
   "metadata": {},
   "outputs": [
    {
     "name": "stdout",
     "output_type": "stream",
     "text": [
      "{2, 3, 5}\n"
     ]
    }
   ],
   "source": [
    "example_set.discard(6)     #Removes the element, does nothing if not present\n",
    "print(example_set)"
   ]
  },
  {
   "cell_type": "code",
   "execution_count": 9,
   "id": "74ba469e",
   "metadata": {},
   "outputs": [
    {
     "name": "stdout",
     "output_type": "stream",
     "text": [
      "2 {3, 5}\n"
     ]
    }
   ],
   "source": [
    "arbitrary_element = example_set.pop() #Removes and return an abitrary element, raise a KeyError if its empty\n",
    "print(arbitrary_element, example_set)"
   ]
  },
  {
   "cell_type": "markdown",
   "id": "29b181a7",
   "metadata": {},
   "source": [
    "# Common Set Operations\n",
    "Python sets support mathematical operations like union, intersection, difference, and symmetric difference:\n"
   ]
  },
  {
   "cell_type": "code",
   "execution_count": 10,
   "id": "5a1aa770",
   "metadata": {},
   "outputs": [
    {
     "name": "stdout",
     "output_type": "stream",
     "text": [
      "{1, 2, 3, 4, 5, 6}\n"
     ]
    }
   ],
   "source": [
    "a = {1, 3, 4, 6}\n",
    "b = {2, 1, 5, 3}\n",
    "\n",
    "union_set = a | b\n",
    "print(union_set)"
   ]
  },
  {
   "cell_type": "code",
   "execution_count": 11,
   "id": "fd5f41d5",
   "metadata": {},
   "outputs": [
    {
     "name": "stdout",
     "output_type": "stream",
     "text": [
      "{1, 3}\n"
     ]
    }
   ],
   "source": [
    "intersection_set = a & b\n",
    "print(intersection_set)"
   ]
  },
  {
   "cell_type": "code",
   "execution_count": 12,
   "id": "01691d8b",
   "metadata": {},
   "outputs": [
    {
     "name": "stdout",
     "output_type": "stream",
     "text": [
      "{4, 6}\n"
     ]
    }
   ],
   "source": [
    "difference_set = a - b\n",
    "print(difference_set)"
   ]
  },
  {
   "cell_type": "code",
   "execution_count": 13,
   "id": "4e633130",
   "metadata": {},
   "outputs": [
    {
     "name": "stdout",
     "output_type": "stream",
     "text": [
      "{2, 4, 5, 6}\n"
     ]
    }
   ],
   "source": [
    "symmetric_difference = a^b\n",
    "print(symmetric_difference)"
   ]
  },
  {
   "cell_type": "markdown",
   "id": "259c8b5c",
   "metadata": {},
   "source": [
    "# Common Set Methods \n",
    "We have already seen: add(element), update(*others), discard(element), remove(element), discard(element), pop()\n",
    "and clear(), copy(), deepcopy() are similar as list or tuple"
   ]
  },
  {
   "cell_type": "markdown",
   "id": "502faab1",
   "metadata": {},
   "source": [
    "(* others): The asterisk (*) before others signifies that the method can take multiple arguments."
   ]
  },
  {
   "cell_type": "markdown",
   "id": "1ca01bba",
   "metadata": {},
   "source": [
    "# union(*others) :\n",
    "Returns a set that is the union of two or more sets.\n"
   ]
  },
  {
   "cell_type": "code",
   "execution_count": 14,
   "id": "571daacb",
   "metadata": {},
   "outputs": [
    {
     "name": "stdout",
     "output_type": "stream",
     "text": [
      "{1, 2, 3, 4, 5, 6}\n"
     ]
    }
   ],
   "source": [
    "a = {1, 3, 4, 6}\n",
    "b = {2, 1, 5, 3}\n",
    "union_set = a.union(b) # or with multiple set as ;a.union(b,c, {1,2,7})\n",
    "print(union_set)"
   ]
  },
  {
   "cell_type": "markdown",
   "id": "c0e9ce49",
   "metadata": {},
   "source": [
    "# intersection(*others):\n",
    "Returns a set that is the intersection of two or more sets"
   ]
  },
  {
   "cell_type": "code",
   "execution_count": 15,
   "id": "01fa5aaa",
   "metadata": {},
   "outputs": [
    {
     "name": "stdout",
     "output_type": "stream",
     "text": [
      "{1, 3}\n"
     ]
    }
   ],
   "source": [
    "a = {1, 3, 4, 6}\n",
    "b = {2, 1, 5, 3}\n",
    "intersection_set = a.intersection(b)\n",
    "print(intersection_set)"
   ]
  },
  {
   "cell_type": "markdown",
   "id": "f16b86ed",
   "metadata": {},
   "source": [
    "# intersection_update(*others)\n",
    "Updates the set with the intersection of itself and another"
   ]
  },
  {
   "cell_type": "code",
   "execution_count": 16,
   "id": "37fc27f5",
   "metadata": {},
   "outputs": [
    {
     "name": "stdout",
     "output_type": "stream",
     "text": [
      "{1, 3}\n"
     ]
    }
   ],
   "source": [
    "a = {1, 3, 4, 6}\n",
    "b = {2, 1, 5, 3}\n",
    "a.intersection_update(b)\n",
    "print(a)"
   ]
  },
  {
   "cell_type": "markdown",
   "id": "28e8564b",
   "metadata": {},
   "source": [
    "# difference(*others)\n",
    "Returns a set containing all the elements that are in this set but not in the others.\n"
   ]
  },
  {
   "cell_type": "code",
   "execution_count": 17,
   "id": "70720bbd",
   "metadata": {},
   "outputs": [
    {
     "name": "stdout",
     "output_type": "stream",
     "text": [
      "{4, 6}\n"
     ]
    }
   ],
   "source": [
    "a = {1, 3, 4, 6}\n",
    "b = {2, 1, 5, 3}\n",
    "diff_set = a.difference(b)\n",
    "print(diff_set)"
   ]
  },
  {
   "cell_type": "markdown",
   "id": "37c414f2",
   "metadata": {},
   "source": [
    "# difference_upate(*others)\n",
    "Removes all the elements of anothe set from this set"
   ]
  },
  {
   "cell_type": "code",
   "execution_count": 18,
   "id": "1d4f9e98",
   "metadata": {},
   "outputs": [
    {
     "name": "stdout",
     "output_type": "stream",
     "text": [
      "{4, 6}\n"
     ]
    }
   ],
   "source": [
    "a = {1, 3, 4, 6}\n",
    "b = {2, 1, 5, 3}\n",
    "a.difference_update(b)\n",
    "print(a)"
   ]
  },
  {
   "cell_type": "markdown",
   "id": "792802f2",
   "metadata": {},
   "source": [
    "# symmetric_difference(other)\n",
    "Returns a set with the symmetric differences of two sets."
   ]
  },
  {
   "cell_type": "code",
   "execution_count": 19,
   "id": "b279d3c3",
   "metadata": {},
   "outputs": [
    {
     "name": "stdout",
     "output_type": "stream",
     "text": [
      "{2, 4, 5, 6}\n"
     ]
    }
   ],
   "source": [
    "a = {1, 3, 4, 6}\n",
    "b = {2, 1, 5, 3}\n",
    "sym_diff = a.symmetric_difference(b)\n",
    "print(sym_diff)"
   ]
  },
  {
   "cell_type": "markdown",
   "id": "5e1feea0",
   "metadata": {},
   "source": [
    "# symmetric_difference_update(other)\n",
    "Updates a set with the symmetric difference of itself and another.\n",
    "\n"
   ]
  },
  {
   "cell_type": "code",
   "execution_count": 20,
   "id": "6e192c08",
   "metadata": {},
   "outputs": [
    {
     "name": "stdout",
     "output_type": "stream",
     "text": [
      "{2, 4, 5, 6}\n"
     ]
    }
   ],
   "source": [
    "a = {1, 3, 4, 6}\n",
    "b = {2, 1, 5, 3}\n",
    "a.symmetric_difference_update(b)\n",
    "print(a)"
   ]
  },
  {
   "cell_type": "markdown",
   "id": "a77788bd",
   "metadata": {},
   "source": [
    "# isdisjoint(other)\n",
    "Returns True if two sets have a null intersection."
   ]
  },
  {
   "cell_type": "code",
   "execution_count": 21,
   "id": "2f299a5f",
   "metadata": {},
   "outputs": [
    {
     "name": "stdout",
     "output_type": "stream",
     "text": [
      "True\n"
     ]
    }
   ],
   "source": [
    "a = {1, 3}\n",
    "b = {2, 5}\n",
    "print (a.isdisjoint(b))"
   ]
  },
  {
   "cell_type": "markdown",
   "id": "c8cd75fa",
   "metadata": {},
   "source": [
    "# issubset(other)\n",
    "Returns True if another set contains this set.\n"
   ]
  },
  {
   "cell_type": "code",
   "execution_count": 22,
   "id": "704ccb0a",
   "metadata": {},
   "outputs": [
    {
     "name": "stdout",
     "output_type": "stream",
     "text": [
      "False True\n"
     ]
    }
   ],
   "source": [
    "a = {1, 3 , 4, 5, 2}\n",
    "b = {2, 5}\n",
    "print (a.issubset(b), b.issubset(a))"
   ]
  },
  {
   "cell_type": "markdown",
   "id": "32114a9c",
   "metadata": {},
   "source": [
    "# issuperset(other)\n",
    "Returns True if this set contains another set\n"
   ]
  },
  {
   "cell_type": "code",
   "execution_count": 23,
   "id": "4696c382",
   "metadata": {},
   "outputs": [
    {
     "name": "stdout",
     "output_type": "stream",
     "text": [
      "True\n"
     ]
    }
   ],
   "source": [
    "a = {1, 3 , 4, 5, 2}\n",
    "b = {2, 5}\n",
    "print (a.issuperset(b))"
   ]
  }
 ],
 "metadata": {
  "kernelspec": {
   "display_name": "Python 3 (ipykernel)",
   "language": "python",
   "name": "python3"
  },
  "language_info": {
   "codemirror_mode": {
    "name": "ipython",
    "version": 3
   },
   "file_extension": ".py",
   "mimetype": "text/x-python",
   "name": "python",
   "nbconvert_exporter": "python",
   "pygments_lexer": "ipython3",
   "version": "3.9.7"
  }
 },
 "nbformat": 4,
 "nbformat_minor": 5
}
