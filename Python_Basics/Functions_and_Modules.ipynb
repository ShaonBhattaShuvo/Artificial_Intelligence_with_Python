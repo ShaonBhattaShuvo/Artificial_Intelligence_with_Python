{
 "cells": [
  {
   "cell_type": "markdown",
   "id": "2060072e",
   "metadata": {},
   "source": [
    "# Functions and Modules"
   ]
  },
  {
   "cell_type": "markdown",
   "id": "6c880d7f",
   "metadata": {},
   "source": [
    "A basic function definition includes the 'def' keyword, the function name, parentheses (potentially with parameters), and a colon. The function body follows the colon. Functions are used to encapsulate code into reusable blocks."
   ]
  },
  {
   "cell_type": "code",
   "execution_count": 1,
   "id": "30002d69",
   "metadata": {},
   "outputs": [
    {
     "name": "stdout",
     "output_type": "stream",
     "text": [
      "Hello, World!\n"
     ]
    }
   ],
   "source": [
    "def greet():     #function defintion\n",
    "    print(\"Hello, World!\")  #body of the function\n",
    "\n",
    "greet()  # Calling the function"
   ]
  },
  {
   "cell_type": "code",
   "execution_count": 2,
   "id": "ceb37911",
   "metadata": {},
   "outputs": [
    {
     "name": "stdout",
     "output_type": "stream",
     "text": [
      "Hello, Leo!\n",
      "Hello, Messi!\n"
     ]
    }
   ],
   "source": [
    "#Parameters and Arguments: to make the function more generic \n",
    "#Functions can take parameters, allowing you to pass arguments into the function when you call it.\n",
    "\n",
    "def greet(name):\n",
    "    print(f\"Hello, {name}!\")\n",
    "\n",
    "greet(\"Leo\")  # Passing \"Leo\" as an argument to the function\n",
    "greet(\"Messi\") # Passing \"Messi\" as an argument to the function"
   ]
  },
  {
   "cell_type": "code",
   "execution_count": 3,
   "id": "6106b9d3",
   "metadata": {},
   "outputs": [
    {
     "name": "stdout",
     "output_type": "stream",
     "text": [
      "7\n"
     ]
    }
   ],
   "source": [
    "#return: \n",
    "#Functions can return values using the return statement. The function exits when the return statement is executed.\n",
    "\n",
    "def add(a, b):\n",
    "    return a + b\n",
    "\n",
    "result = add(3, 4) #returns the value 7 and which is assigned result\n",
    "print(result)  # Outputs: 7n Values: "
   ]
  },
  {
   "cell_type": "code",
   "execution_count": 4,
   "id": "85629ccc",
   "metadata": {},
   "outputs": [
    {
     "name": "stdout",
     "output_type": "stream",
     "text": [
      "Hello, Messi!\n",
      "Hello, Shaon!\n"
     ]
    }
   ],
   "source": [
    "#Default Parameter Values: making them optional during function calls.\n",
    "#If the argument is omitted when the function is called, the parameter assumes the default value.\n",
    "def greet(name=\"Messi\"):\n",
    "    print(f\"Hello, {name}!\")\n",
    "\n",
    "greet()            # Outputs: Hello, Messi!\n",
    "greet(\"Shaon\") # Outputs: Hello, Shaon!\n"
   ]
  },
  {
   "cell_type": "code",
   "execution_count": 5,
   "id": "2ab69f29",
   "metadata": {},
   "outputs": [
    {
     "name": "stdout",
     "output_type": "stream",
     "text": [
      "I have a dog named Tomy.\n"
     ]
    }
   ],
   "source": [
    "# Keyword Arguments:\n",
    "# When calling functions,we can use keyword arguments by specifying the parameter name and value, allowing\n",
    "# us to pass arguments in a different order.\n",
    "\n",
    "def describe_pet(animal, name):\n",
    "    print(f\"I have a {animal} named {name}.\")\n",
    "\n",
    "describe_pet(name=\"Tomy\", animal=\"dog\")\n"
   ]
  },
  {
   "cell_type": "markdown",
   "id": "70ca32fb",
   "metadata": {},
   "source": [
    "# Scope and Lifetime of Variables"
   ]
  },
  {
   "cell_type": "code",
   "execution_count": 6,
   "id": "9ef1590a",
   "metadata": {},
   "outputs": [
    {
     "name": "stdout",
     "output_type": "stream",
     "text": [
      "10\n"
     ]
    }
   ],
   "source": [
    "#Local Scope: Variables created inside a function are local to that function and cannot be accessed outside of it.\n",
    "def my_func():\n",
    "    x = 10\n",
    "    print(x)\n",
    "\n",
    "my_func()\n",
    "#print(x)  # This would raise an error because x is not defined outside my_func.\n"
   ]
  },
  {
   "cell_type": "code",
   "execution_count": 7,
   "id": "a14c68c1",
   "metadata": {},
   "outputs": [
    {
     "name": "stdout",
     "output_type": "stream",
     "text": [
      "5\n"
     ]
    }
   ],
   "source": [
    "#Global Scope: Variables defined outside of any function are global and can be accessed from any function within the same module.\n",
    "y = 5\n",
    "\n",
    "def my_fun2():\n",
    "    print(y)\n",
    "\n",
    "my_fun2()  # Outputs: 5\n"
   ]
  },
  {
   "cell_type": "code",
   "execution_count": 8,
   "id": "4c7b8148",
   "metadata": {},
   "outputs": [
    {
     "name": "stdout",
     "output_type": "stream",
     "text": [
      "12\n",
      "12\n"
     ]
    }
   ],
   "source": [
    "#However, to modify a global variable inside a function, you must declare it as global:\n",
    "z = 10\n",
    "def my_fun3():\n",
    "    global z\n",
    "    z = z + 2\n",
    "    print(z)\n",
    "\n",
    "my_fun3()\n",
    "print(z)"
   ]
  },
  {
   "cell_type": "markdown",
   "id": "e3434604",
   "metadata": {},
   "source": [
    "# Functions as Parameters\n",
    "Functions in Python can accept other functions as parameters, allowing for higher-order functions."
   ]
  },
  {
   "cell_type": "code",
   "execution_count": 9,
   "id": "724f4059",
   "metadata": {},
   "outputs": [
    {
     "name": "stdout",
     "output_type": "stream",
     "text": [
      "HELLO MESSI!\n"
     ]
    }
   ],
   "source": [
    "def greet(name):\n",
    "    return f\"Hello {name}!\"\n",
    "\n",
    "def shout(fun_name, fun_arg):\n",
    "    msg = fun_name(fun_arg)\n",
    "    return msg.upper()\n",
    "\n",
    "print(shout(greet, 'messi'))"
   ]
  },
  {
   "cell_type": "code",
   "execution_count": 10,
   "id": "9d08962c",
   "metadata": {},
   "outputs": [
    {
     "data": {
      "text/plain": [
       "[1, 8, 27, 64, 125]"
      ]
     },
     "execution_count": 10,
     "metadata": {},
     "output_type": "execute_result"
    }
   ],
   "source": [
    "#Example: Applying a Function to All Elements in a List\n",
    "def cube(x):\n",
    "    return x * x * x\n",
    "\n",
    "def cubed_list(fun_name, fun_arg):\n",
    "    return [fun_name(item) for item in fun_arg]\n",
    "\n",
    "sample = [1, 2, 3, 4, 5]\n",
    "cubed_sample = cubed_list(cube, sample)\n",
    "cubed_sample"
   ]
  },
  {
   "cell_type": "code",
   "execution_count": 11,
   "id": "135b354b",
   "metadata": {},
   "outputs": [
    {
     "data": {
      "text/plain": [
       "[1, 3, 5]"
      ]
     },
     "execution_count": 11,
     "metadata": {},
     "output_type": "execute_result"
    }
   ],
   "source": [
    "#Example: Filtering a List\n",
    "def odd(x):\n",
    "    return x % 2 == 1\n",
    "\n",
    "def filter_list(fun_name, fun_arg):\n",
    "    return [item for item in fun_arg if fun_name(item)]\n",
    "\n",
    "sample = [1, 2, 3, 4, 5]\n",
    "filtered_sample = filter_list(odd, sample)\n",
    "filtered_sample"
   ]
  },
  {
   "cell_type": "markdown",
   "id": "0fd7944b",
   "metadata": {},
   "source": [
    "# *args and **kwargs \n",
    "*args allows a function to accept any number of positional arguments.\n",
    "\n",
    "**kwargs allows a function to accept any number of keyword arguments.\n",
    "\n",
    "They can be combined with standard positional parameters.\n",
    "\n",
    "Useful in function overriding, decorators, and when working with APIs that may evolve over time."
   ]
  },
  {
   "cell_type": "markdown",
   "id": "4c1cb8a9",
   "metadata": {},
   "source": [
    "# Understanding *args\n",
    "The *args parameter in Python functions is used to pass a variable number of non-keyword arguments. \n",
    "The asterisk * before the parameter name args is what matters – it denotes variable-length arguments. Inside the function, args is treated as a tuple.\n",
    "\n"
   ]
  },
  {
   "cell_type": "code",
   "execution_count": 12,
   "id": "57837740",
   "metadata": {},
   "outputs": [
    {
     "name": "stdout",
     "output_type": "stream",
     "text": [
      "8\n",
      "10\n"
     ]
    }
   ],
   "source": [
    "def addall(*args):\n",
    "    total = 0\n",
    "    for num in args:\n",
    "        total += num\n",
    "    return total\n",
    "\n",
    "#Can pass as many arguments as needed, and they will all be collected into the args tuple.\n",
    "print(addall(1, 5, 2))\n",
    "print(addall(3, 7))"
   ]
  },
  {
   "cell_type": "markdown",
   "id": "0c0eb8e7",
   "metadata": {},
   "source": [
    "Combining with Positional Arguments:\n",
    "\n",
    "We can also combine *args with standard positional arguments."
   ]
  },
  {
   "cell_type": "code",
   "execution_count": 13,
   "id": "bf95ffdd",
   "metadata": {},
   "outputs": [
    {
     "name": "stdout",
     "output_type": "stream",
     "text": [
      "Hi Shaon!\n",
      "Hello from the other side..\n",
      "How is it going?\n"
     ]
    }
   ],
   "source": [
    "def greet(name, *args):\n",
    "    print(f\"Hi {name}!\")\n",
    "    for val in args:\n",
    "        print(f\"{val}\")\n",
    "\n",
    "greet('Shaon', 'Hello from the other side..', 'How is it going?')"
   ]
  },
  {
   "cell_type": "markdown",
   "id": "51c27a5e",
   "metadata": {},
   "source": [
    "# Understanding **kwargs\n",
    "The **kwargs parameter allows you to pass a variable number of keyword arguments to a function. The double asterisk ** before the parameter name kwargs is crucial – it denotes that kwargs will be a dictionary containing all keyword arguments that are not corresponding to any formal parameter."
   ]
  },
  {
   "cell_type": "code",
   "execution_count": 14,
   "id": "25070204",
   "metadata": {},
   "outputs": [
    {
     "name": "stdout",
     "output_type": "stream",
     "text": [
      "name: The Financial Expert\n",
      "writer: RK Narayan\n",
      "price: 150\n"
     ]
    }
   ],
   "source": [
    "def book_info(**kwargs):\n",
    "    for key, value in kwargs.items():\n",
    "        print(f\"{key}: {value}\")\n",
    "book_info(name=\"The Financial Expert\", writer='RK Narayan', price=150)"
   ]
  },
  {
   "cell_type": "markdown",
   "id": "333fa814",
   "metadata": {},
   "source": [
    "# Combining with Other Arguments:\n",
    "\n",
    "**kwargs can be combined with *args and standard positional arguments.\n",
    "\n",
    "Order to be followed:  fun(positional_argument, *agrs, named_argements, **kwargs)"
   ]
  },
  {
   "cell_type": "code",
   "execution_count": 15,
   "id": "9b4efaee",
   "metadata": {},
   "outputs": [
    {
     "name": "stdout",
     "output_type": "stream",
     "text": [
      "Jersey: 10\n",
      "Leonel Messi\n",
      "36\n",
      "Country: Argentina\n",
      "Sports : Football\n",
      "Position : Forward\n",
      "Team : FC Barcelona\n"
     ]
    }
   ],
   "source": [
    "def player_info(jersey, *args, country='Canada', **kwargs):\n",
    "    print(f'Jersey: {jersey}')\n",
    "    \n",
    "    for val in args:\n",
    "        print(val)\n",
    "        \n",
    "    print(f'Country: {country}')\n",
    "    \n",
    "    for key, val in kwargs.items():\n",
    "        \n",
    "        print(f'{key} : {val}')\n",
    "\n",
    "player_info(10, 'Leonel Messi', 36, country='Argentina', Sports='Football', Position='Forward', Team ='FC Barcelona')"
   ]
  },
  {
   "cell_type": "code",
   "execution_count": 16,
   "id": "c5dfdf04",
   "metadata": {},
   "outputs": [
    {
     "name": "stdout",
     "output_type": "stream",
     "text": [
      "Jersey: 10\n",
      "Leonel Messi\n",
      "36\n",
      "Sports : Football\n",
      "Position : Forward\n",
      "Team : FC Barcelona\n"
     ]
    }
   ],
   "source": [
    "def player_info(jersey, *args, **kwargs):\n",
    "    print(f'Jersey: {jersey}')\n",
    "    for val in args:\n",
    "        print(val)\n",
    "    for key, val in kwargs.items():\n",
    "        print(f'{key} : {val}')\n",
    "\n",
    "player_info(10, 'Leonel Messi', 36, Sports='Football', Position='Forward', Team ='FC Barcelona')"
   ]
  },
  {
   "cell_type": "markdown",
   "id": "cdfdc079",
   "metadata": {},
   "source": [
    "Passing *args and **kwargs to Other Functions:\n",
    "\n",
    "We can pass *args and **kwargs to other functions that accept variable-length arguments."
   ]
  },
  {
   "cell_type": "code",
   "execution_count": 17,
   "id": "7c5c10e0",
   "metadata": {},
   "outputs": [
    {
     "name": "stdout",
     "output_type": "stream",
     "text": [
      "(1, 2, 3)\n",
      "{'a': 4, 'b': 5}\n"
     ]
    }
   ],
   "source": [
    "def fun_one(*args, **kwargs):\n",
    "    print(args)\n",
    "    print(kwargs)\n",
    "\n",
    "def fun_two(*args, **kwargs):\n",
    "    fun_one(*args, **kwargs)\n",
    "\n",
    "\n",
    "fun_two(1, 2, 3, a=4, b=5)"
   ]
  },
  {
   "cell_type": "markdown",
   "id": "863cd807",
   "metadata": {},
   "source": [
    "While calling- when we pass a list to a function with *list, it expands the list items into individual arguments. "
   ]
  },
  {
   "cell_type": "code",
   "execution_count": 18,
   "id": "01ddeda7",
   "metadata": {},
   "outputs": [
    {
     "data": {
      "text/plain": [
       "(21, 6)"
      ]
     },
     "execution_count": 18,
     "metadata": {},
     "output_type": "execute_result"
    }
   ],
   "source": [
    "def fun_total(*args):\n",
    "    return sum(args)\n",
    "\n",
    "numbers=[1, 3, 7, 10]\n",
    "\n",
    "fun_total(*numbers), fun_total(*[1, 2, 3])"
   ]
  },
  {
   "cell_type": "code",
   "execution_count": 19,
   "id": "e49b97a4",
   "metadata": {},
   "outputs": [
    {
     "name": "stdout",
     "output_type": "stream",
     "text": [
      "a = 1\n",
      "b = 3\n",
      "c = 7\n"
     ]
    }
   ],
   "source": [
    "def fun_test(a, b, c):\n",
    "    print(f'a = {a}')\n",
    "    print(f'b = {b}')\n",
    "    print(f'c = {c}')\n",
    "\n",
    "numbers=[1, 3, 7]\n",
    "\n",
    "fun_test(*numbers)\n"
   ]
  },
  {
   "cell_type": "code",
   "execution_count": 20,
   "id": "2c787cf2",
   "metadata": {},
   "outputs": [
    {
     "name": "stdout",
     "output_type": "stream",
     "text": [
      "[1, 2, 3, 4, 5, 6]\n"
     ]
    }
   ],
   "source": [
    "def merge_lists(*args):\n",
    "    merged_list = []\n",
    "    for lst in args:\n",
    "        merged_list.extend(lst)\n",
    "    return merged_list\n",
    "\n",
    "list_of_lists = [[1, 2], [3, 4], [5, 6]]\n",
    "merged = merge_lists(*list_of_lists)\n",
    "print(merged)  "
   ]
  },
  {
   "cell_type": "code",
   "execution_count": 21,
   "id": "4a05ded0",
   "metadata": {},
   "outputs": [
    {
     "name": "stdout",
     "output_type": "stream",
     "text": [
      "The quick brown fox jumps over the lazy dog\n"
     ]
    }
   ],
   "source": [
    "#use in string formating\n",
    "template = \"The quick {} fox jumps over the {} dog\"\n",
    "\n",
    "words = [\"brown\", \"lazy\"]\n",
    "\n",
    "# Using * to unpack arguments for string formatting\n",
    "formatted_string = template.format(*words)\n",
    "print(formatted_string)  "
   ]
  },
  {
   "cell_type": "code",
   "execution_count": 22,
   "id": "2968c760",
   "metadata": {},
   "outputs": [],
   "source": [
    "import matplotlib.pyplot as plt\n",
    "\n",
    "x_points = [1, 2, 3, 4, 5]\n",
    "y_points = [1, 4, 9, 16, 25]\n",
    "points = list(zip(x_points, y_points)) # Assuming points = [(1, 1), (2, 4), (3, 9), (4, 16), (5, 25)]\n",
    "#unzip into x and y coordinate lists and plot\n",
    "# plt.plot(*zip(*points), 'ro') #plt.plot(x_points, y_points, 'ro')  # 'ro' for red dots\n",
    "# plt.axis([0, 6, 0, 30])  # Set the axis view limits\n",
    "# plt.show()"
   ]
  },
  {
   "cell_type": "markdown",
   "id": "41e64e34",
   "metadata": {},
   "source": [
    "Using *args and **kwargs with Inheritance:\n",
    "\n",
    "They can be particularly useful when overriding methods in subclasses.\n",
    "\n"
   ]
  },
  {
   "cell_type": "code",
   "execution_count": 23,
   "id": "19893871",
   "metadata": {},
   "outputs": [
    {
     "name": "stdout",
     "output_type": "stream",
     "text": [
      "Display: Child class.\n",
      "Calling parent display method:\n",
      "Display: Parent class.\n",
      "(2, 1)\n",
      "{'a': 6, 'b': 2, 'c': 3}\n"
     ]
    }
   ],
   "source": [
    "class Parent:\n",
    "    \n",
    "    def display(self, *args, **kwargs):\n",
    "        print(\"Display: Parent class.\")\n",
    "        print(args)\n",
    "        print(kwargs)\n",
    "\n",
    "class Child(Parent):\n",
    "    \n",
    "    def display(self, *args, **kwargs):\n",
    "        print(\"Display: Child class.\")\n",
    "        print('Calling parent display method:')\n",
    "        super().display(*args, **kwargs)\n",
    "        \n",
    "child = Child()\n",
    "child.display(2, 1, a = 6, b = 2, c = 3)"
   ]
  },
  {
   "cell_type": "markdown",
   "id": "f9e33639",
   "metadata": {},
   "source": [
    "# map function\n",
    "The map function applies a given function to each item of an iterable (like a list) and returns a map object (which is an iterator). \n",
    "\n",
    "map(function, iterable, ...)\n",
    "\n",
    "* function: The function to execute for each item.\n",
    "* iterable: The iterable to be processed (e.g., list or tuple)."
   ]
  },
  {
   "cell_type": "code",
   "execution_count": 24,
   "id": "0eb35854",
   "metadata": {},
   "outputs": [
    {
     "data": {
      "text/plain": [
       "[1, 8, 27]"
      ]
     },
     "execution_count": 24,
     "metadata": {},
     "output_type": "execute_result"
    }
   ],
   "source": [
    "def cubed(x):\n",
    "    return x * x * x\n",
    "\n",
    "numbers = [1, 2, 3]\n",
    "\n",
    "list(map(cubed, numbers))\n"
   ]
  },
  {
   "cell_type": "code",
   "execution_count": 25,
   "id": "fb160a0d",
   "metadata": {},
   "outputs": [
    {
     "data": {
      "text/plain": [
       "[5, 7, 9]"
      ]
     },
     "execution_count": 25,
     "metadata": {},
     "output_type": "execute_result"
    }
   ],
   "source": [
    "def add(x, y):\n",
    "    return x + y\n",
    "\n",
    "a = [1, 2, 3]\n",
    "b = [4, 5, 6]\n",
    "\n",
    "result = map(add, a, b)\n",
    "list(result)"
   ]
  },
  {
   "cell_type": "code",
   "execution_count": 26,
   "id": "4ad80dcb",
   "metadata": {},
   "outputs": [
    {
     "name": "stdout",
     "output_type": "stream",
     "text": [
      "[2, 2, 3, 5, 5, 8]\n"
     ]
    }
   ],
   "source": [
    "#we can also use map with builin functions\n",
    "nums = [1.9, 2.1, 3.4, 4.6, 5.0, 7.5]\n",
    "round_nums = map(round, nums)\n",
    "print(list(round_nums))"
   ]
  },
  {
   "cell_type": "markdown",
   "id": "ca5cd536",
   "metadata": {},
   "source": [
    "# filter function\n",
    "The filter function constructs an iterator from elements of an iterable for which a function returns true. In other words, it filters the given iterable with the help of a function that tests each element in the iterable to be true or not. The generic structure is: filter(function, iterable)"
   ]
  },
  {
   "cell_type": "code",
   "execution_count": 27,
   "id": "5138c3f1",
   "metadata": {},
   "outputs": [
    {
     "data": {
      "text/plain": [
       "[1, 3]"
      ]
     },
     "execution_count": 27,
     "metadata": {},
     "output_type": "execute_result"
    }
   ],
   "source": [
    "def is_odd(x):\n",
    "    return x % 2 == 1\n",
    "\n",
    "numbers = [1, 2, 3]\n",
    "\n",
    "list(filter(is_odd, numbers))\n"
   ]
  },
  {
   "cell_type": "markdown",
   "id": "721b5dfd",
   "metadata": {},
   "source": [
    "# Lambda Functions\n",
    "Lambda functions are small anonymous functions defined with the lambda keyword. They can have any number of arguments but only one expression."
   ]
  },
  {
   "cell_type": "code",
   "execution_count": 28,
   "id": "bcc71358",
   "metadata": {},
   "outputs": [
    {
     "data": {
      "text/plain": [
       "35"
      ]
     },
     "execution_count": 28,
     "metadata": {},
     "output_type": "execute_result"
    }
   ],
   "source": [
    "multiply = lambda a, b : a * b\n",
    "\n",
    "c = multiply(5,7)\n",
    "c"
   ]
  },
  {
   "cell_type": "code",
   "execution_count": 29,
   "id": "2cf98ab6",
   "metadata": {},
   "outputs": [
    {
     "data": {
      "text/plain": [
       "[(4, 'four'), (1, 'one'), (3, 'three'), (2, 'two')]"
      ]
     },
     "execution_count": 29,
     "metadata": {},
     "output_type": "execute_result"
    }
   ],
   "source": [
    "#Example: Sorting a List of Tuples\n",
    "pairs = [(1, 'one'), (3, 'three'), (2, 'two'), (4, 'four')]\n",
    "pairs.sort(key = lambda pair : pair[1]) #sort the touple based on the second element of each touple (string sort)\n",
    "pairs"
   ]
  },
  {
   "cell_type": "code",
   "execution_count": 30,
   "id": "126723fb",
   "metadata": {},
   "outputs": [
    {
     "data": {
      "text/plain": [
       "[1, 4, 9, 16, 25]"
      ]
     },
     "execution_count": 30,
     "metadata": {},
     "output_type": "execute_result"
    }
   ],
   "source": [
    "#Exmple: Applying a Lambda Function in map()\n",
    "numbers = [1, 2, 3, 4, 5]\n",
    "squared_numbers = list(map(lambda x: x*x, numbers))\n",
    "squared_numbers"
   ]
  },
  {
   "cell_type": "code",
   "execution_count": 31,
   "id": "8ef3b9d2",
   "metadata": {},
   "outputs": [
    {
     "data": {
      "text/plain": [
       "[1, 3, 5]"
      ]
     },
     "execution_count": 31,
     "metadata": {},
     "output_type": "execute_result"
    }
   ],
   "source": [
    "#Example: Using Lambda Functions with filter()\n",
    "numbers = [1, 2, 3, 4, 5]\n",
    "filtered_odd = list(filter(lambda x: x%2 == 1, numbers))\n",
    "filtered_odd"
   ]
  },
  {
   "cell_type": "code",
   "execution_count": 32,
   "id": "ebaf706e",
   "metadata": {},
   "outputs": [
    {
     "data": {
      "text/plain": [
       "(10, 6)"
      ]
     },
     "execution_count": 32,
     "metadata": {},
     "output_type": "execute_result"
    }
   ],
   "source": [
    "#lamda with *args \n",
    "total = (lambda *args : sum(args))\n",
    "\n",
    "nums = [1 ,2, 3, 4]\n",
    "\n",
    "total(*nums), total(1, 2, 3)\n"
   ]
  },
  {
   "cell_type": "code",
   "execution_count": 33,
   "id": "808de718",
   "metadata": {},
   "outputs": [
    {
     "data": {
      "text/plain": [
       "(6, 8, 100)"
      ]
     },
     "execution_count": 33,
     "metadata": {},
     "output_type": "execute_result"
    }
   ],
   "source": [
    "#lamda with **kwargs\n",
    "total = (lambda **kwargs : sum(kwargs.values()))\n",
    "\n",
    "nums = {'one': 1, 'two':2, 'three': 3}\n",
    "\n",
    "total(**nums), total(**{'1':5, '2':3}), total(a = 10, b = 20, c = 30, d = 40)"
   ]
  },
  {
   "cell_type": "code",
   "execution_count": 34,
   "id": "ac5f45f0",
   "metadata": {},
   "outputs": [
    {
     "data": {
      "text/plain": [
       "(6, 15, 240000)"
      ]
     },
     "execution_count": 34,
     "metadata": {},
     "output_type": "execute_result"
    }
   ],
   "source": [
    "def multiply(nums):\n",
    "    total = 1\n",
    "    for num in nums:\n",
    "        total *= num\n",
    "    return total\n",
    "\n",
    "multi = lambda **kwargs : multiply(kwargs.values())\n",
    "\n",
    "nums = {'one': 1, 'two':2, 'three': 3}\n",
    "\n",
    "multi(**nums), multi(**{'1':5, '2':3}), multi(a = 10, b = 20, c = 30, d = 40)"
   ]
  },
  {
   "cell_type": "markdown",
   "id": "9d161331",
   "metadata": {},
   "source": [
    "lambda as a return function and calling back"
   ]
  },
  {
   "cell_type": "code",
   "execution_count": 35,
   "id": "b6027ab7",
   "metadata": {},
   "outputs": [
    {
     "data": {
      "text/plain": [
       "(50, 25)"
      ]
     },
     "execution_count": 35,
     "metadata": {},
     "output_type": "execute_result"
    }
   ],
   "source": [
    "def lambda_return_test(n):\n",
    "    return lambda p : p * n\n",
    "\n",
    "test1 = lambda_return_test(10) #passed n = 10 and will return lambda p : p * 10 to test1\n",
    "test2 = lambda_return_test(5)  #passed n = 5 and will return lambda p : p * 5 to test1\n",
    "\n",
    "test1(5), test2(5)"
   ]
  },
  {
   "cell_type": "markdown",
   "id": "20992c80",
   "metadata": {},
   "source": [
    "# Modules\n",
    "Modules in Python are simply Python files with a .py extension that contain Python code. They can define functions, classes, and variables that you can reuse in other Python scripts. There are many built-in modules available in python, however we can also create a custom module with a .py extension file."
   ]
  },
  {
   "cell_type": "markdown",
   "id": "70a09fe6",
   "metadata": {},
   "source": [
    "Built-in modules examples:"
   ]
  },
  {
   "cell_type": "code",
   "execution_count": 36,
   "id": "b7c7be47",
   "metadata": {},
   "outputs": [
    {
     "name": "stdout",
     "output_type": "stream",
     "text": [
      "4.0\n"
     ]
    }
   ],
   "source": [
    "#Importing a Module:\n",
    "import math\n",
    "print(math.sqrt(16))"
   ]
  },
  {
   "cell_type": "code",
   "execution_count": 37,
   "id": "effb3c0e",
   "metadata": {},
   "outputs": [
    {
     "name": "stdout",
     "output_type": "stream",
     "text": [
      "4.0\n",
      "3.141592653589793\n"
     ]
    }
   ],
   "source": [
    "#Importing Specific Attributes:\n",
    "from math import sqrt\n",
    "print(sqrt(16))\n",
    "\n",
    "from math import pi\n",
    "print(pi)  # Outputs: 3.141592653589793"
   ]
  },
  {
   "cell_type": "code",
   "execution_count": 38,
   "id": "5af98dca",
   "metadata": {},
   "outputs": [
    {
     "name": "stdout",
     "output_type": "stream",
     "text": [
      "4.0\n",
      "-1.0\n"
     ]
    }
   ],
   "source": [
    "#Importing with Aliases:\n",
    "import math as m\n",
    "print(m.sqrt(16))\n",
    "print(m.cos(m.pi))  # Outputs: -1.0"
   ]
  },
  {
   "cell_type": "raw",
   "id": "841aa882",
   "metadata": {},
   "source": [
    "# Using if __name__ == \"__main__\":\n",
    "When a Python file is run, Python sets the special variable __name__ to \"__main__\" if the module being run is the main program. This check is used to execute code only if the file is run as a script and not imported as a module."
   ]
  },
  {
   "cell_type": "code",
   "execution_count": 39,
   "id": "391bb459",
   "metadata": {
    "scrolled": true
   },
   "outputs": [
    {
     "name": "stdout",
     "output_type": "stream",
     "text": [
      "Hello, world!\n"
     ]
    }
   ],
   "source": [
    "def main():\n",
    "    print(\"Hello, world!\")\n",
    "\n",
    "if __name__ == \"__main__\":\n",
    "    main()\n"
   ]
  },
  {
   "cell_type": "markdown",
   "id": "f27db7ad",
   "metadata": {},
   "source": []
  },
  {
   "cell_type": "markdown",
   "id": "20136723",
   "metadata": {},
   "source": [
    "Custom Module Example:"
   ]
  },
  {
   "cell_type": "code",
   "execution_count": 40,
   "id": "9622b363",
   "metadata": {},
   "outputs": [
    {
     "name": "stdout",
     "output_type": "stream",
     "text": [
      "Hello, Messi!\n"
     ]
    }
   ],
   "source": [
    "#Suppose we have a file named custom_module.py with the following code:\n",
    "def say_hello(name):\n",
    "    print(f\"Hello, {name}!\")\n",
    "\n",
    "#We can use the function say_hello from the module mymodule in another Python script like so:\n",
    "#import custom_module\n",
    "#custom_module.say_hello(\"Messi\")\n",
    "\n",
    "#-- or using specific item import--#\n",
    "\n",
    "#from custom_module import say_hello\n",
    "say_hello(\"Messi\")"
   ]
  },
  {
   "cell_type": "markdown",
   "id": "29f694fc",
   "metadata": {},
   "source": [
    "# reduce function\n",
    "The reduce function is part of the functools module. It applies a function of two arguments cumulatively to the items of an iterable, from left to right, so as to reduce the iterable to a single value. The structure of the reduce function is: \n",
    "\n",
    "reduce(function, iterable[, initializer])\n",
    "\n",
    "* function: The function to execute. It should accept two arguments and return a single value.\n",
    "* iterable: The iterable whose items are to be reduced.\n",
    "* initializer: (Optional) A value to provide as the initial value. If the iterable is empty, the initializer is returned (if provided)."
   ]
  },
  {
   "cell_type": "code",
   "execution_count": 41,
   "id": "04aaec72",
   "metadata": {},
   "outputs": [
    {
     "name": "stdout",
     "output_type": "stream",
     "text": [
      "15\n",
      "25\n"
     ]
    }
   ],
   "source": [
    "from functools import reduce\n",
    "\n",
    "def add(x, y):\n",
    "    return x + y\n",
    "\n",
    "numbers = [1, 2, 3, 4, 5]\n",
    "result = reduce(add, numbers)\n",
    "\n",
    "print(result)  # Outputs: 15\n",
    "\n",
    "result_with_initializer = reduce(add, numbers, 10) # 10 + 1 + 2 + 3 + 4 + 5\n",
    "print(result_with_initializer)"
   ]
  },
  {
   "cell_type": "code",
   "execution_count": 42,
   "id": "61038d64",
   "metadata": {},
   "outputs": [
    {
     "name": "stdout",
     "output_type": "stream",
     "text": [
      "21\n"
     ]
    }
   ],
   "source": [
    "numbers = [1, 2, 3, 5]\n",
    "result = reduce(lambda a, b : a + b, numbers, 10) \n",
    "print(result)"
   ]
  }
 ],
 "metadata": {
  "kernelspec": {
   "display_name": "Python 3 (ipykernel)",
   "language": "python",
   "name": "python3"
  },
  "language_info": {
   "codemirror_mode": {
    "name": "ipython",
    "version": 3
   },
   "file_extension": ".py",
   "mimetype": "text/x-python",
   "name": "python",
   "nbconvert_exporter": "python",
   "pygments_lexer": "ipython3",
   "version": "3.9.7"
  }
 },
 "nbformat": 4,
 "nbformat_minor": 5
}
