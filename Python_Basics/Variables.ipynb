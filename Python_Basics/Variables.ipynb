{
 "cells": [
  {
   "cell_type": "markdown",
   "id": "9a507472",
   "metadata": {},
   "source": [
    "# Variables, Basic I/O Operations, Data Types and Arithmatic/Logical Operations, Keywords\n",
    "Variables: In Python, a variable is a storage location identified by a name or identifier. Variables are dynamically typed, which means you don't need to declare their type ahead of time."
   ]
  },
  {
   "cell_type": "code",
   "execution_count": 1,
   "id": "6c1e8396",
   "metadata": {},
   "outputs": [],
   "source": [
    "# Variable assignments\n",
    "a = 10\n",
    "b = 5.5\n",
    "message = \"Hello, Python!\"\n",
    "\n",
    "# Variables can be re-assigned and can change type\n",
    "a = \"Now I'm a string.\""
   ]
  },
  {
   "cell_type": "markdown",
   "id": "aaeeaaf0",
   "metadata": {},
   "source": [
    "id() function returns the “identity” of the object. The identity of an object - Is an unique integer to be unique and constant throughout the lifetime of the variable"
   ]
  },
  {
   "cell_type": "code",
   "execution_count": 2,
   "id": "7e4fbe8e",
   "metadata": {},
   "outputs": [
    {
     "data": {
      "text/plain": [
       "(140254312821664, 140254038318064)"
      ]
     },
     "execution_count": 2,
     "metadata": {},
     "output_type": "execute_result"
    }
   ],
   "source": [
    "id(a), id(b)"
   ]
  },
  {
   "cell_type": "code",
   "execution_count": 3,
   "id": "cf4c685b",
   "metadata": {},
   "outputs": [
    {
     "data": {
      "text/plain": [
       "('0x7f8f807e73a0', '0x7f8f7021dbf0')"
      ]
     },
     "execution_count": 3,
     "metadata": {},
     "output_type": "execute_result"
    }
   ],
   "source": [
    "#Memory address of the variable\n",
    "hex(id(a)), hex(id(b))"
   ]
  },
  {
   "cell_type": "code",
   "execution_count": 4,
   "id": "e728b16d",
   "metadata": {},
   "outputs": [
    {
     "data": {
      "text/plain": [
       "(str, float)"
      ]
     },
     "execution_count": 4,
     "metadata": {},
     "output_type": "execute_result"
    }
   ],
   "source": [
    "#Type of the variable\n",
    "type(a), type(b)"
   ]
  },
  {
   "cell_type": "code",
   "execution_count": 5,
   "id": "8c9709da",
   "metadata": {},
   "outputs": [
    {
     "data": {
      "text/plain": [
       "(float, str, int)"
      ]
     },
     "execution_count": 5,
     "metadata": {},
     "output_type": "execute_result"
    }
   ],
   "source": [
    "#Multiple variable assignments in a single line\n",
    "a, b, c = 5.2, 'Hello Python', 7\n",
    "\n",
    "type(a), type(b), type(c)"
   ]
  },
  {
   "cell_type": "code",
   "execution_count": 6,
   "id": "9b7b2b20",
   "metadata": {
    "scrolled": true
   },
   "outputs": [
    {
     "data": {
      "text/plain": [
       "(False, True, True)"
      ]
     },
     "execution_count": 6,
     "metadata": {},
     "output_type": "execute_result"
    }
   ],
   "source": [
    "#checking if a variable or object is particular type or not\n",
    "isinstance(a, str), isinstance(a, float), isinstance(b, str)"
   ]
  },
  {
   "cell_type": "markdown",
   "id": "8dfd1e3a",
   "metadata": {},
   "source": [
    "#  Input and Print\n",
    "\n",
    "The print() function is used to output data to the standard output device. It can take multiple arguments and format strings.\n",
    "\n",
    "The input() function allows the user to input data. It always returns a string, which can be converted to a different type if necessary."
   ]
  },
  {
   "cell_type": "code",
   "execution_count": 8,
   "id": "113d141d",
   "metadata": {},
   "outputs": [
    {
     "name": "stdout",
     "output_type": "stream",
     "text": [
      "Hello, World!\n",
      "What is your favorite color? Green\n",
      "Your favorite color is Green\n"
     ]
    }
   ],
   "source": [
    "# Output with print()\n",
    "print(\"Hello, World!\")\n",
    "\n",
    "# Input with input()\n",
    "favorite_color = input(\"What is your favorite color? \")\n",
    "print(\"Your favorite color is\", favorite_color)"
   ]
  },
  {
   "cell_type": "markdown",
   "id": "58391a7c",
   "metadata": {},
   "source": [
    "# Data type: integer (int)\n",
    "Integers (int): These are whole numbers which can be positive, negative, or zero. They are often used in Python to perform various arithmetic and logical operations."
   ]
  },
  {
   "cell_type": "code",
   "execution_count": 9,
   "id": "6e571b7a",
   "metadata": {},
   "outputs": [],
   "source": [
    "x = 10\n",
    "y = -5\n",
    "z = 0"
   ]
  },
  {
   "cell_type": "markdown",
   "id": "a1f45c9d",
   "metadata": {},
   "source": [
    "# Different formats of printing"
   ]
  },
  {
   "cell_type": "code",
   "execution_count": 10,
   "id": "978ed121",
   "metadata": {},
   "outputs": [
    {
     "name": "stdout",
     "output_type": "stream",
     "text": [
      "x=  10  y=  -5  z=  0\n"
     ]
    }
   ],
   "source": [
    "print(\"x= \",x,\" y= \", y, \" z= \", z) "
   ]
  },
  {
   "cell_type": "code",
   "execution_count": 11,
   "id": "d8938a86",
   "metadata": {},
   "outputs": [
    {
     "name": "stdout",
     "output_type": "stream",
     "text": [
      "x= 10 y= -5 z= 0\n"
     ]
    }
   ],
   "source": [
    "#Using the format() method:\n",
    "print(\"x= {} y= {} z= {}\".format(x, y, z))"
   ]
  },
  {
   "cell_type": "code",
   "execution_count": 12,
   "id": "b34137e8",
   "metadata": {},
   "outputs": [
    {
     "name": "stdout",
     "output_type": "stream",
     "text": [
      "x= 10 y= -5 z= 0\n"
     ]
    }
   ],
   "source": [
    "#Using f-strings (Formatted String Literals):\n",
    "print(f\"x= {x} y= {y} z= {z}\")"
   ]
  },
  {
   "cell_type": "code",
   "execution_count": 13,
   "id": "cacb1211",
   "metadata": {},
   "outputs": [
    {
     "name": "stdout",
     "output_type": "stream",
     "text": [
      "x= 10 y= -5 z= 0\n"
     ]
    }
   ],
   "source": [
    "#Using % formatting\n",
    "print(\"x= %d y= %d z= %d\" % (x, y, z))  "
   ]
  },
  {
   "cell_type": "markdown",
   "id": "324c0ca2",
   "metadata": {},
   "source": [
    "# Arithmetic operations with integers\n"
   ]
  },
  {
   "cell_type": "code",
   "execution_count": 14,
   "id": "3e1bc61a",
   "metadata": {},
   "outputs": [
    {
     "name": "stdout",
     "output_type": "stream",
     "text": [
      "Sum: 5, Remainder: 1\n"
     ]
    }
   ],
   "source": [
    "sum = x + y  # Addition\n",
    "difference = x - y  # Subtraction\n",
    "product = x * y  # Multiplication\n",
    "quotient = x // y  # Integer division ( in case of negetive, the result is rounded down to the nearest integer)\n",
    "remainder = x % 3  # Remainder \n",
    "\n",
    "print(f\"Sum: {sum}, Remainder: {remainder}\" )"
   ]
  },
  {
   "cell_type": "markdown",
   "id": "a68a3e8c",
   "metadata": {},
   "source": [
    "# Exponentiation (**) \n",
    "This operator is used to raise a number to the power of another. It is more efficient and clearer than using math.pow() for exponentiation."
   ]
  },
  {
   "cell_type": "code",
   "execution_count": 15,
   "id": "4639e13b",
   "metadata": {},
   "outputs": [],
   "source": [
    "squared = 7 ** 2  # squared would be 49\n",
    "cubed = 2 ** 3  # cubed would be 8"
   ]
  },
  {
   "cell_type": "markdown",
   "id": "a572021b",
   "metadata": {},
   "source": [
    "# Data type: Floating-Point Numbers (float): \n",
    "These represent real numbers and can include decimal points or use an exponential (e.g., e or E) to define the number. They are crucial for any calculations requiring precision."
   ]
  },
  {
   "cell_type": "code",
   "execution_count": 16,
   "id": "7064d255",
   "metadata": {},
   "outputs": [
    {
     "name": "stdout",
     "output_type": "stream",
     "text": [
      "Exponential_float: 1.2e+34\n"
     ]
    }
   ],
   "source": [
    "float_number = 4.56\n",
    "exponential_float = 1.2e34  # Equivalent to 1.2 * 10^34\n",
    "\n",
    "print(f\"Exponential_float: {exponential_float}\")"
   ]
  },
  {
   "cell_type": "markdown",
   "id": "8e3fe303",
   "metadata": {},
   "source": [
    "# Arithmetic operations with floats"
   ]
  },
  {
   "cell_type": "code",
   "execution_count": 17,
   "id": "d43e91a2",
   "metadata": {},
   "outputs": [],
   "source": [
    "a = 10.5\n",
    "b = -4.2\n",
    "c = 2.5e2  # 2.5 x 10^2 = 250.0\n",
    "\n",
    "sum = a + b  # Addition\n",
    "difference = a - b  # Subtraction\n",
    "product = a * b  # Multiplication\n",
    "quotient = a / b  # Division"
   ]
  },
  {
   "cell_type": "code",
   "execution_count": 18,
   "id": "08641504",
   "metadata": {},
   "outputs": [
    {
     "name": "stdout",
     "output_type": "stream",
     "text": [
      "Sum: 6.3, Quotient: -2.5\n"
     ]
    }
   ],
   "source": [
    "print(f\"Sum: {sum}, Quotient: {quotient}\" )"
   ]
  },
  {
   "cell_type": "markdown",
   "id": "c81a80a6",
   "metadata": {},
   "source": [
    "# Data type: Booleans (bool)\n",
    "The Boolean data type in Python represents one of two values: True or False. Booleans are often the result of comparison or logical operations and are integral to control flow and decision-making in code."
   ]
  },
  {
   "cell_type": "code",
   "execution_count": 19,
   "id": "f5f0a307",
   "metadata": {},
   "outputs": [],
   "source": [
    "is_adult = True\n",
    "is_teenager = False"
   ]
  },
  {
   "cell_type": "code",
   "execution_count": 20,
   "id": "555a7160",
   "metadata": {},
   "outputs": [],
   "source": [
    "# Logical operations\n",
    "and_result = is_adult and is_teenager  # Evaluates to False\n",
    "or_result = is_adult or is_teenager  # Evaluates to True\n",
    "not_result = not is_adult  # Evaluates to False\n"
   ]
  },
  {
   "cell_type": "code",
   "execution_count": 21,
   "id": "788d30f3",
   "metadata": {},
   "outputs": [
    {
     "name": "stdout",
     "output_type": "stream",
     "text": [
      " Result(and) : False, Result(or): True, Result(not): False\n"
     ]
    }
   ],
   "source": [
    "print(f\" Result(and) : {and_result}, Result(or): {or_result}, Result(not): {not_result}\")"
   ]
  },
  {
   "cell_type": "markdown",
   "id": "7f78252e",
   "metadata": {},
   "source": [
    "Besides these basic logical operations, booleans in Python are also associated with comparison operations, which include:\n",
    "\n",
    "Equal to (==)\n",
    "Not equal to (!=)\n",
    "Greater than (>)\n",
    "Less than (<)\n",
    "Greater than or equal to (>=)\n",
    "Less than or equal to (<=)\n",
    "While these operations are typically used with numerical values, they can technically apply to booleans as well, where True is treated as 1 and False as 0:"
   ]
  },
  {
   "cell_type": "code",
   "execution_count": 22,
   "id": "1bba92fc",
   "metadata": {},
   "outputs": [
    {
     "name": "stdout",
     "output_type": "stream",
     "text": [
      "True\n",
      "True\n",
      "True\n",
      "True\n",
      "True\n"
     ]
    }
   ],
   "source": [
    "print(True == 1)   # Output: True\n",
    "print(False == 0)  # Output: True\n",
    "print(True > False)  # Output: True\n",
    "print(False < True)  # Output: True\n",
    "print(True != False) # Output: True"
   ]
  },
  {
   "cell_type": "code",
   "execution_count": 23,
   "id": "d268bfc6",
   "metadata": {},
   "outputs": [
    {
     "name": "stdout",
     "output_type": "stream",
     "text": [
      "a and b: False\n",
      "a or b: True\n",
      "not a: False\n",
      "a == b: False\n",
      "a > b: True\n"
     ]
    }
   ],
   "source": [
    "# Initializing boolean values\n",
    "a = True\n",
    "b = False\n",
    "\n",
    "# Logical AND operation\n",
    "print(\"a and b:\", a and b)  # Output: False\n",
    "\n",
    "# Logical OR operation\n",
    "print(\"a or b:\", a or b)  # Output: True\n",
    "\n",
    "# Logical NOT operation\n",
    "print(\"not a:\", not a)  # Output: False\n",
    "\n",
    "# Comparison operations (True is treated as 1, False as 0)\n",
    "print(\"a == b:\", a == b)  # Output: False\n",
    "print(\"a > b:\", a > b)  # Output: True"
   ]
  },
  {
   "cell_type": "markdown",
   "id": "d5ef430f",
   "metadata": {},
   "source": [
    "# Data type: String (str)\n",
    "A string in Python is a sequence of characters. Strings are immutable, meaning once defined, their contents cannot be changed. They can be enclosed in single, double, or triple quotes for multiline strings."
   ]
  },
  {
   "cell_type": "code",
   "execution_count": 24,
   "id": "24dfa4a3",
   "metadata": {},
   "outputs": [],
   "source": [
    "single_quoted_string = 'Hello, Data Science!'\n",
    "double_quoted_string = \"Learning Python is fun.\"\n",
    "triple_quoted_string = \"\"\"This is a\n",
    "multiline string example.\"\"\"\n"
   ]
  },
  {
   "cell_type": "code",
   "execution_count": 25,
   "id": "3f4e38ac",
   "metadata": {},
   "outputs": [
    {
     "name": "stdout",
     "output_type": "stream",
     "text": [
      "Hello, Data Science!\n",
      "Learning Python is fun.\n",
      "This is a\n",
      "multiline string example.\n"
     ]
    }
   ],
   "source": [
    "print(single_quoted_string)\n",
    "print(double_quoted_string)\n",
    "print(triple_quoted_string)"
   ]
  },
  {
   "cell_type": "markdown",
   "id": "96922872",
   "metadata": {},
   "source": [
    "# Common String Operations"
   ]
  },
  {
   "cell_type": "code",
   "execution_count": 26,
   "id": "5aef7670",
   "metadata": {},
   "outputs": [
    {
     "name": "stdout",
     "output_type": "stream",
     "text": [
      "greeting: Hello World! , first_char: H, last_char: !, str4: HelloHelloHelloHelloHello\n"
     ]
    }
   ],
   "source": [
    "str1 = 'Hello'\n",
    "str2 = \"World\"\n",
    "str3 = \"\"\"This is a\n",
    "multi-line string.\"\"\"\n",
    "\n",
    "# String concatenation\n",
    "greeting = str1 + ' ' + str2 + '!' \n",
    "\n",
    "# Accessing string characters\n",
    "first_char = greeting[0] #forward indexing starts from 0\n",
    "last_char = greeting[-1] #reverse indexing starts from -1 # last can also be written as last_char = len(greeting)-1\n",
    "\n",
    "#multiplication of strings!\n",
    "str4 = str1 * 5 # \n",
    "\n",
    "print(f\"greeting: {greeting} , first_char: {first_char}, last_char: {last_char}, str4: {str4}\")\n"
   ]
  },
  {
   "cell_type": "code",
   "execution_count": 27,
   "id": "72f6fa8a",
   "metadata": {},
   "outputs": [
    {
     "data": {
      "text/plain": [
       "(5, 28, 12)"
      ]
     },
     "execution_count": 27,
     "metadata": {},
     "output_type": "execute_result"
    }
   ],
   "source": [
    "#to find the length of a string\n",
    "len(str1), len(str3), len(greeting)"
   ]
  },
  {
   "cell_type": "markdown",
   "id": "163d1d82",
   "metadata": {},
   "source": [
    "# Common String Methods"
   ]
  },
  {
   "cell_type": "code",
   "execution_count": 28,
   "id": "52d117a7",
   "metadata": {},
   "outputs": [
    {
     "data": {
      "text/plain": [
       "'HELLO WORLD!'"
      ]
     },
     "execution_count": 28,
     "metadata": {},
     "output_type": "execute_result"
    }
   ],
   "source": [
    "upper_case = greeting.upper()  #Converts all characters in the string to uppercase.\n",
    "upper_case"
   ]
  },
  {
   "cell_type": "code",
   "execution_count": 29,
   "id": "ccc6bb1f",
   "metadata": {},
   "outputs": [
    {
     "data": {
      "text/plain": [
       "'hello world!'"
      ]
     },
     "execution_count": 29,
     "metadata": {},
     "output_type": "execute_result"
    }
   ],
   "source": [
    "lower_case = greeting.lower() #Converts all characters in the string to uppercase.\n",
    "lower_case"
   ]
  },
  {
   "cell_type": "code",
   "execution_count": 30,
   "id": "803a0c4f",
   "metadata": {},
   "outputs": [
    {
     "data": {
      "text/plain": [
       "'Hello world!'"
      ]
     },
     "execution_count": 30,
     "metadata": {},
     "output_type": "execute_result"
    }
   ],
   "source": [
    "capitalized = greeting.capitalize() #Converts the first character to uppercase and the rest to lowercase.\n",
    "capitalized"
   ]
  },
  {
   "cell_type": "code",
   "execution_count": 31,
   "id": "45b7ecc2",
   "metadata": {},
   "outputs": [
    {
     "data": {
      "text/plain": [
       "'Hello Blue Planet'"
      ]
     },
     "execution_count": 31,
     "metadata": {},
     "output_type": "execute_result"
    }
   ],
   "source": [
    "#Converts the first character of each word to uppercase and the remaining characters to lowercase.\n",
    "title_case = \"Hello blue planet\".title() \n",
    "title_case"
   ]
  },
  {
   "cell_type": "code",
   "execution_count": 32,
   "id": "24c67b58",
   "metadata": {},
   "outputs": [
    {
     "data": {
      "text/plain": [
       "'Hello world'"
      ]
     },
     "execution_count": 32,
     "metadata": {},
     "output_type": "execute_result"
    }
   ],
   "source": [
    "#Removes any leading and trailing whitespaces, including tabs and newlines.\n",
    "#similarly we can use lstrp() and rstrip() to remove white space or any specific character from left and right respectively.\n",
    "trimmed_greet = \"   Hello world  \".strip() # \"**Hello**\".strp('*') would return \"Hello\" \n",
    "trimmed_greet"
   ]
  },
  {
   "cell_type": "code",
   "execution_count": 33,
   "id": "d1996bc5",
   "metadata": {},
   "outputs": [
    {
     "data": {
      "text/plain": [
       "6"
      ]
     },
     "execution_count": 33,
     "metadata": {},
     "output_type": "execute_result"
    }
   ],
   "source": [
    "#find(substring): Returns the lowest index in the string where the substring is found. It returns -1 if the substring is not found.\n",
    "index = greeting.find(\"World\")\n",
    "index"
   ]
  },
  {
   "cell_type": "code",
   "execution_count": 34,
   "id": "ffe7a0e2",
   "metadata": {},
   "outputs": [
    {
     "data": {
      "text/plain": [
       "'Hello Planet!'"
      ]
     },
     "execution_count": 34,
     "metadata": {},
     "output_type": "execute_result"
    }
   ],
   "source": [
    "#replace(old, new): Returns a copy of the string with all occurrences of the old substring replaced by the new substring.\n",
    "replaced = greeting.replace(\"World\", \"Planet\")\n",
    "replaced"
   ]
  },
  {
   "cell_type": "code",
   "execution_count": 35,
   "id": "f1d6a8a7",
   "metadata": {},
   "outputs": [
    {
     "data": {
      "text/plain": [
       "['Hello', 'World!']"
      ]
     },
     "execution_count": 35,
     "metadata": {},
     "output_type": "execute_result"
    }
   ],
   "source": [
    "# split(separator): Splits the string at the specified separator and returns a list of substrings.\n",
    "words = greeting.split(\" \")\n",
    "words"
   ]
  },
  {
   "cell_type": "code",
   "execution_count": 36,
   "id": "a73b4145",
   "metadata": {},
   "outputs": [
    {
     "data": {
      "text/plain": [
       "['Hello blue planet', ' Good moring', '']"
      ]
     },
     "execution_count": 36,
     "metadata": {},
     "output_type": "execute_result"
    }
   ],
   "source": [
    "new_words = \"Hello blue planet! Good moring!\".split(\"!\")\n",
    "new_words"
   ]
  },
  {
   "cell_type": "code",
   "execution_count": 37,
   "id": "b6c633bf",
   "metadata": {},
   "outputs": [
    {
     "data": {
      "text/plain": [
       "'Hello Blue Planet'"
      ]
     },
     "execution_count": 37,
     "metadata": {},
     "output_type": "execute_result"
    }
   ],
   "source": [
    "#join(iterable): Concatenates a series of strings from an iterable (like a list or tuple), inserting the string it is called on between each.\n",
    "word_list = ['Hello', 'Blue', 'Planet']\n",
    "joined_string = \" \".join(word_list) #joined using white space in between\n",
    "joined_string"
   ]
  },
  {
   "cell_type": "code",
   "execution_count": 38,
   "id": "9df0cce3",
   "metadata": {},
   "outputs": [
    {
     "data": {
      "text/plain": [
       "(True, False)"
      ]
     },
     "execution_count": 38,
     "metadata": {},
     "output_type": "execute_result"
    }
   ],
   "source": [
    "#isdigit(): Returns True if all characters in the string are digits, otherwise False.\n",
    "numeric = \"123456\".isdigit() #or we can use isnumeric()\n",
    "numeric2 = \"123d456\".isdigit()\n",
    "numeric, numeric2"
   ]
  },
  {
   "cell_type": "code",
   "execution_count": 39,
   "id": "1007dd0b",
   "metadata": {
    "scrolled": true
   },
   "outputs": [
    {
     "data": {
      "text/plain": [
       "(False, True)"
      ]
     },
     "execution_count": 39,
     "metadata": {},
     "output_type": "execute_result"
    }
   ],
   "source": [
    "#isalpha(): Returns True if all characters in the string are alphabetic and there is at least one character, otherwise False\n",
    "alpha = \"abc3def\".isalpha()\n",
    "alphanum = \"abc3def\".isalnum() # isalnum(): Returns true if it contains number and digits\n",
    "\n",
    "alpha, alphanum"
   ]
  },
  {
   "cell_type": "code",
   "execution_count": 40,
   "id": "09be4326",
   "metadata": {},
   "outputs": [
    {
     "data": {
      "text/plain": [
       "(True, False)"
      ]
     },
     "execution_count": 40,
     "metadata": {},
     "output_type": "execute_result"
    }
   ],
   "source": [
    "#String membership\n",
    "'Hello' in \"Its Hellowen decoration\", 'planet' in words"
   ]
  },
  {
   "cell_type": "markdown",
   "id": "d0b62af5",
   "metadata": {},
   "source": [
    "# Keywords\n",
    "Reserved words, used to do provide additional instruction, and cannot be used as variable names or identifiers."
   ]
  },
  {
   "cell_type": "code",
   "execution_count": 41,
   "id": "bb52059a",
   "metadata": {
    "scrolled": true
   },
   "outputs": [
    {
     "name": "stdout",
     "output_type": "stream",
     "text": [
      "Total number of keywords in python: 36 \n",
      "Keywords = ['False', 'None', 'True', '__peg_parser__', 'and', 'as', 'assert', 'async', 'await', 'break', 'class', 'continue', 'def', 'del', 'elif', 'else', 'except', 'finally', 'for', 'from', 'global', 'if', 'import', 'in', 'is', 'lambda', 'nonlocal', 'not', 'or', 'pass', 'raise', 'return', 'try', 'while', 'with', 'yield']\n"
     ]
    }
   ],
   "source": [
    "import keyword\n",
    "# List of all the keywords in python \n",
    "list_of_keywords = keyword.kwlist\n",
    "print(f\"Total number of keywords in python: {len(list_of_keywords)} \\nKeywords = {list_of_keywords}\")"
   ]
  }
 ],
 "metadata": {
  "kernelspec": {
   "display_name": "Python 3 (ipykernel)",
   "language": "python",
   "name": "python3"
  },
  "language_info": {
   "codemirror_mode": {
    "name": "ipython",
    "version": 3
   },
   "file_extension": ".py",
   "mimetype": "text/x-python",
   "name": "python",
   "nbconvert_exporter": "python",
   "pygments_lexer": "ipython3",
   "version": "3.9.7"
  }
 },
 "nbformat": 4,
 "nbformat_minor": 5
}
