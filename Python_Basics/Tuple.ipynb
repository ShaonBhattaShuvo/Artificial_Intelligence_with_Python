{
 "cells": [
  {
   "cell_type": "markdown",
   "id": "26ef9974",
   "metadata": {},
   "source": [
    "# Tuple Basics\n",
    "Tuples are one of the core data structures in Python, used to store an ordered collection of items, which can be of mixed types. Tuples are immutable, meaning that once they are created, their contents cannot be changed. This characteristic is what differentiates them from lists, which are mutable. Tuples are commonly used in situations where a statement or a user-defined function can safely assume that the collection of values will not change.\n",
    "\n",
    "Tuples are usually written with round brackets () and individual elements are separated by commas."
   ]
  },
  {
   "cell_type": "code",
   "execution_count": 1,
   "id": "b0b3d495",
   "metadata": {},
   "outputs": [
    {
     "name": "stdout",
     "output_type": "stream",
     "text": [
      "(1, 'Hello', 3.4)\n"
     ]
    }
   ],
   "source": [
    "# Creating a tuple\n",
    "new_tuple = (1, \"Hello\", 3.4)\n",
    "print(new_tuple)"
   ]
  },
  {
   "cell_type": "code",
   "execution_count": 2,
   "id": "13b98b62",
   "metadata": {},
   "outputs": [
    {
     "name": "stdout",
     "output_type": "stream",
     "text": [
      "(1, 2, 3)\n"
     ]
    }
   ],
   "source": [
    "#Python allows the omission of parentheses when packing tuples:\n",
    "tuple_without_parentheses = 1, 2, 3\n",
    "print(tuple_without_parentheses)  "
   ]
  },
  {
   "cell_type": "markdown",
   "id": "dfc2b8bb",
   "metadata": {},
   "source": [
    "# Accessing Tuple Elements\n",
    "We can access tuple items by referring to the index number, inside square brackets. Remember, Python indexing starts at 0 and negetive indexing starts at -1. "
   ]
  },
  {
   "cell_type": "code",
   "execution_count": 3,
   "id": "7f61ac91",
   "metadata": {},
   "outputs": [
    {
     "name": "stdout",
     "output_type": "stream",
     "text": [
      "Hello\n"
     ]
    }
   ],
   "source": [
    "print(new_tuple[1])"
   ]
  },
  {
   "cell_type": "code",
   "execution_count": 4,
   "id": "b6410b18",
   "metadata": {},
   "outputs": [
    {
     "name": "stdout",
     "output_type": "stream",
     "text": [
      "3.4\n"
     ]
    }
   ],
   "source": [
    "print(new_tuple[-1])"
   ]
  },
  {
   "cell_type": "markdown",
   "id": "850a7549",
   "metadata": {},
   "source": [
    "# Tuple Packing and Unpacking\n",
    "Tuple packing is when we put values into a new tuple while tuple unpacking is extracting those values back into variables."
   ]
  },
  {
   "cell_type": "code",
   "execution_count": 5,
   "id": "0c22aebc",
   "metadata": {},
   "outputs": [
    {
     "name": "stdout",
     "output_type": "stream",
     "text": [
      "3.14\n",
      "Python\n",
      "AI\n"
     ]
    }
   ],
   "source": [
    "#tuple packing\n",
    "packed = 3.14, 'Python', 'AI' # or using ()\n",
    "\n",
    "#tuple unpacking\n",
    "pi, programming, domain = packed\n",
    "\n",
    "print(pi)        # Output: 3.14\n",
    "print(programming)  # Output: Python\n",
    "print(domain)     # Output: AI"
   ]
  },
  {
   "cell_type": "markdown",
   "id": "70762b29",
   "metadata": {},
   "source": [
    "# Tuples vs Lists\n",
    "* Understanding when to use tuples over lists is crucial. Since tuples are immutable, they are faster than lists and protect against accidental modification. \n",
    "* Use tuples for heterogeneous (different) collections of data and lists for homogeneous (similar) collections of data.\n",
    "\n"
   ]
  },
  {
   "cell_type": "markdown",
   "id": "141ae8c9",
   "metadata": {},
   "source": [
    "# Tuple Slicing\n",
    "Like lists, tuples also support slicing, which allows to get a portion of the tuple.  Both data structures are sequences, which allows you to use slicing to retrieve a portion of the tuple or list. The syntax for slicing is also identical: [start:stop:step], where start is the index to begin the slice, stop is the index to end the slice (but not included in the result), and step is the interval between each index for slicing.\n",
    "\n",
    "See List.ipynb for details"
   ]
  },
  {
   "cell_type": "markdown",
   "id": "802136b4",
   "metadata": {},
   "source": [
    "# Tuple Comparion\n",
    "Same as list  (See List.ipynb for details)"
   ]
  },
  {
   "cell_type": "markdown",
   "id": "383f23a2",
   "metadata": {},
   "source": [
    "# Nested Tuples\n",
    "Tuples can contain other tuples as well as different data structures like lists and dictionaries. This allows for creating complex data structures.\n",
    "\n",
    "See List.ipynb for details"
   ]
  },
  {
   "cell_type": "code",
   "execution_count": 6,
   "id": "72b3cc71",
   "metadata": {},
   "outputs": [
    {
     "name": "stdout",
     "output_type": "stream",
     "text": [
      "1 2\n",
      "3 4\n"
     ]
    }
   ],
   "source": [
    "nested_tuple = ((1, 2), (3, 4))\n",
    "for a, b in nested_tuple:\n",
    "    print(a, b)"
   ]
  },
  {
   "cell_type": "markdown",
   "id": "da30f1c9",
   "metadata": {},
   "source": [
    "# Methods in Tuples\n",
    "Here's where tuples and lists significantly diverge due to the immutable nature of tuples.\n",
    "\n",
    "Tuples: They have two main built-in methods: count() and index(). Unlike Lists, there are no methods to modify a tuple because of their immutability."
   ]
  },
  {
   "cell_type": "code",
   "execution_count": 7,
   "id": "61e692cf",
   "metadata": {},
   "outputs": [
    {
     "name": "stdout",
     "output_type": "stream",
     "text": [
      "2\n",
      "1\n"
     ]
    }
   ],
   "source": [
    "t = (1, 2, 3, 2)\n",
    "print(t.count(2))  # Returns: 2\n",
    "print(t.index(2)) # Returns: 1"
   ]
  },
  {
   "cell_type": "markdown",
   "id": "98c6f858",
   "metadata": {},
   "source": [
    "# Functions\n",
    "Both tuples and lists are iterable, so they can be used with Python's built-in functions like len(), max(), min(), sorted(), etc. However, the functions that modify the data structure in place, like sort(), cannot be used with tuples since they are immutable. \n",
    "\n",
    "See. List.ipynb for details\n"
   ]
  },
  {
   "cell_type": "code",
   "execution_count": 8,
   "id": "1d4187c3",
   "metadata": {},
   "outputs": [
    {
     "name": "stdout",
     "output_type": "stream",
     "text": [
      "4\n",
      "3\n",
      "[1, 2, 2, 3]\n",
      "(1, 2, 3, 2)\n"
     ]
    }
   ],
   "source": [
    "t = (1, 2, 3, 2)\n",
    "print(len(t)) #Returns 4\n",
    "print(max(t)) #Return 3\n",
    "t_sorted = sorted(t)\n",
    "print(t_sorted) # Returns [1, 2, 2, 3], we can further convert it into a tuple as tuple(t_sorted)\n",
    "print(t) # tuple did not change"
   ]
  },
  {
   "cell_type": "code",
   "execution_count": 9,
   "id": "4d59b98e",
   "metadata": {},
   "outputs": [
    {
     "data": {
      "text/plain": [
       "[1, 2, 3, 2]"
      ]
     },
     "execution_count": 9,
     "metadata": {},
     "output_type": "execute_result"
    }
   ],
   "source": [
    "list(t)"
   ]
  },
  {
   "cell_type": "markdown",
   "id": "30cc968a",
   "metadata": {},
   "source": [
    "# Tuple Membership \n",
    "To check if an item exists within a tuple using the in keyword.\n",
    "(same as lists)"
   ]
  },
  {
   "cell_type": "markdown",
   "id": "4bb1cd8a",
   "metadata": {},
   "source": [
    "# Interating over a loop : \n",
    "Both tuples and lists support iteration using a for loop, and the syntax is identical for both data structures.\n",
    "\n",
    "See. List.ipynb for details\n",
    "\n",
    "\n",
    "However, Iterating over a tuple is slightly faster than iterating over a list, mainly due to the immutability and structural simplicity of tuples. This can be a performance consideration in tight loops or extensive data processing.\n"
   ]
  },
  {
   "cell_type": "markdown",
   "id": "05cea114",
   "metadata": {},
   "source": [
    "# Tuples as Return Values\n",
    "\n",
    "Functions can return multiple values in a tuple by default, even without enclosing them in parentheses. This feature can be used for effectively returning multiple values from a function."
   ]
  },
  {
   "cell_type": "code",
   "execution_count": 10,
   "id": "53c08ae4",
   "metadata": {},
   "outputs": [
    {
     "name": "stdout",
     "output_type": "stream",
     "text": [
      "1 5\n",
      "2 10\n"
     ]
    }
   ],
   "source": [
    "def minmax(items):\n",
    "    return min(items), max(items)\n",
    "\n",
    "minimum, maximum = minmax([1, 2, 3, 4, 5]) #Passing a list\n",
    "print(minimum, maximum)  # Output: 1 5 \n",
    "\n",
    "minimum, maximum = minmax((10, 2, 3, 4, 5)) #Passing a tuple\n",
    "print(minimum, maximum)  # Output: 1 5"
   ]
  },
  {
   "cell_type": "markdown",
   "id": "a7ed3ee3",
   "metadata": {},
   "source": [
    "# Singleton Tuple (importance of tailing comma)\n",
    "To create a tuple with only one item, we need to include a trailing comma after the item. Without the comma, Python will not recognize the item as a tuple."
   ]
  },
  {
   "cell_type": "code",
   "execution_count": 11,
   "id": "82b506b7",
   "metadata": {},
   "outputs": [
    {
     "name": "stdout",
     "output_type": "stream",
     "text": [
      "<class 'tuple'>\n",
      "(1,)\n"
     ]
    }
   ],
   "source": [
    "singleton_tuple = (1,)\n",
    "print(type(singleton_tuple))  # Output: <class 'tuple'>\n",
    "print(singleton_tuple) #Output: (1,)"
   ]
  },
  {
   "cell_type": "markdown",
   "id": "90ce0c93",
   "metadata": {},
   "source": [
    "# Swapping Variables: \n",
    "Tuples can swap the values of variables in a concise way."
   ]
  },
  {
   "cell_type": "code",
   "execution_count": 12,
   "id": "40189cfe",
   "metadata": {},
   "outputs": [],
   "source": [
    "a = 1\n",
    "b = 2\n",
    "a, b = b, a  # Swaps the values of a and b"
   ]
  },
  {
   "cell_type": "markdown",
   "id": "3d1658d9",
   "metadata": {},
   "source": [
    "# Tuple Concatenation and Repetition\n",
    "\n",
    "same as list (See. List.ipynb for details)"
   ]
  },
  {
   "cell_type": "markdown",
   "id": "35db602e",
   "metadata": {},
   "source": [
    "# Touple Comprehenstion? \n",
    "Tuples do not have a dedicated tuple comprehension in Python, but we can create something similar using a generator expression combined with tuple constructor tuple(). While list comprehensions create lists, generator expressions can be used to generate other sequence types, including tuples."
   ]
  },
  {
   "cell_type": "code",
   "execution_count": 13,
   "id": "ba884f81",
   "metadata": {},
   "outputs": [
    {
     "name": "stdout",
     "output_type": "stream",
     "text": [
      "(0, 2, 4, 6, 8)\n"
     ]
    }
   ],
   "source": [
    "# Using a generator expression to create a tuple\n",
    "tuple_from_gen = tuple(x * 2 for x in range(5))\n",
    "\n",
    "print(tuple_from_gen)  # Output: (0, 2, 4, 6, 8)\n"
   ]
  }
 ],
 "metadata": {
  "kernelspec": {
   "display_name": "Python 3 (ipykernel)",
   "language": "python",
   "name": "python3"
  },
  "language_info": {
   "codemirror_mode": {
    "name": "ipython",
    "version": 3
   },
   "file_extension": ".py",
   "mimetype": "text/x-python",
   "name": "python",
   "nbconvert_exporter": "python",
   "pygments_lexer": "ipython3",
   "version": "3.9.7"
  }
 },
 "nbformat": 4,
 "nbformat_minor": 5
}
