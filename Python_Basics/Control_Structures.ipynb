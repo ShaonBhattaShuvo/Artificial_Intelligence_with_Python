{
 "cells": [
  {
   "cell_type": "markdown",
   "id": "5505a49f",
   "metadata": {},
   "source": [
    "# Control Structures in Python\n",
    "Control structures in Python dictate the flow of execution of the program. Python's primary control structures are conditional statements and loops."
   ]
  },
  {
   "cell_type": "markdown",
   "id": "9a923453",
   "metadata": {},
   "source": [
    "# Conditional Statements\n",
    "Conditional statements allo to execute different blocks of code based on certain conditions."
   ]
  },
  {
   "cell_type": "code",
   "execution_count": 1,
   "id": "81c2c449",
   "metadata": {},
   "outputs": [
    {
     "name": "stdout",
     "output_type": "stream",
     "text": [
      "x is greater than 5\n"
     ]
    }
   ],
   "source": [
    "#if statement: The if statement executes a block of code if a specified condition is True.\n",
    "x = 10\n",
    "if x > 5:\n",
    "    print(\"x is greater than 5\")"
   ]
  },
  {
   "cell_type": "code",
   "execution_count": 2,
   "id": "a5fad5cb",
   "metadata": {},
   "outputs": [
    {
     "name": "stdout",
     "output_type": "stream",
     "text": [
      "x is less than or equal to 5\n"
     ]
    }
   ],
   "source": [
    "#if-else statement: The if-else statement provides an alternative action if the if condition is False.\n",
    "x = 2\n",
    "if x > 5:\n",
    "    print(\"x is greater than 5\")\n",
    "else:\n",
    "    print(\"x is less than or equal to 5\")\n"
   ]
  },
  {
   "cell_type": "code",
   "execution_count": 3,
   "id": "078f2424",
   "metadata": {},
   "outputs": [
    {
     "name": "stdout",
     "output_type": "stream",
     "text": [
      "x is 10\n"
     ]
    }
   ],
   "source": [
    "#if-elif-else chain: For more than two possible outcomes, use if with multiple elif (short for \"else if\") blocks, followed by an optional else block.\n",
    "x = 10\n",
    "if x > 10:\n",
    "    print(\"x is greater than 10\")\n",
    "elif x == 10:\n",
    "    print(\"x is 10\")\n",
    "else:\n",
    "    print(\"x is less than 10\")"
   ]
  },
  {
   "cell_type": "markdown",
   "id": "64d04e30",
   "metadata": {},
   "source": [
    "# Loops\n",
    "Loops allow you to execute a block of code repeatedly, either a set number of times or until a certain condition is met."
   ]
  },
  {
   "cell_type": "markdown",
   "id": "91dee306",
   "metadata": {},
   "source": [
    "# for loop: \n",
    "Iterates over a sequence (like a list, tuple, string) and executes a block of code for each item.\n"
   ]
  },
  {
   "cell_type": "code",
   "execution_count": 4,
   "id": "e138a418",
   "metadata": {
    "scrolled": true
   },
   "outputs": [
    {
     "name": "stdout",
     "output_type": "stream",
     "text": [
      "0\n",
      "1\n",
      "2\n",
      "3\n",
      "4\n",
      "apple\n",
      "banana\n",
      "cherry\n"
     ]
    }
   ],
   "source": [
    "for i in range(5):\n",
    "    print(i)\n",
    "\n",
    "fruits = [\"apple\", \"banana\", \"cherry\"]\n",
    "for fruit in fruits:\n",
    "    print(fruit)"
   ]
  },
  {
   "cell_type": "markdown",
   "id": "229d3b59",
   "metadata": {},
   "source": [
    "# range()\n",
    "The range function in Python generates a sequence of numbers. When used as range(start, stop, step), it starts counting from start, stops before reaching stop, and increments by step in each iteration. If step is negative, it decrements instead of increments.\n",
    "\n"
   ]
  },
  {
   "cell_type": "code",
   "execution_count": 5,
   "id": "09283d56",
   "metadata": {},
   "outputs": [
    {
     "name": "stdout",
     "output_type": "stream",
     "text": [
      "3 2 1 0 "
     ]
    }
   ],
   "source": [
    "for i in range(3, -1, -1):   #starts from 3 and end before -1 (excluded) and decrement by 1\n",
    "    print(i, end =' ')   #Output: 3 2 1 0"
   ]
  },
  {
   "cell_type": "code",
   "execution_count": 6,
   "id": "27e1d47e",
   "metadata": {},
   "outputs": [
    {
     "name": "stdout",
     "output_type": "stream",
     "text": [
      "1 3 5 7 9 11 13 15 17 19 "
     ]
    }
   ],
   "source": [
    "for i in range (1, 20, 2):\n",
    "    print(i, end =' ')  #Output: 1 3 5 7 9 11 13 15 17 19 "
   ]
  },
  {
   "cell_type": "markdown",
   "id": "fe7913b4",
   "metadata": {},
   "source": [
    "# while loop :\n",
    "Repeats a block of code as long as a condition is True."
   ]
  },
  {
   "cell_type": "code",
   "execution_count": 7,
   "id": "3d66a494",
   "metadata": {},
   "outputs": [
    {
     "name": "stdout",
     "output_type": "stream",
     "text": [
      "0\n",
      "1\n",
      "2\n",
      "3\n",
      "4\n"
     ]
    }
   ],
   "source": [
    "\n",
    "count = 0\n",
    "while count < 5:\n",
    "    print(count)\n",
    "    count += 1\n"
   ]
  },
  {
   "cell_type": "markdown",
   "id": "95450085",
   "metadata": {},
   "source": [
    "# Break \n",
    "Terminates the loop and transfers execution to the statement immediately following the loop.\n"
   ]
  },
  {
   "cell_type": "code",
   "execution_count": 8,
   "id": "6f8e4622",
   "metadata": {},
   "outputs": [
    {
     "name": "stdout",
     "output_type": "stream",
     "text": [
      "0\n",
      "1\n",
      "2\n",
      "3\n",
      "4\n"
     ]
    }
   ],
   "source": [
    "for num in range(10):\n",
    "    if num == 5:\n",
    "        break\n",
    "    print(num)\n"
   ]
  },
  {
   "cell_type": "markdown",
   "id": "eae742e4",
   "metadata": {},
   "source": [
    "# continue: \n",
    "Skips the rest of the code inside the loop for the current iteration and moves to the next iteration.\n"
   ]
  },
  {
   "cell_type": "code",
   "execution_count": 9,
   "id": "58abc6ba",
   "metadata": {},
   "outputs": [
    {
     "name": "stdout",
     "output_type": "stream",
     "text": [
      "0\n",
      "1\n",
      "2\n",
      "3\n",
      "4\n",
      "6\n",
      "7\n",
      "8\n",
      "9\n"
     ]
    }
   ],
   "source": [
    "for num in range(10):\n",
    "    if num == 5:\n",
    "        continue\n",
    "    print(num)"
   ]
  },
  {
   "cell_type": "markdown",
   "id": "08c9df21",
   "metadata": {},
   "source": [
    "# else in loops: \n",
    "The else block after a loop is executed only if the loop completes normally (without hitting a break).\n"
   ]
  },
  {
   "cell_type": "code",
   "execution_count": 10,
   "id": "822b32e5",
   "metadata": {},
   "outputs": [
    {
     "name": "stdout",
     "output_type": "stream",
     "text": [
      "1\n",
      "2\n",
      "3\n",
      "4\n",
      "Count is no longer less than 4\n"
     ]
    }
   ],
   "source": [
    "count = 0\n",
    "while count < 4 :\n",
    "    count = count + 1\n",
    "    print(count)\n",
    "else:\n",
    "    print(\"Count is no longer less than 4\")"
   ]
  },
  {
   "cell_type": "markdown",
   "id": "4f541013",
   "metadata": {},
   "source": [
    "# Nested Loops: \n",
    "A loop inside another loop. The inner loop will finish all of its iterations for each iteration of the outer loop.\n"
   ]
  },
  {
   "cell_type": "code",
   "execution_count": 11,
   "id": "39c55cb9",
   "metadata": {},
   "outputs": [
    {
     "name": "stdout",
     "output_type": "stream",
     "text": [
      "i=1, j=0\n",
      "i=1, j=1\n",
      "i=2, j=0\n",
      "i=2, j=1\n"
     ]
    }
   ],
   "source": [
    "for i in range(1,3):     #Outer loop\n",
    "    for j in range(0,2): #Ineer loop\n",
    "        print(f\"i={i}, j={j}\")"
   ]
  },
  {
   "cell_type": "markdown",
   "id": "0adbe184",
   "metadata": {},
   "source": [
    "# Loop with List and Dictionary Examples"
   ]
  },
  {
   "cell_type": "code",
   "execution_count": 12,
   "id": "92585f71",
   "metadata": {},
   "outputs": [
    {
     "data": {
      "text/plain": [
       "[1, 4, 9, 16, 25, 36, 49, 64, 81]"
      ]
     },
     "execution_count": 12,
     "metadata": {},
     "output_type": "execute_result"
    }
   ],
   "source": [
    "#List Comprehensions: A concise way to create lists that is essentially a one-line for loop built inside brackets.\n",
    "new_list = [x ** 2 for x in range(1, 10)]\n",
    "new_list"
   ]
  },
  {
   "cell_type": "code",
   "execution_count": 13,
   "id": "6daec9dd",
   "metadata": {},
   "outputs": [
    {
     "name": "stdout",
     "output_type": "stream",
     "text": [
      "Leo is 54 years old.\n",
      "Messi is 36 years old.\n",
      "Thiago is 8 years old.\n"
     ]
    }
   ],
   "source": [
    "#Looping Through Multiple Sequences: The zip() function can be used to loop over two or more sequences simultaneously.\n",
    "names = ['Leo', 'Messi', 'Thiago']\n",
    "ages = [54, 36, 8]\n",
    "for name, age in zip(names, ages):\n",
    "    print(f\"{name} is {age} years old.\")"
   ]
  },
  {
   "cell_type": "code",
   "execution_count": 14,
   "id": "edd5afb4",
   "metadata": {},
   "outputs": [
    {
     "name": "stdout",
     "output_type": "stream",
     "text": [
      "0: Leo\n",
      "1: Messi\n",
      "2: Thiago\n"
     ]
    }
   ],
   "source": [
    "#Looping with Indices: Access index of the items while looping through a list. \n",
    "#This can be achieved with enumerate().\n",
    "for index, name in enumerate(names):\n",
    "    print(f\"{index}: {name}\")"
   ]
  },
  {
   "cell_type": "code",
   "execution_count": 15,
   "id": "796db920",
   "metadata": {},
   "outputs": [
    {
     "name": "stdout",
     "output_type": "stream",
     "text": [
      "name Messi\n",
      "age 36\n",
      "city Barcelona\n"
     ]
    }
   ],
   "source": [
    "#Iterating Over Dictionaries: iterate over the keys or values, or key-value pairs in a dictionary.\n",
    "person = {'name' : 'Messi', 'age' : 36, 'city' : 'Barcelona'}\n",
    "for key, value in person.items():\n",
    "    print(key, value)"
   ]
  }
 ],
 "metadata": {
  "kernelspec": {
   "display_name": "Python 3 (ipykernel)",
   "language": "python",
   "name": "python3"
  },
  "language_info": {
   "codemirror_mode": {
    "name": "ipython",
    "version": 3
   },
   "file_extension": ".py",
   "mimetype": "text/x-python",
   "name": "python",
   "nbconvert_exporter": "python",
   "pygments_lexer": "ipython3",
   "version": "3.9.7"
  }
 },
 "nbformat": 4,
 "nbformat_minor": 5
}
