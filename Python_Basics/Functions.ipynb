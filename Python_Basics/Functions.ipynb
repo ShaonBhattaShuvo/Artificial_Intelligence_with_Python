{
 "cells": [
  {
   "cell_type": "markdown",
   "id": "2060072e",
   "metadata": {},
   "source": [
    "# Functions and Modules"
   ]
  },
  {
   "cell_type": "markdown",
   "id": "6c880d7f",
   "metadata": {},
   "source": [
    "A basic function definition includes the 'def' keyword, the function name, parentheses (potentially with parameters), and a colon. The function body follows the colon. Functions are used to encapsulate code into reusable blocks."
   ]
  },
  {
   "cell_type": "code",
   "execution_count": 1,
   "id": "30002d69",
   "metadata": {},
   "outputs": [
    {
     "name": "stdout",
     "output_type": "stream",
     "text": [
      "Hello, World!\n"
     ]
    }
   ],
   "source": [
    "def greet():     #function defintion\n",
    "    print(\"Hello, World!\")  #body of the function\n",
    "\n",
    "greet()  # Calling the function\n"
   ]
  },
  {
   "cell_type": "code",
   "execution_count": 2,
   "id": "ceb37911",
   "metadata": {},
   "outputs": [
    {
     "name": "stdout",
     "output_type": "stream",
     "text": [
      "Hello, Leo!\n",
      "Hello, Messi!\n"
     ]
    }
   ],
   "source": [
    "#Parameters and Arguments: to make the function more generic \n",
    "#Functions can take parameters, allowing you to pass arguments into the function when you call it.\n",
    "\n",
    "def greet(name):\n",
    "    print(f\"Hello, {name}!\")\n",
    "\n",
    "greet(\"Leo\")  # Passing \"Leo\" as an argument to the function\n",
    "greet(\"Messi\") # Passing \"Messi\" as an argument to the function"
   ]
  },
  {
   "cell_type": "code",
   "execution_count": 3,
   "id": "6106b9d3",
   "metadata": {},
   "outputs": [
    {
     "name": "stdout",
     "output_type": "stream",
     "text": [
      "7\n"
     ]
    }
   ],
   "source": [
    "#return: \n",
    "#Functions can return values using the return statement. The function exits when the return statement is executed.\n",
    "\n",
    "def add(a, b):\n",
    "    return a + b\n",
    "\n",
    "result = add(3, 4) #returns the value 7 and which is assigned result\n",
    "print(result)  # Outputs: 7n Values: "
   ]
  },
  {
   "cell_type": "code",
   "execution_count": 4,
   "id": "85629ccc",
   "metadata": {},
   "outputs": [
    {
     "name": "stdout",
     "output_type": "stream",
     "text": [
      "Hello, Messi!\n",
      "Hello, Shaon!\n"
     ]
    }
   ],
   "source": [
    "#Default Parameter Values: making them optional during function calls.\n",
    "#If the argument is omitted when the function is called, the parameter assumes the default value.\n",
    "def greet(name=\"Messi\"):\n",
    "    print(f\"Hello, {name}!\")\n",
    "\n",
    "greet()            # Outputs: Hello, Messi!\n",
    "greet(\"Shaon\") # Outputs: Hello, Shaon!\n"
   ]
  },
  {
   "cell_type": "code",
   "execution_count": 5,
   "id": "2ab69f29",
   "metadata": {},
   "outputs": [
    {
     "name": "stdout",
     "output_type": "stream",
     "text": [
      "I have a dog named Tomy.\n"
     ]
    }
   ],
   "source": [
    "# Keyword Arguments:\n",
    "# When calling functions,we can use keyword arguments by specifying the parameter name and value, allowing\n",
    "# us to pass arguments in a different order.\n",
    "\n",
    "def describe_pet(animal, name):\n",
    "    print(f\"I have a {animal} named {name}.\")\n",
    "\n",
    "describe_pet(name=\"Tomy\", animal=\"dog\")\n"
   ]
  },
  {
   "cell_type": "markdown",
   "id": "70ca32fb",
   "metadata": {},
   "source": [
    "# Scope and Lifetime of Variables"
   ]
  },
  {
   "cell_type": "code",
   "execution_count": 6,
   "id": "9ef1590a",
   "metadata": {},
   "outputs": [
    {
     "name": "stdout",
     "output_type": "stream",
     "text": [
      "10\n"
     ]
    }
   ],
   "source": [
    "#Local Scope: Variables created inside a function are local to that function and cannot be accessed outside of it.\n",
    "def my_func():\n",
    "    x = 10\n",
    "    print(x)\n",
    "\n",
    "my_func()\n",
    "#print(x)  # This would raise an error because x is not defined outside my_func.\n"
   ]
  },
  {
   "cell_type": "code",
   "execution_count": 7,
   "id": "a14c68c1",
   "metadata": {},
   "outputs": [
    {
     "name": "stdout",
     "output_type": "stream",
     "text": [
      "5\n"
     ]
    }
   ],
   "source": [
    "#Global Scope: Variables defined outside of any function are global and can be accessed from any function within the same module.\n",
    "y = 5\n",
    "\n",
    "def my_fun2():\n",
    "    print(y)\n",
    "\n",
    "my_fun2()  # Outputs: 5\n"
   ]
  },
  {
   "cell_type": "code",
   "execution_count": 8,
   "id": "4c7b8148",
   "metadata": {},
   "outputs": [
    {
     "name": "stdout",
     "output_type": "stream",
     "text": [
      "12\n",
      "12\n"
     ]
    }
   ],
   "source": [
    "#However, to modify a global variable inside a function, you must declare it as global:\n",
    "z = 10\n",
    "def my_fun3():\n",
    "    global z\n",
    "    z = z + 2\n",
    "    print(z)\n",
    "\n",
    "my_fun3()\n",
    "print(z)"
   ]
  },
  {
   "cell_type": "markdown",
   "id": "e3434604",
   "metadata": {},
   "source": [
    "# Functions as Parameters\n",
    "Functions in Python can accept other functions as parameters, allowing for higher-order functions."
   ]
  },
  {
   "cell_type": "code",
   "execution_count": 9,
   "id": "724f4059",
   "metadata": {},
   "outputs": [
    {
     "name": "stdout",
     "output_type": "stream",
     "text": [
      "HELLO MESSI!\n"
     ]
    }
   ],
   "source": [
    "def greet(name):\n",
    "    return f\"Hello {name}!\"\n",
    "\n",
    "def shout(fun_name, fun_arg):\n",
    "    msg = fun_name(fun_arg)\n",
    "    return msg.upper()\n",
    "\n",
    "print(shout(greet, 'messi'))"
   ]
  },
  {
   "cell_type": "code",
   "execution_count": 10,
   "id": "9d08962c",
   "metadata": {},
   "outputs": [
    {
     "data": {
      "text/plain": [
       "[1, 8, 27, 64, 125]"
      ]
     },
     "execution_count": 10,
     "metadata": {},
     "output_type": "execute_result"
    }
   ],
   "source": [
    "#Example: Applying a Function to All Elements in a List\n",
    "def cube(x):\n",
    "    return x * x * x\n",
    "\n",
    "def cubed_list(fun_name, fun_arg):\n",
    "    return [fun_name(item) for item in fun_arg]\n",
    "\n",
    "sample = [1, 2, 3, 4, 5]\n",
    "cubed_sample = cubed_list(cube, sample)\n",
    "cubed_sample"
   ]
  },
  {
   "cell_type": "code",
   "execution_count": 11,
   "id": "135b354b",
   "metadata": {},
   "outputs": [
    {
     "data": {
      "text/plain": [
       "[1, 3, 5]"
      ]
     },
     "execution_count": 11,
     "metadata": {},
     "output_type": "execute_result"
    }
   ],
   "source": [
    "#Example: Filtering a List\n",
    "def odd(x):\n",
    "    return x % 2 == 1\n",
    "\n",
    "def filter_list(fun_name, fun_arg):\n",
    "    return [item for item in fun_arg if fun_name(item)]\n",
    "\n",
    "sample = [1, 2, 3, 4, 5]\n",
    "filtered_sample = filter_list(odd, sample)\n",
    "filtered_sample"
   ]
  },
  {
   "cell_type": "markdown",
   "id": "721b5dfd",
   "metadata": {},
   "source": [
    "# Lambda Functions\n",
    "Lambda functions are small anonymous functions defined with the lambda keyword. They can have any number of arguments but only one expression."
   ]
  },
  {
   "cell_type": "code",
   "execution_count": 12,
   "id": "bcc71358",
   "metadata": {},
   "outputs": [
    {
     "data": {
      "text/plain": [
       "35"
      ]
     },
     "execution_count": 12,
     "metadata": {},
     "output_type": "execute_result"
    }
   ],
   "source": [
    "multiply = lambda a, b : a * b\n",
    "\n",
    "c = multiply(5,7)\n",
    "c"
   ]
  },
  {
   "cell_type": "code",
   "execution_count": 13,
   "id": "2cf98ab6",
   "metadata": {},
   "outputs": [
    {
     "data": {
      "text/plain": [
       "[(4, 'four'), (1, 'one'), (3, 'three'), (2, 'two')]"
      ]
     },
     "execution_count": 13,
     "metadata": {},
     "output_type": "execute_result"
    }
   ],
   "source": [
    "#Example: Sorting a List of Tuples\n",
    "pairs = [(1, 'one'), (3, 'three'), (2, 'two'), (4, 'four')]\n",
    "pairs.sort(key = lambda pair : pair[1]) #sort the touple based on the second element of each touple (string sort)\n",
    "pairs"
   ]
  },
  {
   "cell_type": "code",
   "execution_count": 14,
   "id": "126723fb",
   "metadata": {},
   "outputs": [
    {
     "data": {
      "text/plain": [
       "[1, 4, 9, 16, 25]"
      ]
     },
     "execution_count": 14,
     "metadata": {},
     "output_type": "execute_result"
    }
   ],
   "source": [
    "#Exmple: Applying a Lambda Function in map()\n",
    "numbers = [1, 2, 3, 4, 5]\n",
    "squared_numbers = list(map(lambda x: x*x, numbers))\n",
    "squared_numbers"
   ]
  },
  {
   "cell_type": "code",
   "execution_count": 15,
   "id": "8ef3b9d2",
   "metadata": {},
   "outputs": [
    {
     "data": {
      "text/plain": [
       "[1, 3, 5]"
      ]
     },
     "execution_count": 15,
     "metadata": {},
     "output_type": "execute_result"
    }
   ],
   "source": [
    "#Example: Using Lambda Functions with filter()\n",
    "numbers = [1, 2, 3, 4, 5]\n",
    "filtered_odd = list(filter(lambda x: x%2 == 1, numbers))\n",
    "filtered_odd"
   ]
  },
  {
   "cell_type": "markdown",
   "id": "20992c80",
   "metadata": {},
   "source": [
    "# Modules\n",
    "Modules in Python are simply Python files with a .py extension that contain Python code. They can define functions, classes, and variables that you can reuse in other Python scripts. There are many built-in modules available in python, however we can also create a custom module with a .py extension file."
   ]
  },
  {
   "cell_type": "markdown",
   "id": "70a09fe6",
   "metadata": {},
   "source": [
    "Built-in modules examples:"
   ]
  },
  {
   "cell_type": "code",
   "execution_count": 16,
   "id": "b7c7be47",
   "metadata": {},
   "outputs": [
    {
     "name": "stdout",
     "output_type": "stream",
     "text": [
      "4.0\n"
     ]
    }
   ],
   "source": [
    "#Importing a Module:\n",
    "import math\n",
    "print(math.sqrt(16))"
   ]
  },
  {
   "cell_type": "code",
   "execution_count": 17,
   "id": "effb3c0e",
   "metadata": {},
   "outputs": [
    {
     "name": "stdout",
     "output_type": "stream",
     "text": [
      "4.0\n",
      "3.141592653589793\n"
     ]
    }
   ],
   "source": [
    "#Importing Specific Attributes:\n",
    "from math import sqrt\n",
    "print(sqrt(16))\n",
    "\n",
    "from math import pi\n",
    "print(pi)  # Outputs: 3.141592653589793"
   ]
  },
  {
   "cell_type": "code",
   "execution_count": 18,
   "id": "5af98dca",
   "metadata": {},
   "outputs": [
    {
     "name": "stdout",
     "output_type": "stream",
     "text": [
      "4.0\n",
      "-1.0\n"
     ]
    }
   ],
   "source": [
    "#Importing with Aliases:\n",
    "import math as m\n",
    "print(m.sqrt(16))\n",
    "print(m.cos(m.pi))  # Outputs: -1.0"
   ]
  },
  {
   "cell_type": "raw",
   "id": "841aa882",
   "metadata": {},
   "source": [
    "# Using if __name__ == \"__main__\":\n",
    "When a Python file is run, Python sets the special variable __name__ to \"__main__\" if the module being run is the main program. This check is used to execute code only if the file is run as a script and not imported as a module."
   ]
  },
  {
   "cell_type": "code",
   "execution_count": 19,
   "id": "391bb459",
   "metadata": {
    "scrolled": true
   },
   "outputs": [
    {
     "name": "stdout",
     "output_type": "stream",
     "text": [
      "Hello, world!\n"
     ]
    }
   ],
   "source": [
    "def main():\n",
    "    print(\"Hello, world!\")\n",
    "\n",
    "if __name__ == \"__main__\":\n",
    "    main()\n"
   ]
  },
  {
   "cell_type": "markdown",
   "id": "f27db7ad",
   "metadata": {},
   "source": []
  },
  {
   "cell_type": "markdown",
   "id": "20136723",
   "metadata": {},
   "source": [
    "Custom Module Example:"
   ]
  },
  {
   "cell_type": "code",
   "execution_count": 20,
   "id": "9622b363",
   "metadata": {},
   "outputs": [
    {
     "name": "stdout",
     "output_type": "stream",
     "text": [
      "Hello, Messi!\n"
     ]
    }
   ],
   "source": [
    "#Suppose we have a file named custom_module.py with the following code:\n",
    "def say_hello(name):\n",
    "    print(f\"Hello, {name}!\")\n",
    "\n",
    "#We can use the function say_hello from the module mymodule in another Python script like so:\n",
    "#import custom_module\n",
    "#custom_module.say_hello(\"Messi\")\n",
    "\n",
    "#-- or using specific item import--#\n",
    "\n",
    "#from custom_module import say_hello\n",
    "say_hello(\"Messi\")"
   ]
  },
  {
   "cell_type": "code",
   "execution_count": null,
   "id": "ac2a9468",
   "metadata": {},
   "outputs": [],
   "source": []
  }
 ],
 "metadata": {
  "kernelspec": {
   "display_name": "Python 3 (ipykernel)",
   "language": "python",
   "name": "python3"
  },
  "language_info": {
   "codemirror_mode": {
    "name": "ipython",
    "version": 3
   },
   "file_extension": ".py",
   "mimetype": "text/x-python",
   "name": "python",
   "nbconvert_exporter": "python",
   "pygments_lexer": "ipython3",
   "version": "3.9.7"
  }
 },
 "nbformat": 4,
 "nbformat_minor": 5
}
