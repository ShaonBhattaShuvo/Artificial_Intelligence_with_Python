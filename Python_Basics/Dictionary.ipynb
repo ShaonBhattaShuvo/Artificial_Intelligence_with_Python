{
 "cells": [
  {
   "cell_type": "markdown",
   "id": "60198690",
   "metadata": {},
   "source": [
    "# Dictionary Basics\n",
    "Python dictionaries are versatile data structures that allows to store key-value pairs. Dictionaries are mutable, which means they can be changed after they are created. They are incredibly useful for storing and retrieving data where each value is uniquely associated with a unique key.\n",
    "\n",
    "Dictionaries are written with curly brackets {}, containing keys and values separated by colons :. Each key-value pair (also called an item) is separated by a comma."
   ]
  },
  {
   "cell_type": "code",
   "execution_count": 1,
   "id": "a2a481f6",
   "metadata": {},
   "outputs": [
    {
     "name": "stdout",
     "output_type": "stream",
     "text": [
      "{'name': 'Messi', 'age': 36, 'sports': 'Football'}\n"
     ]
    }
   ],
   "source": [
    "# Creating a dictionary \n",
    "player_info = {'name': 'Messi', 'age': 36, 'sports': 'Football'} #also we can use dict() to create dictionary same as list(), tuple()\n",
    "print(player_info)"
   ]
  },
  {
   "cell_type": "code",
   "execution_count": 2,
   "id": "e0f516b0",
   "metadata": {},
   "outputs": [
    {
     "name": "stdout",
     "output_type": "stream",
     "text": [
      "{} {}\n"
     ]
    }
   ],
   "source": [
    "# Creating an empty dictionaly; \n",
    "empty_dict = {}\n",
    "empty_dict2 = dict()\n",
    "print(empty_dict, empty_dict2)"
   ]
  },
  {
   "cell_type": "code",
   "execution_count": 3,
   "id": "04372f78",
   "metadata": {},
   "outputs": [
    {
     "data": {
      "text/plain": [
       "{'key3': None, 'key2': None, 'key1': None}"
      ]
     },
     "execution_count": 3,
     "metadata": {},
     "output_type": "execute_result"
    }
   ],
   "source": [
    "# Creating a dictionary from a sequence of keys\n",
    "keys = {'key1', 'key2', 'key3'}\n",
    "dict1 = dict.fromkeys(keys)\n",
    "dict1"
   ]
  },
  {
   "cell_type": "code",
   "execution_count": 4,
   "id": "f439ec94",
   "metadata": {},
   "outputs": [
    {
     "name": "stdout",
     "output_type": "stream",
     "text": [
      "{1: 21, 2: 21, 3: 21, 'k': 21}\n",
      "{1: [21, 23], 2: [21, 23], 3: [21, 23], 'k': [21, 23]}\n"
     ]
    }
   ],
   "source": [
    "# Creating disctionaries from a sequence of keys and values\n",
    "keys = {1, 2, 3, 'k'}\n",
    "values = 21\n",
    "dict2 = dict.fromkeys(keys,values)\n",
    "print(dict2) #Output: {1: 21, 2: 21, 3: 21, 'k': 21}\n",
    "\n",
    "values2 = [21, 23]\n",
    "dict3 = dict.fromkeys(keys,values2)\n",
    "print(dict3) #Output: {1: [21, 23], 2: [21, 23], 3: [21, 23], 'k': [21, 23]}"
   ]
  },
  {
   "cell_type": "markdown",
   "id": "180b707f",
   "metadata": {},
   "source": [
    "# Accessing Dictionary Values\n",
    "* The spacific values in a dictionary can be accessed by referring to its key in square brackets [] or using the get() method.\n",
    "* All the values, keys, items(key-value) can be accessed using values(), keys(), and tiems() method respectively\n"
   ]
  },
  {
   "cell_type": "code",
   "execution_count": 5,
   "id": "e0868316",
   "metadata": {},
   "outputs": [
    {
     "name": "stdout",
     "output_type": "stream",
     "text": [
      "36\n",
      "Messi\n"
     ]
    }
   ],
   "source": [
    "print(player_info['age']) # Returns: 36\n",
    "print(player_info.get('name')) #Returns: Messi"
   ]
  },
  {
   "cell_type": "code",
   "execution_count": 6,
   "id": "848f0026",
   "metadata": {},
   "outputs": [
    {
     "data": {
      "text/plain": [
       "dict_keys(['name', 'age', 'sports'])"
      ]
     },
     "execution_count": 6,
     "metadata": {},
     "output_type": "execute_result"
    }
   ],
   "source": [
    "player_info.keys()"
   ]
  },
  {
   "cell_type": "code",
   "execution_count": 7,
   "id": "758dd51e",
   "metadata": {},
   "outputs": [
    {
     "data": {
      "text/plain": [
       "dict_values(['Messi', 36, 'Football'])"
      ]
     },
     "execution_count": 7,
     "metadata": {},
     "output_type": "execute_result"
    }
   ],
   "source": [
    "player_info.values()"
   ]
  },
  {
   "cell_type": "code",
   "execution_count": 8,
   "id": "c0233fc1",
   "metadata": {},
   "outputs": [
    {
     "data": {
      "text/plain": [
       "dict_items([('name', 'Messi'), ('age', 36), ('sports', 'Football')])"
      ]
     },
     "execution_count": 8,
     "metadata": {},
     "output_type": "execute_result"
    }
   ],
   "source": [
    "player_info.items()"
   ]
  },
  {
   "cell_type": "markdown",
   "id": "1abe4453",
   "metadata": {},
   "source": [
    "# Adding and Updating Dictionary Items\n",
    "We can add a new item or update an existing item by assigning a value to a key."
   ]
  },
  {
   "cell_type": "code",
   "execution_count": 9,
   "id": "889835d7",
   "metadata": {},
   "outputs": [
    {
     "data": {
      "text/plain": [
       "{'name': 'Messi', 'age': 36, 'sports': 'Football', 'team': 'Barcelona'}"
      ]
     },
     "execution_count": 9,
     "metadata": {},
     "output_type": "execute_result"
    }
   ],
   "source": [
    "#Adding a new item to the list\n",
    "player_info['team'] = 'Barcelona'\n",
    "player_info"
   ]
  },
  {
   "cell_type": "code",
   "execution_count": 10,
   "id": "2e9b6a05",
   "metadata": {},
   "outputs": [
    {
     "data": {
      "text/plain": [
       "{'name': 'Messi', 'age': 36, 'sports': 'Football', 'team': 'Inter Miami'}"
      ]
     },
     "execution_count": 10,
     "metadata": {},
     "output_type": "execute_result"
    }
   ],
   "source": [
    "#Updating a list item\n",
    "player_info['team'] = 'Inter Miami'\n",
    "player_info"
   ]
  },
  {
   "cell_type": "markdown",
   "id": "c2b0612f",
   "metadata": {},
   "source": [
    "#Updating using update() :\n",
    "\n",
    "The update() method updates the dictionary with the elements from another dictionary object or from an iterable of key/value pairs."
   ]
  },
  {
   "cell_type": "code",
   "execution_count": 11,
   "id": "af6a67bb",
   "metadata": {},
   "outputs": [
    {
     "name": "stdout",
     "output_type": "stream",
     "text": [
      "{'name': 'Messi', 'age': 38, 'sports': 'Football', 'team': 'Argentina', 'club': 'Inter Miami'}\n"
     ]
    }
   ],
   "source": [
    "player_info2 = {'age' : 38 , 'club' : \"Inter Miami\", 'team' : 'Argentina'}\n",
    "player_info.update(player_info2)\n",
    "print(player_info)"
   ]
  },
  {
   "cell_type": "markdown",
   "id": "7467816d",
   "metadata": {},
   "source": [
    "# Merging Dictionaries\n",
    "In Python 3.9 and later, we can merge dictionaries using the: \n",
    "* | operator or \n",
    "* update them with the |= operator:"
   ]
  },
  {
   "cell_type": "code",
   "execution_count": 12,
   "id": "67770354",
   "metadata": {},
   "outputs": [
    {
     "data": {
      "text/plain": [
       "{'a': 1, 'b': 3, 'c': 4, 'd': 5}"
      ]
     },
     "execution_count": 12,
     "metadata": {},
     "output_type": "execute_result"
    }
   ],
   "source": [
    "# The | operator creates a new dictionary that contains all the items from the original dictionaries. \n",
    "# If there are duplicate keys, the value from the right-most dictionary will be used.\n",
    "\n",
    "dict1 = {'a': 1, 'b': 2}\n",
    "dict2 = {'b': 3, 'c': 4, 'd': 5}\n",
    "\n",
    "merged_dict = dict1 | dict2 # Output: {'a': 1, 'b': 3, 'c': 4, 'd': 5} \n",
    "merged_dict"
   ]
  },
  {
   "cell_type": "code",
   "execution_count": 13,
   "id": "38c415f8",
   "metadata": {},
   "outputs": [],
   "source": [
    "# Updating Dictionaries with |=\n",
    "# The |= operator updates the original dictionary with items from the other dictionary. \n",
    "# Again, if there are overlapping keys, the values from the right-most dictionary will overwrite those in the left-most.\n",
    "# dict1 = {'a': 1, 'b': 2}\n",
    "# dict2 = {'b': 3, 'c': 4}\n",
    "\n",
    "# dict1 |= dict2  \n",
    "# Now dict1 is {'a': 1, 'b': 3, 'c': 4}\n",
    " \n",
    "# dict3 = {'e': 6}\n",
    "# dict1 |= dict2 |= dict3\n",
    "# dict1 becomes {'a': 1, 'b': 3, 'c': 4, 'e': 6}\n",
    "# dict2 becomes {'b': 3, 'c': 4, 'e': 6}"
   ]
  },
  {
   "cell_type": "markdown",
   "id": "e9a0ca0f",
   "metadata": {},
   "source": [
    "# Using setdefault()\n",
    "The setdefault() method returns the value of a key if it is in the dictionary. If not, it inserts the key with a specified value and returns that value."
   ]
  },
  {
   "cell_type": "code",
   "execution_count": 14,
   "id": "b84903ce",
   "metadata": {},
   "outputs": [
    {
     "name": "stdout",
     "output_type": "stream",
     "text": [
      "Alon\n",
      "Not Specified\n",
      "{'name': 'Alon', 'age': 45, 'gender': 'Not Specified'}\n"
     ]
    }
   ],
   "source": [
    "person = {'name': 'Alon', 'age': 45}\n",
    "# Returns the value of 'name'\n",
    "print(person.setdefault('name', 'Default Name'))  # Output: Alon\n",
    "\n",
    "# Inserts 'gender' with a default value\n",
    "print(person.setdefault('gender', 'Not Specified'))  # Output: Not Specified\n",
    "print(person)  # Output: {'name': 'Alice', 'age': 25, 'gender': 'Not Specified'}"
   ]
  },
  {
   "cell_type": "markdown",
   "id": "9fedd7d0",
   "metadata": {},
   "source": [
    "# Removing Items\n",
    "Several methods can remove items from a dictionary: pop(), popitem(), and del."
   ]
  },
  {
   "cell_type": "code",
   "execution_count": 15,
   "id": "8d684ba6",
   "metadata": {},
   "outputs": [
    {
     "data": {
      "text/plain": [
       "{'name': 'Messi', 'age': 38, 'sports': 'Football', 'club': 'Inter Miami'}"
      ]
     },
     "execution_count": 15,
     "metadata": {},
     "output_type": "execute_result"
    }
   ],
   "source": [
    "# Removing an item with a specific key\n",
    "player_info.pop('team')\n",
    "player_info"
   ]
  },
  {
   "cell_type": "code",
   "execution_count": 16,
   "id": "f9e3cbfb",
   "metadata": {},
   "outputs": [
    {
     "data": {
      "text/plain": [
       "{'name': 'Messi', 'age': 38, 'sports': 'Football'}"
      ]
     },
     "execution_count": 16,
     "metadata": {},
     "output_type": "execute_result"
    }
   ],
   "source": [
    "# Removing the last added item (key-value pair)\n",
    "player_info.popitem()\n",
    "player_info"
   ]
  },
  {
   "cell_type": "code",
   "execution_count": 17,
   "id": "787f03d9",
   "metadata": {},
   "outputs": [
    {
     "data": {
      "text/plain": [
       "{'name': 'Messi', 'sports': 'Football'}"
      ]
     },
     "execution_count": 17,
     "metadata": {},
     "output_type": "execute_result"
    }
   ],
   "source": [
    "# Deleting an item using del \n",
    "del player_info['age'] \n",
    "player_info"
   ]
  },
  {
   "cell_type": "code",
   "execution_count": 18,
   "id": "43d7ca14",
   "metadata": {},
   "outputs": [],
   "source": [
    "# Clear all items\n",
    "#player_info.clear()\n",
    "#player_info"
   ]
  },
  {
   "cell_type": "markdown",
   "id": "15686c5a",
   "metadata": {},
   "source": [
    "# Other Common Dictionary Methods\n",
    "* get(): Returns the value for a key if it exists in the dictionary. [Aleady Discussed]\n",
    "* update(): Updates the dictionary with the specified key-value pairs. [Aleady Discussed]\n",
    "* keys(): Returns a view object containing the dictionary's keys. [Aleady Discussed]\n",
    "* values(): Returns a view object containing the dictionary's values. [Aleady Discussed]\n",
    "* items(): Returns a view object with tuples of each key-value pair. [Aleady Discussed]\n",
    "* fromkeys(): Creates a new dictionary with keys from a sequence and a value provided. [Aleady Discussed]\n",
    "* copy(): Returns a shallow copy of the dictionary. [same as list; see list.ipynb]\n",
    "* deepcopy(): It's important to distinguish this from deep copying, which you can achieve with the copy module for nested dictionaries. [same as list; see list.ipynb]\n"
   ]
  },
  {
   "cell_type": "code",
   "execution_count": 19,
   "id": "2f613b1a",
   "metadata": {},
   "outputs": [
    {
     "name": "stdout",
     "output_type": "stream",
     "text": [
      "{'name': 'Messi', 'sports': 'Football'}\n"
     ]
    },
    {
     "data": {
      "text/plain": [
       "(140453617925248, 140453617955456)"
      ]
     },
     "execution_count": 19,
     "metadata": {},
     "output_type": "execute_result"
    }
   ],
   "source": [
    "player_copy = player_info.copy()\n",
    "print(player_copy)  # Output: {'name': 'Alice', 'age': 26, 'city': 'New York'}\n",
    "id(player_copy), id(player_info) #id will be different"
   ]
  },
  {
   "cell_type": "markdown",
   "id": "bcefc1a4",
   "metadata": {},
   "source": [
    "# Interating Over a Dictionary:\n",
    "We can iterate through a dictionary using loops to access keys, values, or both."
   ]
  },
  {
   "cell_type": "code",
   "execution_count": 20,
   "id": "5223e0d0",
   "metadata": {},
   "outputs": [
    {
     "name": "stdout",
     "output_type": "stream",
     "text": [
      "name\n",
      "sports\n"
     ]
    }
   ],
   "source": [
    "#Iterating over keys\n",
    "for key in player_info:\n",
    "    print(key)"
   ]
  },
  {
   "cell_type": "code",
   "execution_count": 21,
   "id": "73628db8",
   "metadata": {},
   "outputs": [
    {
     "name": "stdout",
     "output_type": "stream",
     "text": [
      "Messi\n",
      "Football\n"
     ]
    }
   ],
   "source": [
    "#Iterating over values\n",
    "for value in player_info.values():\n",
    "    print(value)"
   ]
  },
  {
   "cell_type": "code",
   "execution_count": 22,
   "id": "02c7204b",
   "metadata": {},
   "outputs": [
    {
     "name": "stdout",
     "output_type": "stream",
     "text": [
      "name Messi\n",
      "sports Football\n"
     ]
    }
   ],
   "source": [
    "#Iterating over items , i.e. key,values\n",
    "for key, value in player_info.items():\n",
    "    print(key, value)"
   ]
  },
  {
   "cell_type": "markdown",
   "id": "558c7354",
   "metadata": {},
   "source": [
    "# Dicitionary Membership\n",
    "Dictionary membership(by default) can only be done for key to check if a key is present or not "
   ]
  },
  {
   "cell_type": "code",
   "execution_count": 23,
   "id": "19c31753",
   "metadata": {},
   "outputs": [
    {
     "name": "stdout",
     "output_type": "stream",
     "text": [
      "True\n",
      "False\n",
      "True\n"
     ]
    }
   ],
   "source": [
    "print('name' in player_info) #Returns: True\n",
    "print('Messi' in player_info) #Returns: False\n",
    "print('Messi' in player_info.values()) #Returns: True"
   ]
  },
  {
   "cell_type": "markdown",
   "id": "b4adfad2",
   "metadata": {},
   "source": [
    "# Nested Dictionaries\n",
    "Dictionaries can contain multiple data types: strings, integers, lists, and even other dictionaries.\n",
    "\n"
   ]
  },
  {
   "cell_type": "code",
   "execution_count": 24,
   "id": "af4770d0",
   "metadata": {},
   "outputs": [
    {
     "name": "stdout",
     "output_type": "stream",
     "text": [
      "child1: name Thiago age 12 \n",
      "child2: name Mateo age 9 \n",
      "child3: name Ciro age 6 \n"
     ]
    }
   ],
   "source": [
    "# Nested dictionaries\n",
    "family = {\n",
    "    \"child1\": {\"name\": \"Thiago\", \"age\": 12},\n",
    "    \"child2\": {\"name\": \"Mateo\", \"age\": 9},\n",
    "    \"child3\": {\"name\": \"Ciro\", \"age\": 6},\n",
    "}\n",
    "\n",
    "for key,value in family.items():\n",
    "        print(key, end=': ')\n",
    "        for k, v in value.items():\n",
    "            print(k,v, end=\" \")\n",
    "        print()"
   ]
  },
  {
   "cell_type": "markdown",
   "id": "649598c7",
   "metadata": {},
   "source": [
    "# Dictionary Comprehensions\n",
    "Similar to list comprehensions, dictionary comprehensions offer a concise way to create dictionaries.\n",
    "\n",
    "Howver, the formula is bit different here- {key:value for var in iterate(iterable)}"
   ]
  },
  {
   "cell_type": "code",
   "execution_count": 25,
   "id": "da135ee9",
   "metadata": {},
   "outputs": [
    {
     "data": {
      "text/plain": [
       "{1: 1, 2: 4, 3: 9, 4: 16, 5: 25, 6: 36, 7: 49, 8: 64, 9: 81}"
      ]
     },
     "execution_count": 25,
     "metadata": {},
     "output_type": "execute_result"
    }
   ],
   "source": [
    "#Creating a dictionary of corresponding square values for keys from 1 to 9\n",
    "squared_dict = {x : x ** 2 for x in range(1, 10)}\n",
    "squared_dict"
   ]
  },
  {
   "cell_type": "code",
   "execution_count": 26,
   "id": "c1d47f78",
   "metadata": {},
   "outputs": [
    {
     "data": {
      "text/plain": [
       "{'s': 1, 'h': 2, 'a': 3, 'o': 4, 'n': 5}"
      ]
     },
     "execution_count": 26,
     "metadata": {},
     "output_type": "execute_result"
    }
   ],
   "source": [
    "#List comprehension using zip()\n",
    "keys = ['s', 'h', 'a', 'o', 'n']\n",
    "values = [1, 2, 3, 4, 5]\n",
    "my_dictionary = {key : value for key, value in zip(keys, values)}\n",
    "my_dictionary"
   ]
  },
  {
   "cell_type": "code",
   "execution_count": 27,
   "id": "5a2e4e1d",
   "metadata": {},
   "outputs": [
    {
     "data": {
      "text/plain": [
       "{'s': 2, 'h': 4, 'a': 6, 'o': 8, 'n': 10}"
      ]
     },
     "execution_count": 27,
     "metadata": {},
     "output_type": "execute_result"
    }
   ],
   "source": [
    "#List comprehension by using the value of another list:\n",
    "my_dictionary_updated = {key : value * 2 for key, value in my_dictionary.items()}\n",
    "my_dictionary_updated"
   ]
  },
  {
   "cell_type": "code",
   "execution_count": 28,
   "id": "e81d496a",
   "metadata": {},
   "outputs": [
    {
     "name": "stdout",
     "output_type": "stream",
     "text": [
      "{0: 'H', 1: 'e', 2: 'l', 3: 'l', 4: 'o', 5: ' ', 6: 'P', 7: 'l', 8: 'a', 9: 'n', 10: 'e', 11: 't', 12: '!'}\n"
     ]
    }
   ],
   "source": [
    "#Converting a string into dictionary:\n",
    "text = \"Hello Planet!\"\n",
    "text_dict = {key:value for key, value in enumerate(text)}\n",
    "print(text_dict)"
   ]
  },
  {
   "cell_type": "code",
   "execution_count": 29,
   "id": "9158e47c",
   "metadata": {},
   "outputs": [
    {
     "name": "stdout",
     "output_type": "stream",
     "text": [
      "{0: 'H', 1: 'E', 2: 'L', 3: 'L', 4: 'O', 5: ' ', 6: 'P', 7: 'L', 8: 'A', 9: 'N', 10: 'E', 11: 'T', 12: '!'}\n"
     ]
    }
   ],
   "source": [
    "text = \"Hello Planet!\"\n",
    "text_dict = {key:value.upper() for key, value in enumerate(text)}\n",
    "print(text_dict)"
   ]
  },
  {
   "cell_type": "code",
   "execution_count": 30,
   "id": "63955323",
   "metadata": {
    "scrolled": true
   },
   "outputs": [
    {
     "name": "stdout",
     "output_type": "stream",
     "text": [
      "{'h': 'H', 'e': 'E', 'l': 'L', 'o': 'O', ' ': ' ', 'p': 'P', 'a': 'A', 'n': 'N', 't': 'T', '!': '!'}\n"
     ]
    }
   ],
   "source": [
    "#lower to upper mapping:\n",
    "text = \"Hello Planet!\"\n",
    "text_dict = {key.lower():key.upper() for key in text}\n",
    "print(text_dict)"
   ]
  },
  {
   "cell_type": "code",
   "execution_count": 31,
   "id": "5f0b6c9f",
   "metadata": {},
   "outputs": [
    {
     "data": {
      "text/plain": [
       "{'hello': 3, 'hi': 2, 'world': 1}"
      ]
     },
     "execution_count": 31,
     "metadata": {},
     "output_type": "execute_result"
    }
   ],
   "source": [
    "#finding the frequencey of a word in a text and mapping as dictionary\n",
    "input_txt = \"hello hi hello world hello hi\"\n",
    "txt_list = input_txt.split(' ')\n",
    "unique_txt_list = list(set(txt_list))\n",
    "txt_count_dict = {key : txt_list.count(key) for key in unique_txt_list}\n",
    "txt_count_dict"
   ]
  },
  {
   "cell_type": "markdown",
   "id": "343fa1cf",
   "metadata": {},
   "source": [
    "# Example Problems to Solve using Dictionary using Function"
   ]
  },
  {
   "cell_type": "markdown",
   "id": "40c24b1d",
   "metadata": {},
   "source": [
    "PROBLEM #1: Given a list of elements, identify all duplicates in the list.\n",
    "\n",
    "Input: [1, 2, 3, 2, 1, 5, 6, 5, 5, 7]\n",
    "Output: [1, 2, 5]"
   ]
  },
  {
   "cell_type": "code",
   "execution_count": 32,
   "id": "d10efb12",
   "metadata": {},
   "outputs": [
    {
     "data": {
      "text/plain": [
       "[1, 2, 5]"
      ]
     },
     "execution_count": 32,
     "metadata": {},
     "output_type": "execute_result"
    }
   ],
   "source": [
    "def find_duplicates(numbers):\n",
    "    unique_numbers = list(set(numbers))\n",
    "    dict_count = {key : numbers.count(key) for key in unique_numbers}\n",
    "    return [key for key, value in dict_count.items() if value>1]\n",
    "\n",
    "#example input\n",
    "numbers = [1, 2, 3, 2, 1, 5, 6, 5, 5, 7]\n",
    "find_duplicates(numbers)"
   ]
  },
  {
   "cell_type": "code",
   "execution_count": 33,
   "id": "b54b2345",
   "metadata": {},
   "outputs": [
    {
     "data": {
      "text/plain": [
       "[1, 2, 5]"
      ]
     },
     "execution_count": 33,
     "metadata": {},
     "output_type": "execute_result"
    }
   ],
   "source": [
    "#Alternative approach\n",
    "def find_duplicate(numbers):\n",
    "    counts = {}\n",
    "    for item in numbers:\n",
    "        counts[item] = counts.get(item, 0) + 1\n",
    "    \n",
    "    return [key for key, value in counts.items() if value > 1]\n",
    "        \n",
    "#example input\n",
    "numbers = [1, 2, 3, 2, 1, 5, 6, 5, 5, 7]\n",
    "find_duplicates(numbers)  "
   ]
  },
  {
   "cell_type": "markdown",
   "id": "079757ff",
   "metadata": {},
   "source": [
    "PROBLEM #2: Group Anagrams:\n",
    "\n",
    "Given an array of strings, group anagrams together.\n",
    "\n",
    "Input: ['eat', 'tea', 'tan', 'ate', 'nat', 'bat']; \n",
    "Output: [['eat', 'tea', 'ate'], ['tan', 'nat'], ['bat']]\n"
   ]
  },
  {
   "cell_type": "code",
   "execution_count": 34,
   "id": "85f93f8d",
   "metadata": {},
   "outputs": [
    {
     "name": "stdout",
     "output_type": "stream",
     "text": [
      "[['eat', 'tea', 'ate'], ['tan', 'nat'], ['bat']]\n"
     ]
    }
   ],
   "source": [
    "def group_anagram(input_text):\n",
    "    anagrams = {}\n",
    "    for word in input_text:\n",
    "        sorted_word = tuple(sorted(word))  #required to make it tuple for hashing as dict key are immutable\n",
    "        anagrams.setdefault(sorted_word, []).append(word)\n",
    "    return list(anagrams.values())\n",
    "\n",
    "input_text = ['eat', 'tea', 'tan', 'ate', 'nat', 'bat']\n",
    "print(group_anagram(input_text))\n"
   ]
  },
  {
   "cell_type": "markdown",
   "id": "9541209c",
   "metadata": {},
   "source": [
    "* More Explanation on using tuple() : \n",
    "Dictionary keys in Python need to be immutable types. While lists are mutable and cannot be used as dictionary keys! tuples are immutable and can serve this purpose. When we sort a word, sorted(word) returns a list of characters, \n",
    "which is mutable and hence not hashable. By converting this list to a tuple, we create an immutable sequence thatcan be hashed and used as a dictionary key."
   ]
  },
  {
   "cell_type": "markdown",
   "id": "c5094ebc",
   "metadata": {},
   "source": [
    "PROBMEL #3: First Non-Repeating Character:\n",
    "\n",
    "Find the first non-repeating character in a string.\n",
    "\n",
    "Input: shaonbshuvo; Output:a"
   ]
  },
  {
   "cell_type": "code",
   "execution_count": 35,
   "id": "fb7fcdd6",
   "metadata": {},
   "outputs": [
    {
     "name": "stdout",
     "output_type": "stream",
     "text": [
      "a\n"
     ]
    }
   ],
   "source": [
    "def first_nonRepeat(text):\n",
    "    count = {}\n",
    "    for ch in text:\n",
    "        count[ch] = count.get(ch, 0)+1\n",
    "    for ch in text:\n",
    "        if count[ch] == 1:\n",
    "            return ch\n",
    "    return None\n",
    "\n",
    "text = 'shaonbshuvo'\n",
    "print(first_nonRepeat(text))"
   ]
  },
  {
   "cell_type": "markdown",
   "id": "92a28d15",
   "metadata": {},
   "source": [
    "PROBLEM #4: Check if Two Strings are Isomorphic:\n",
    "\n",
    "Problem: Two strings are isomorphic if the characters in one string can be replaced to get the other string. No two characters may map to the same character, but a character may map to itself.\n",
    "\n",
    "Input: str1 = \"egg\", str2 = \"add\";\n",
    "Output: True"
   ]
  },
  {
   "cell_type": "code",
   "execution_count": 36,
   "id": "0015945e",
   "metadata": {},
   "outputs": [
    {
     "name": "stdout",
     "output_type": "stream",
     "text": [
      "True\n",
      "False\n"
     ]
    }
   ],
   "source": [
    "def are_isomorphic(str1, str2):\n",
    "    if len(str1) != len(str2):\n",
    "        return False\n",
    "    mapping_str1 = {}\n",
    "    mapping_str2 = {}\n",
    "    for char1, char2 in zip(str1, str2):\n",
    "        if (char1 in mapping_str1 and mapping_str1[char1] != char2) or \\\n",
    "           (char2 in mapping_str2 and mapping_str2[char2] != char1):\n",
    "            return False\n",
    "        mapping_str1[char1] = char2\n",
    "        mapping_str2[char2] = char1\n",
    "    return True\n",
    "\n",
    "str1, str2 = 'egg', \"add\"\n",
    "print(are_isomorphic(str1, str2)) #True\n",
    "\n",
    "str1, str2 = 'egg', \"dde\"\n",
    "print(are_isomorphic(str1, str2)) #True"
   ]
  }
 ],
 "metadata": {
  "kernelspec": {
   "display_name": "Python 3 (ipykernel)",
   "language": "python",
   "name": "python3"
  },
  "language_info": {
   "codemirror_mode": {
    "name": "ipython",
    "version": 3
   },
   "file_extension": ".py",
   "mimetype": "text/x-python",
   "name": "python",
   "nbconvert_exporter": "python",
   "pygments_lexer": "ipython3",
   "version": "3.9.7"
  }
 },
 "nbformat": 4,
 "nbformat_minor": 5
}
