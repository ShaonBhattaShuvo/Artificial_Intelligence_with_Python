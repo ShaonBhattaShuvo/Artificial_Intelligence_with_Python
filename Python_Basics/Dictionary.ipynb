{
 "cells": [
  {
   "cell_type": "markdown",
   "id": "c12fcd4a",
   "metadata": {},
   "source": [
    "# Dictionary Basics\n",
    "Python dictionaries are versatile data structures that allows to store key-value pairs. Dictionaries are mutable, which means they can be changed after they are created. They are incredibly useful for storing and retrieving data where each value is uniquely associated with a unique key.\n",
    "\n",
    "Dictionaries are written with curly brackets {}, containing keys and values separated by colons :. Each key-value pair (also called an item) is separated by a comma."
   ]
  },
  {
   "cell_type": "code",
   "execution_count": 1,
   "id": "52945e40",
   "metadata": {},
   "outputs": [
    {
     "name": "stdout",
     "output_type": "stream",
     "text": [
      "{'name': 'Messi', 'age': 36, 'sports': 'Football'}\n"
     ]
    }
   ],
   "source": [
    "# Creating a dictionary \n",
    "player_info = {'name': 'Messi', 'age': 36, 'sports': 'Football'} #also we can use dict() to create dictionary same as list(), tuple()\n",
    "print(player_info)"
   ]
  },
  {
   "cell_type": "code",
   "execution_count": 2,
   "id": "7a6db208",
   "metadata": {},
   "outputs": [
    {
     "name": "stdout",
     "output_type": "stream",
     "text": [
      "{} {}\n"
     ]
    }
   ],
   "source": [
    "# Creating an empty dictionaly; \n",
    "empty_dict = {}\n",
    "empty_dict2 = dict()\n",
    "print(empty_dict, empty_dict2)"
   ]
  },
  {
   "cell_type": "code",
   "execution_count": 3,
   "id": "ce5e365b",
   "metadata": {},
   "outputs": [
    {
     "data": {
      "text/plain": [
       "{'key3': None, 'key1': None, 'key2': None}"
      ]
     },
     "execution_count": 3,
     "metadata": {},
     "output_type": "execute_result"
    }
   ],
   "source": [
    "# Creating a dictionary from a sequence of keys\n",
    "keys = {'key1', 'key2', 'key3'}\n",
    "dict1 = dict.fromkeys(keys)\n",
    "dict1"
   ]
  },
  {
   "cell_type": "code",
   "execution_count": 4,
   "id": "7fa7452c",
   "metadata": {},
   "outputs": [
    {
     "name": "stdout",
     "output_type": "stream",
     "text": [
      "{1: 21, 2: 21, 3: 21, 'k': 21}\n",
      "{1: [21, 23], 2: [21, 23], 3: [21, 23], 'k': [21, 23]}\n"
     ]
    }
   ],
   "source": [
    "# Creating disctionaries from a sequence of keys and values\n",
    "keys = {1, 2, 3, 'k'}\n",
    "values = 21\n",
    "dict2 = dict.fromkeys(keys,values)\n",
    "print(dict2) #Output: {1: 21, 2: 21, 3: 21, 'k': 21}\n",
    "\n",
    "values2 = [21, 23]\n",
    "dict3 = dict.fromkeys(keys,values2)\n",
    "print(dict3) #Output: {1: [21, 23], 2: [21, 23], 3: [21, 23], 'k': [21, 23]}"
   ]
  },
  {
   "cell_type": "markdown",
   "id": "f8acd958",
   "metadata": {},
   "source": [
    "# Accessing Dictionary Values\n",
    "* The spacific values in a dictionary can be accessed by referring to its key in square brackets [] or using the get() method.\n",
    "* All the values, keys, items(key-value) can be accessed using values(), keys(), and tiems() method respectively\n"
   ]
  },
  {
   "cell_type": "code",
   "execution_count": 5,
   "id": "4bde0f3d",
   "metadata": {},
   "outputs": [
    {
     "name": "stdout",
     "output_type": "stream",
     "text": [
      "36\n",
      "Messi\n"
     ]
    }
   ],
   "source": [
    "print(player_info['age']) # Returns: 36\n",
    "print(player_info.get('name')) #Returns: Messi"
   ]
  },
  {
   "cell_type": "code",
   "execution_count": 6,
   "id": "79a42dfc",
   "metadata": {},
   "outputs": [
    {
     "data": {
      "text/plain": [
       "dict_keys(['name', 'age', 'sports'])"
      ]
     },
     "execution_count": 6,
     "metadata": {},
     "output_type": "execute_result"
    }
   ],
   "source": [
    "player_info.keys()"
   ]
  },
  {
   "cell_type": "code",
   "execution_count": 7,
   "id": "20424022",
   "metadata": {},
   "outputs": [
    {
     "data": {
      "text/plain": [
       "dict_values(['Messi', 36, 'Football'])"
      ]
     },
     "execution_count": 7,
     "metadata": {},
     "output_type": "execute_result"
    }
   ],
   "source": [
    "player_info.values()"
   ]
  },
  {
   "cell_type": "code",
   "execution_count": 8,
   "id": "3b3782d3",
   "metadata": {},
   "outputs": [
    {
     "data": {
      "text/plain": [
       "dict_items([('name', 'Messi'), ('age', 36), ('sports', 'Football')])"
      ]
     },
     "execution_count": 8,
     "metadata": {},
     "output_type": "execute_result"
    }
   ],
   "source": [
    "player_info.items()"
   ]
  },
  {
   "cell_type": "markdown",
   "id": "d240d2c8",
   "metadata": {},
   "source": [
    "# Adding and Updating Dictionary Items\n",
    "We can add a new item or update an existing item by assigning a value to a key."
   ]
  },
  {
   "cell_type": "code",
   "execution_count": 9,
   "id": "9ceca0ff",
   "metadata": {},
   "outputs": [
    {
     "data": {
      "text/plain": [
       "{'name': 'Messi', 'age': 36, 'sports': 'Football', 'team': 'Barcelona'}"
      ]
     },
     "execution_count": 9,
     "metadata": {},
     "output_type": "execute_result"
    }
   ],
   "source": [
    "#Adding a new item to the list\n",
    "player_info['team'] = 'Barcelona'\n",
    "player_info"
   ]
  },
  {
   "cell_type": "code",
   "execution_count": 10,
   "id": "86cdd4cd",
   "metadata": {},
   "outputs": [
    {
     "data": {
      "text/plain": [
       "{'name': 'Messi', 'age': 36, 'sports': 'Football', 'team': 'Inter Miami'}"
      ]
     },
     "execution_count": 10,
     "metadata": {},
     "output_type": "execute_result"
    }
   ],
   "source": [
    "#Updating a list item\n",
    "player_info['team'] = 'Inter Miami'\n",
    "player_info"
   ]
  },
  {
   "cell_type": "markdown",
   "id": "bb9894c3",
   "metadata": {},
   "source": [
    "#Updating using update() :\n",
    "\n",
    "The update() method updates the dictionary with the elements from another dictionary object or from an iterable of key/value pairs."
   ]
  },
  {
   "cell_type": "code",
   "execution_count": 11,
   "id": "c1fac1b5",
   "metadata": {},
   "outputs": [
    {
     "name": "stdout",
     "output_type": "stream",
     "text": [
      "{'name': 'Messi', 'age': 38, 'sports': 'Football', 'team': 'Argentina', 'club': 'Inter Miami'}\n"
     ]
    }
   ],
   "source": [
    "player_info2 = {'age' : 38 , 'club' : \"Inter Miami\", 'team' : 'Argentina'}\n",
    "player_info.update(player_info2)\n",
    "print(player_info)"
   ]
  },
  {
   "cell_type": "markdown",
   "id": "dff771ac",
   "metadata": {},
   "source": [
    "# Removing Items\n",
    "Several methods can remove items from a dictionary: pop(), popitem(), and del."
   ]
  },
  {
   "cell_type": "code",
   "execution_count": 12,
   "id": "2974d861",
   "metadata": {},
   "outputs": [
    {
     "data": {
      "text/plain": [
       "{'name': 'Messi', 'age': 38, 'sports': 'Football', 'club': 'Inter Miami'}"
      ]
     },
     "execution_count": 12,
     "metadata": {},
     "output_type": "execute_result"
    }
   ],
   "source": [
    "# Removing an item with a specific key\n",
    "player_info.pop('team')\n",
    "player_info"
   ]
  },
  {
   "cell_type": "code",
   "execution_count": 13,
   "id": "cfaa5309",
   "metadata": {},
   "outputs": [
    {
     "data": {
      "text/plain": [
       "{'name': 'Messi', 'age': 38, 'sports': 'Football'}"
      ]
     },
     "execution_count": 13,
     "metadata": {},
     "output_type": "execute_result"
    }
   ],
   "source": [
    "# Removing the last added item (key-value pair)\n",
    "player_info.popitem()\n",
    "player_info"
   ]
  },
  {
   "cell_type": "code",
   "execution_count": 14,
   "id": "e4248f41",
   "metadata": {},
   "outputs": [
    {
     "data": {
      "text/plain": [
       "{'name': 'Messi', 'sports': 'Football'}"
      ]
     },
     "execution_count": 14,
     "metadata": {},
     "output_type": "execute_result"
    }
   ],
   "source": [
    "# Deleting an item using del \n",
    "del player_info['age'] \n",
    "player_info"
   ]
  },
  {
   "cell_type": "code",
   "execution_count": 15,
   "id": "ee5363d9",
   "metadata": {},
   "outputs": [],
   "source": [
    "# Clear all items\n",
    "#player_info.clear()\n",
    "#player_info"
   ]
  },
  {
   "cell_type": "markdown",
   "id": "3e346a4e",
   "metadata": {},
   "source": [
    "# Other Common Dictionary Methods\n",
    "* get(): Returns the value for a key if it exists in the dictionary. [Aleady Discussed]\n",
    "* update(): Updates the dictionary with the specified key-value pairs. [Aleady Discussed]\n",
    "* keys(): Returns a view object containing the dictionary's keys. [Aleady Discussed]\n",
    "* values(): Returns a view object containing the dictionary's values. [Aleady Discussed]\n",
    "* items(): Returns a view object with tuples of each key-value pair. [Aleady Discussed]\n",
    "* fromkeys(): Creates a new dictionary with keys from a sequence and a value provided. [Aleady Discussed]\n",
    "* copy(): Returns a shallow copy of the dictionary. [same as list; see list.ipynb]\n"
   ]
  },
  {
   "cell_type": "code",
   "execution_count": 16,
   "id": "eedc846d",
   "metadata": {},
   "outputs": [
    {
     "name": "stdout",
     "output_type": "stream",
     "text": [
      "{'name': 'Messi', 'sports': 'Football'}\n"
     ]
    },
    {
     "data": {
      "text/plain": [
       "(140516331103488, 140516331128448)"
      ]
     },
     "execution_count": 16,
     "metadata": {},
     "output_type": "execute_result"
    }
   ],
   "source": [
    "player_copy = player_info.copy()\n",
    "print(player_copy)  # Output: {'name': 'Alice', 'age': 26, 'city': 'New York'}\n",
    "id(player_copy), id(player_info) #id will be different"
   ]
  },
  {
   "cell_type": "markdown",
   "id": "da62afc8",
   "metadata": {},
   "source": [
    "# Interating Over a Dictionary:\n",
    "We can iterate through a dictionary using loops to access keys, values, or both."
   ]
  },
  {
   "cell_type": "code",
   "execution_count": 17,
   "id": "8c2aae47",
   "metadata": {},
   "outputs": [
    {
     "name": "stdout",
     "output_type": "stream",
     "text": [
      "name\n",
      "sports\n"
     ]
    }
   ],
   "source": [
    "#Iterating over keys\n",
    "for key in player_info:\n",
    "    print(key)"
   ]
  },
  {
   "cell_type": "code",
   "execution_count": 18,
   "id": "99b8f57a",
   "metadata": {},
   "outputs": [
    {
     "name": "stdout",
     "output_type": "stream",
     "text": [
      "Messi\n",
      "Football\n"
     ]
    }
   ],
   "source": [
    "#Iterating over values\n",
    "for value in player_info.values():\n",
    "    print(value)"
   ]
  },
  {
   "cell_type": "code",
   "execution_count": 19,
   "id": "7f4b6932",
   "metadata": {},
   "outputs": [
    {
     "name": "stdout",
     "output_type": "stream",
     "text": [
      "name Messi\n",
      "sports Football\n"
     ]
    }
   ],
   "source": [
    "#Iterating over items , i.e. key,values\n",
    "for key, value in player_info.items():\n",
    "    print(key, value)"
   ]
  },
  {
   "cell_type": "markdown",
   "id": "6e6342e8",
   "metadata": {},
   "source": [
    "# Dicitionary Membership\n",
    "Dictionary membership(by default) can only be done for key to check if a key is present or not "
   ]
  },
  {
   "cell_type": "code",
   "execution_count": 20,
   "id": "74ef6476",
   "metadata": {},
   "outputs": [
    {
     "name": "stdout",
     "output_type": "stream",
     "text": [
      "True\n",
      "False\n",
      "True\n"
     ]
    }
   ],
   "source": [
    "print('name' in player_info) #Returns: True\n",
    "print('Messi' in player_info) #Returns: False\n",
    "print('Messi' in player_info.values()) #Returns: True"
   ]
  },
  {
   "cell_type": "markdown",
   "id": "304c5070",
   "metadata": {},
   "source": [
    "# Nested Dictionaries\n",
    "Dictionaries can contain multiple data types: strings, integers, lists, and even other dictionaries.\n",
    "\n"
   ]
  },
  {
   "cell_type": "code",
   "execution_count": 21,
   "id": "742b1e11",
   "metadata": {},
   "outputs": [
    {
     "name": "stdout",
     "output_type": "stream",
     "text": [
      "child1: name Thiago age 12 \n",
      "child2: name Mateo age 9 \n",
      "child3: name Ciro age 6 \n"
     ]
    }
   ],
   "source": [
    "# Nested dictionaries\n",
    "family = {\n",
    "    \"child1\": {\"name\": \"Thiago\", \"age\": 12},\n",
    "    \"child2\": {\"name\": \"Mateo\", \"age\": 9},\n",
    "    \"child3\": {\"name\": \"Ciro\", \"age\": 6},\n",
    "}\n",
    "\n",
    "for key,value in family.items():\n",
    "        print(key, end=': ')\n",
    "        for k, v in value.items():\n",
    "            print(k,v, end=\" \")\n",
    "        print()"
   ]
  },
  {
   "cell_type": "markdown",
   "id": "d4d03642",
   "metadata": {},
   "source": [
    "# Dictionary Comprehensions\n",
    "Similar to list comprehensions, dictionary comprehensions offer a concise way to create dictionaries.\n",
    "\n",
    "Howver, the formula is bit different here- {key:value for var in iterate(iterable)}"
   ]
  },
  {
   "cell_type": "code",
   "execution_count": 22,
   "id": "89a77bb5",
   "metadata": {},
   "outputs": [
    {
     "data": {
      "text/plain": [
       "{1: 1, 2: 4, 3: 9, 4: 16, 5: 25, 6: 36, 7: 49, 8: 64, 9: 81}"
      ]
     },
     "execution_count": 22,
     "metadata": {},
     "output_type": "execute_result"
    }
   ],
   "source": [
    "#Creating a dictionary of corresponding square values for keys from 1 to 9\n",
    "squared_dict = {x : x ** 2 for x in range(1, 10)}\n",
    "squared_dict"
   ]
  },
  {
   "cell_type": "code",
   "execution_count": 23,
   "id": "650048b6",
   "metadata": {},
   "outputs": [
    {
     "data": {
      "text/plain": [
       "{'s': 1, 'h': 2, 'a': 3, 'o': 4, 'n': 5}"
      ]
     },
     "execution_count": 23,
     "metadata": {},
     "output_type": "execute_result"
    }
   ],
   "source": [
    "#List comprehension using zip()\n",
    "keys = ['s', 'h', 'a', 'o', 'n']\n",
    "values = [1, 2, 3, 4, 5]\n",
    "my_dictionary = {key : value for key, value in zip(keys, values)}\n",
    "my_dictionary"
   ]
  },
  {
   "cell_type": "code",
   "execution_count": 24,
   "id": "5bdeae0b",
   "metadata": {},
   "outputs": [
    {
     "data": {
      "text/plain": [
       "{'s': 2, 'h': 4, 'a': 6, 'o': 8, 'n': 10}"
      ]
     },
     "execution_count": 24,
     "metadata": {},
     "output_type": "execute_result"
    }
   ],
   "source": [
    "#List comprehension by using the value of another list:\n",
    "my_dictionary_updated = {key : value * 2 for key, value in my_dictionary.items()}\n",
    "my_dictionary_updated"
   ]
  },
  {
   "cell_type": "code",
   "execution_count": 25,
   "id": "e653faa5",
   "metadata": {},
   "outputs": [
    {
     "name": "stdout",
     "output_type": "stream",
     "text": [
      "{0: 'H', 1: 'e', 2: 'l', 3: 'l', 4: 'o', 5: ' ', 6: 'P', 7: 'l', 8: 'a', 9: 'n', 10: 'e', 11: 't', 12: '!'}\n"
     ]
    }
   ],
   "source": [
    "#Converting a string into dictionary:\n",
    "text = \"Hello Planet!\"\n",
    "text_dict = {key:value for key, value in enumerate(text)}\n",
    "print(text_dict)"
   ]
  },
  {
   "cell_type": "code",
   "execution_count": 26,
   "id": "88bc737d",
   "metadata": {},
   "outputs": [
    {
     "name": "stdout",
     "output_type": "stream",
     "text": [
      "{0: 'H', 1: 'E', 2: 'L', 3: 'L', 4: 'O', 5: ' ', 6: 'P', 7: 'L', 8: 'A', 9: 'N', 10: 'E', 11: 'T', 12: '!'}\n"
     ]
    }
   ],
   "source": [
    "text = \"Hello Planet!\"\n",
    "text_dict = {key:value.upper() for key, value in enumerate(text)}\n",
    "print(text_dict)"
   ]
  },
  {
   "cell_type": "code",
   "execution_count": 27,
   "id": "c44d605a",
   "metadata": {
    "scrolled": true
   },
   "outputs": [
    {
     "name": "stdout",
     "output_type": "stream",
     "text": [
      "{'h': 'H', 'e': 'E', 'l': 'L', 'o': 'O', ' ': ' ', 'p': 'P', 'a': 'A', 'n': 'N', 't': 'T', '!': '!'}\n"
     ]
    }
   ],
   "source": [
    "#lower to upper mapping:\n",
    "text = \"Hello Planet!\"\n",
    "text_dict = {key.lower():key.upper() for key in text}\n",
    "print(text_dict)"
   ]
  },
  {
   "cell_type": "code",
   "execution_count": 28,
   "id": "4c7c60b9",
   "metadata": {},
   "outputs": [
    {
     "data": {
      "text/plain": [
       "{'world': 1, 'hello': 3, 'hi': 2}"
      ]
     },
     "execution_count": 28,
     "metadata": {},
     "output_type": "execute_result"
    }
   ],
   "source": [
    "#finding the frequencey of a word \n",
    "input_txt = \"hello hi hello world hello hi\"\n",
    "txt_list = input_txt.split(' ')\n",
    "unique_txt_list = list(set(txt_list))\n",
    "txt_count_dict = {key : txt_list.count(key) for key in unique_txt_list}\n",
    "txt_count_dict"
   ]
  },
  {
   "cell_type": "code",
   "execution_count": null,
   "id": "4a38a4f1",
   "metadata": {},
   "outputs": [],
   "source": []
  }
 ],
 "metadata": {
  "kernelspec": {
   "display_name": "Python 3 (ipykernel)",
   "language": "python",
   "name": "python3"
  },
  "language_info": {
   "codemirror_mode": {
    "name": "ipython",
    "version": 3
   },
   "file_extension": ".py",
   "mimetype": "text/x-python",
   "name": "python",
   "nbconvert_exporter": "python",
   "pygments_lexer": "ipython3",
   "version": "3.9.7"
  }
 },
 "nbformat": 4,
 "nbformat_minor": 5
}
