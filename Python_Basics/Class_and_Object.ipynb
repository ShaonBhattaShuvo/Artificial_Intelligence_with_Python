{
 "cells": [
  {
   "cell_type": "markdown",
   "id": "e774f3a4",
   "metadata": {},
   "source": [
    "# Class and Object Basics\n",
    "In Python, everything is an object, and classes provide a means to bundle data and functionality together. Creating a new class creates a new type of object, allowing new instances of that type to be made."
   ]
  },
  {
   "cell_type": "code",
   "execution_count": 1,
   "id": "d3ed307a",
   "metadata": {},
   "outputs": [],
   "source": [
    "class Vehicle:\n",
    "    pass           "
   ]
  },
  {
   "cell_type": "markdown",
   "id": "932dd899",
   "metadata": {},
   "source": [
    "#pass: If we are sketching out the structure of our code (class, functions or in control flow structure) and have not implemented a function yet, we can use pass to avoid syntax errors and allow the code to run."
   ]
  },
  {
   "cell_type": "markdown",
   "id": "c3848b3a",
   "metadata": {},
   "source": [
    "# The __init__ Method\n",
    "The __init__ method is similar to constructors in other programming languages. It is called when an object is created from the class and allows the class to initialize the attributes of the class."
   ]
  },
  {
   "cell_type": "code",
   "execution_count": 2,
   "id": "37cc1e1a",
   "metadata": {},
   "outputs": [],
   "source": [
    "#initializing a class\n",
    "class Vehicle:\n",
    "    def __init__(self, model, year):\n",
    "        self.model = model\n",
    "        self.year = year"
   ]
  },
  {
   "cell_type": "markdown",
   "id": "65c38bb6",
   "metadata": {},
   "source": [
    "#  Class and Instance Variables\n",
    "Class variables are shared across all instances of a class, while instance variables can be unique for each instance (object)."
   ]
  },
  {
   "cell_type": "markdown",
   "id": "ab860841",
   "metadata": {},
   "source": [
    "The self parameter represents the instance of the class itself. It's a convention, not a keyword in Python. self allows you to access the attributes and methods of the class in Python. It must be the first parameter of any function in the class:"
   ]
  },
  {
   "cell_type": "code",
   "execution_count": 3,
   "id": "95718be0",
   "metadata": {},
   "outputs": [],
   "source": [
    "class Vehicle:\n",
    "    ismovable = True  # Class variable (common to all object)\n",
    "\n",
    "    def __init__(self, model, year):\n",
    "        self.model = model  # Instance variable\n",
    "        self.year = year    # Instance valiable\n",
    "        "
   ]
  },
  {
   "cell_type": "markdown",
   "id": "73f3a41e",
   "metadata": {},
   "source": [
    "# Instance Methods\n",
    "Instance methods are functions defined inside a class and can be called on an instance of the class."
   ]
  },
  {
   "cell_type": "code",
   "execution_count": 4,
   "id": "744ea1ef",
   "metadata": {},
   "outputs": [],
   "source": [
    "class Vehicle:\n",
    "    ismovable = True  # Class variable (common to all object)\n",
    "\n",
    "    def __init__(self, model, year):\n",
    "        self.model = model  # Instance variable\n",
    "        self.year = year    # Instance valiable\n",
    "                \n",
    "    def info(self):\n",
    "        return f\"The model- {self.model} was produced in {self.year}\"\n",
    "    \n",
    "    def additional_info(self, city, brand):\n",
    "        return f\"{self.model} made in {city} by {brand}.\""
   ]
  },
  {
   "cell_type": "markdown",
   "id": "b7bd88f7",
   "metadata": {},
   "source": [
    "# Creating and Using Objects\n",
    "Following the previous Human class example, we can create an object (an instance of the Dog class) and interact with its attributes and methods:\n"
   ]
  },
  {
   "cell_type": "code",
   "execution_count": 5,
   "id": "6d14aa8c",
   "metadata": {},
   "outputs": [
    {
     "name": "stdout",
     "output_type": "stream",
     "text": [
      "BMW i8\n",
      "2021\n",
      "The model- BMW i8 was produced in 2021\n",
      "BMW i8 made in Germany by BMW.\n",
      "True\n"
     ]
    }
   ],
   "source": [
    "# Creating the object example\n",
    "bmw_car = Vehicle(\"BMW i8\", 2021)\n",
    "\n",
    "# Accessing object attributes\n",
    "print(bmw_car.model)  # Output: BMW i8\n",
    "print(bmw_car.year)   # Output: 2021\n",
    "\n",
    "# Calling an object method\n",
    "print(bmw_car.info())  # Output: Leo Messi is 48 years old.\n",
    "print(bmw_car.additional_info(\"Germany\", \"BMW\")) # Output: The model- BMW i8 was produced in 2021.\n",
    "\n",
    "#Calling class variable\n",
    "print(Vehicle.ismovable) # Output: True or we can call using the object: bmw_car.ismovable "
   ]
  },
  {
   "cell_type": "markdown",
   "id": "304421c8",
   "metadata": {},
   "source": [
    "# Inheritance\n",
    "Inheritance allows one class to inherit the attributes and methods of another.\n",
    "\n"
   ]
  },
  {
   "cell_type": "code",
   "execution_count": 6,
   "id": "cc820791",
   "metadata": {},
   "outputs": [],
   "source": [
    "class Car(Vehicle):\n",
    "    def additional_info(self, city=\"Germany\"):             #function overriden\n",
    "        return super().additional_info(city, \"Not given\") \n"
   ]
  },
  {
   "cell_type": "code",
   "execution_count": 7,
   "id": "e35a19fc",
   "metadata": {},
   "outputs": [
    {
     "name": "stdout",
     "output_type": "stream",
     "text": [
      "BMW i8 made in Germany by Not given.\n"
     ]
    }
   ],
   "source": [
    "car = Car(\"BMW i8\", 2024) \n",
    "print(car.additional_info()) #calling overriden function"
   ]
  },
  {
   "cell_type": "code",
   "execution_count": 8,
   "id": "0e22aa1d",
   "metadata": {},
   "outputs": [
    {
     "name": "stdout",
     "output_type": "stream",
     "text": [
      "The model- BMW i8 was produced in 2024\n"
     ]
    }
   ],
   "source": [
    "print(car.info()) #calling info() from parent class"
   ]
  },
  {
   "cell_type": "markdown",
   "id": "3f5046e1",
   "metadata": {},
   "source": [
    "# Polymorphism\n",
    "Polymorphism allows different classes to be used interchangeably, even though each class might implement the same method or attribute differently. As shown in previous overriden method in Inheritance section"
   ]
  },
  {
   "cell_type": "code",
   "execution_count": 9,
   "id": "37c5ab2e",
   "metadata": {},
   "outputs": [],
   "source": [
    "class Car(Vehicle):\n",
    "    def additional_info(self, city):             #function overriden\n",
    "        return super().additional_info(city, \"Not given\") \n",
    "\n",
    "class Bike(Vehicle):\n",
    "    def additional_info(self, brand):             #function overriden\n",
    "        return super().additional_info(\"Not Given\", brand) \n"
   ]
  },
  {
   "cell_type": "code",
   "execution_count": 10,
   "id": "e1f6274c",
   "metadata": {},
   "outputs": [
    {
     "name": "stdout",
     "output_type": "stream",
     "text": [
      "BMW i8 made in Germany by Not given.\n",
      "R15 made in Not Given by Yamaha.\n"
     ]
    }
   ],
   "source": [
    "car = Car(\"BMW i8\", 2024) \n",
    "bike = Bike(\"R15\", 2024)\n",
    "print(car.additional_info(\"Germany\")) \n",
    "print(bike.additional_info(\"Yamaha\"))\n"
   ]
  },
  {
   "cell_type": "markdown",
   "id": "88993d5e",
   "metadata": {},
   "source": [
    "# Multiple Inheritance\n",
    "Python supports multiple inheritance, where a class can be derived from more than one base class. This feature can be powerful but should be used with caution to avoid the complexity and ambiguity it can introduce."
   ]
  },
  {
   "cell_type": "code",
   "execution_count": 11,
   "id": "52148405",
   "metadata": {},
   "outputs": [
    {
     "name": "stdout",
     "output_type": "stream",
     "text": [
      "I enjoy gardening\n",
      "I love cooking\n",
      "I enjoy sports\n"
     ]
    }
   ],
   "source": [
    "class Father:\n",
    "    def gardening(self):\n",
    "        print(\"I enjoy gardening\")\n",
    "\n",
    "class Mother:\n",
    "    def cooking(self):\n",
    "        print(\"I love cooking\")\n",
    "\n",
    "class Child(Father, Mother):\n",
    "    def sports(self):\n",
    "        print(\"I enjoy sports\")\n",
    "\n",
    "child = Child()\n",
    "child.gardening()\n",
    "child.cooking()\n",
    "child.sports()\n"
   ]
  },
  {
   "cell_type": "markdown",
   "id": "877b6307",
   "metadata": {},
   "source": [
    "# Method Resolution Order (MRO)\n",
    "Method Resolution Order (MRO) is the order in which Python looks for a method in a hierarchy of classes. It becomes especially important in the context of multiple inheritance as it defines the order in which base classes are searched when executing a method.\n",
    "\n",
    "We can inspect the MRO of a class using the __mro__ attribute or the mro() method.\n",
    "\n"
   ]
  },
  {
   "cell_type": "code",
   "execution_count": 12,
   "id": "71d17535",
   "metadata": {},
   "outputs": [
    {
     "name": "stdout",
     "output_type": "stream",
     "text": [
      "(<class '__main__.Child'>, <class '__main__.Father'>, <class '__main__.Mother'>, <class 'object'>)\n"
     ]
    }
   ],
   "source": [
    "print(Child.__mro__)"
   ]
  },
  {
   "cell_type": "markdown",
   "id": "377c682c",
   "metadata": {},
   "source": [
    "# Abstract Base Classes (ABCs)\n",
    "Abstract Base Classes are a form of interface checking more strict than duck typing. They allow to define methods that must be implemented by any concrete subclass, ensuring that subclasses adhere to a particular protocol."
   ]
  },
  {
   "cell_type": "code",
   "execution_count": 13,
   "id": "3ebbaadd",
   "metadata": {},
   "outputs": [],
   "source": [
    "from abc import ABC, abstractmethod\n",
    "\n",
    "class Animal(ABC):\n",
    "    @abstractmethod\n",
    "    def speak(self):\n",
    "        pass\n",
    "\n",
    "class Dog(Animal):\n",
    "    def speak(self):\n",
    "        return \"Woof!\""
   ]
  },
  {
   "cell_type": "markdown",
   "id": "142f6135",
   "metadata": {},
   "source": [
    "# Class Composition\n",
    "Instead of inheritance, classes can also be composed. Composition involves constructing classes that use instances of other classes in their instance variables. This is often considered more flexible than inheritance."
   ]
  },
  {
   "cell_type": "code",
   "execution_count": 14,
   "id": "eec6e94e",
   "metadata": {},
   "outputs": [
    {
     "name": "stdout",
     "output_type": "stream",
     "text": [
      "Engine starting\n",
      "Engine stopping\n"
     ]
    }
   ],
   "source": [
    "class Engine:\n",
    "    def start(self):\n",
    "        print(\"Engine starting\")\n",
    "\n",
    "    def stop(self):\n",
    "        print(\"Engine stopping\")\n",
    "\n",
    "class Car:\n",
    "    def __init__(self):\n",
    "        self.engine = Engine()  # Composition\n",
    "\n",
    "    def start(self):\n",
    "        self.engine.start()  # Delegation\n",
    "\n",
    "    def stop(self):\n",
    "        self.engine.stop()\n",
    "\n",
    "# Usage\n",
    "car = Car()\n",
    "car.start()  # Engine starting\n",
    "car.stop()  # Engine stopping"
   ]
  },
  {
   "cell_type": "markdown",
   "id": "afd315fa",
   "metadata": {},
   "source": [
    "# Encapsulation\n",
    "Encapsulation is the bundling of data and the methods that act on that data.\n",
    "\n"
   ]
  },
  {
   "cell_type": "code",
   "execution_count": 15,
   "id": "d10803a9",
   "metadata": {},
   "outputs": [],
   "source": [
    "class Vehicle:\n",
    "    def __init__(self, model, year):\n",
    "        self.model = model\n",
    "        self.year = year\n",
    "\n",
    "    def get_model(self):\n",
    "        return self.model\n",
    "\n",
    "    def set_model(self, value):\n",
    "        self.model = value\n",
    "# similarly we can write getter and setter for 'year' as well"
   ]
  },
  {
   "cell_type": "markdown",
   "id": "9972ed86",
   "metadata": {},
   "source": [
    "# Private Attributes and Methods\n",
    "Private attributes and methods in Python are denoted by the prefix of two underscores __. They are meant to be non-accessible from outside the class and to be used within the class only. This encapsulation concept is fundamental in object-oriented programming to avoid unintended interference and misuse of the internal mechanisms of the class.\n",
    "\n",
    "\n"
   ]
  },
  {
   "cell_type": "code",
   "execution_count": 16,
   "id": "a184ed8a",
   "metadata": {},
   "outputs": [
    {
     "name": "stdout",
     "output_type": "stream",
     "text": [
      "Tesla Model S\n"
     ]
    }
   ],
   "source": [
    "class Vehicle:\n",
    "    def __init__(self, make, model):\n",
    "        self.__make = make  # Private attribute\n",
    "        self.__model = model  # Private attribute\n",
    "\n",
    "    def __get_vehicle_info(self):  # Private method\n",
    "        return f\"{self.__make} {self.__model}\"\n",
    "\n",
    "    def public_method(self):\n",
    "        # Public method that accesses a private method\n",
    "        return self.__get_vehicle_info()\n",
    "\n",
    "car = Vehicle(\"Tesla\", \"Model S\")\n",
    "\n",
    "# Accessing a private method or attribute from outside the class would result in an AttributeError:\n",
    "# print(car.__make)  # AttributeError\n",
    "\n",
    "# Correct way to access private information\n",
    "print(car.public_method())  # Outputs \"Tesla Model S\"\n"
   ]
  },
  {
   "cell_type": "markdown",
   "id": "8ce78f6e",
   "metadata": {},
   "source": [
    "# Single Underscore Methods\n",
    "A single underscore prefix in Python (e.g., _method()) is a convention to indicate that a method or attribute is intended for internal use or is considered private. However, unlike the double underscore, this is merely a convention and does not prevent access from outside the class:\n",
    "\n"
   ]
  },
  {
   "cell_type": "code",
   "execution_count": 17,
   "id": "4e6db54a",
   "metadata": {},
   "outputs": [
    {
     "name": "stdout",
     "output_type": "stream",
     "text": [
      "Mustang\n"
     ]
    }
   ],
   "source": [
    "class Vehicle:\n",
    "    def __init__(self, make, model):\n",
    "        self.make = make\n",
    "        self._model = model  # Intended for internal use\n",
    "\n",
    "    def _get_model(self):  # Intended for internal use\n",
    "        return self._model\n",
    "\n",
    "car = Vehicle(\"Ford\", \"Mustang\")\n",
    "print(car._get_model())  # It works but is considered bad practice to access directly\n"
   ]
  },
  {
   "cell_type": "markdown",
   "id": "c958020b",
   "metadata": {},
   "source": [
    "# Special methods (str, repr)\n",
    "Also known as \"magic methods,\" are surrounded by double underscores and allow you to define certain behaviors within your classes. These methods enable operator overloading, provide ways to emulate the behavior of built-in types, and allow classes to interact with built-in Python operations.\n",
    "\n",
    "* The __str__ and __repr__ methods are two commonly used special methods for representing objects as strings:\n",
    "\n",
    "    - __str__(self): Meant to return a readable, informal string representation of an object, and is used by the built-in str() function and print.\n",
    "    - __repr__(self): Intended to return an unambiguous string representation of an object that could be used to recreate the object, and is used by the built-in repr() function."
   ]
  },
  {
   "cell_type": "code",
   "execution_count": 18,
   "id": "28e32ee2",
   "metadata": {},
   "outputs": [
    {
     "name": "stdout",
     "output_type": "stream",
     "text": [
      "2020 Honda Civic\n",
      "2020 Honda Civic\n",
      "Vehicle('Honda', 'Civic', 2020)\n"
     ]
    }
   ],
   "source": [
    "class Vehicle:\n",
    "    def __init__(self, make, model, year):\n",
    "        self.make = make\n",
    "        self.model = model\n",
    "        self.year = year\n",
    "\n",
    "    def __str__(self):\n",
    "        return f\"{self.year} {self.make} {self.model}\"\n",
    "\n",
    "    def __repr__(self):\n",
    "        return f\"Vehicle('{self.make}', '{self.model}', {self.year})\"\n",
    "\n",
    "# Creating an instance of Vehicle\n",
    "car = Vehicle(\"Honda\", \"Civic\", 2020)\n",
    "\n",
    "# __str__ is used when we print the object or convert it to a string\n",
    "print(car)  # Output: 2020 Honda Civic\n",
    "print(str(car))  # Output: 2020 Honda Civic\n",
    "\n",
    "# __repr__ is used in the interactive interpreter and for debugging\n",
    "print(repr(car))  # Output: Vehicle('Honda', 'Civic', 2020)\n"
   ]
  },
  {
   "cell_type": "markdown",
   "id": "64501268",
   "metadata": {},
   "source": [
    "# Class Methods and Static Methods\n",
    "* Class methods take cls as the first parameter and can access class variables but not instance variables. \n",
    "    - A class method receives the class as an implicit first argument, just like an instance method receives the instance. \n",
    "    - It's defined using the @classmethod decorator. Class methods are often used as factory methods that can create class instances or methods that operate on class-level data.\n",
    "* Static methods don't take self or cls as the first parameter and don't have access to class or instance \n",
    "variables.\n",
    "    - A static method doesn't receive an implicit first argument (neither self nor cls). \n",
    "    - It's defined using the @staticmethod decorator. Static methods can neither access nor modify the class state or instance state. They are utility functions at the class level and are restricted in what data they can access."
   ]
  },
  {
   "cell_type": "code",
   "execution_count": 19,
   "id": "5c403930",
   "metadata": {},
   "outputs": [
    {
     "name": "stdout",
     "output_type": "stream",
     "text": [
      "This is a Harley-Davidson Street 750\n",
      "True\n",
      "False\n",
      "Vroom!\n"
     ]
    }
   ],
   "source": [
    "class Vehicle:\n",
    "    base_sale_price = 0\n",
    "    wheels = 0\n",
    "\n",
    "    def __init__(self, make, model):\n",
    "        self.make = make\n",
    "        self.model = model\n",
    "\n",
    "    def vehicle_type(self):\n",
    "        return f\"This is a {self.make} {self.model}\"\n",
    "\n",
    "    @classmethod\n",
    "    def is_motorcycle(cls):\n",
    "        return cls.wheels == 2\n",
    "\n",
    "    @staticmethod\n",
    "    def make_sound():\n",
    "        return \"Vroom!\"\n",
    "\n",
    "# Creating a subclass to demonstrate the class method\n",
    "class Motorcycle(Vehicle):\n",
    "    wheels = 2\n",
    "    base_sale_price = 1000\n",
    "\n",
    "# Creating a subclass to demonstrate no specific class or static method usage\n",
    "class Car(Vehicle):\n",
    "    wheels = 4\n",
    "    base_sale_price = 5000\n",
    "\n",
    "# Demonstrating the use of class method and static method\n",
    "bike = Motorcycle('Harley-Davidson', 'Street 750')\n",
    "car = Car('Toyota', 'Corolla')\n",
    "\n",
    "print(bike.vehicle_type())  # Instance method call\n",
    "print(Motorcycle.is_motorcycle())  # Class method call, expected to return True\n",
    "print(Car.is_motorcycle())  # Class method call, expected to return False\n",
    "print(Vehicle.make_sound())  # Static method call\n"
   ]
  },
  {
   "cell_type": "markdown",
   "id": "4b95aac4",
   "metadata": {},
   "source": [
    "# Property Decorators\n",
    "The property decorator allows you to define methods in a class that can be accessed like attributes. This can be particularly useful when you need to add behavior (like validation) to getting or setting a value."
   ]
  },
  {
   "cell_type": "code",
   "execution_count": 20,
   "id": "8b34d296",
   "metadata": {},
   "outputs": [
    {
     "name": "stdout",
     "output_type": "stream",
     "text": [
      "78.53975\n",
      "314.159\n"
     ]
    }
   ],
   "source": [
    "class Circle:\n",
    "    def __init__(self, radius):\n",
    "        self._radius = radius\n",
    "\n",
    "    @property\n",
    "    def radius(self):\n",
    "        return self._radius\n",
    "\n",
    "    @radius.setter\n",
    "    def radius(self, value):\n",
    "        if value >= 0:\n",
    "            self._radius = value\n",
    "        else:\n",
    "            raise ValueError(\"Radius cannot be negative\")\n",
    "\n",
    "    @property\n",
    "    def area(self):\n",
    "        return 3.14159 * self._radius ** 2\n",
    "\n",
    "# Usage\n",
    "circle = Circle(5)\n",
    "print(circle.area)  # 78.53975 without needing to call it like a method\n",
    "\n",
    "# Radius can be updated, and it updates the area accordingly\n",
    "circle.radius = 10\n",
    "print(circle.area)  # 314.159\n",
    "\n",
    "# Trying to set a negative radius will raise an error\n",
    "# circle.radius = -10  # ValueError: Radius cannot be negative\n"
   ]
  },
  {
   "cell_type": "markdown",
   "id": "129dd2e8",
   "metadata": {},
   "source": [
    "# Slots\n",
    "The __slots__ declaration in Python classes is used to allocate space for a fixed set of attributes, avoiding the use of a dynamic dictionary. This can lead to significant memory savings for programs that create many instances of a class."
   ]
  },
  {
   "cell_type": "code",
   "execution_count": 21,
   "id": "9924bf8f",
   "metadata": {},
   "outputs": [
    {
     "name": "stdout",
     "output_type": "stream",
     "text": [
      "2 3\n"
     ]
    }
   ],
   "source": [
    "class Point:\n",
    "    __slots__ = ['x', 'y']\n",
    "\n",
    "    def __init__(self, x, y):\n",
    "        self.x = x\n",
    "        self.y = y\n",
    "\n",
    "# Usage\n",
    "point = Point(2, 3)\n",
    "print(point.x, point.y)  # 2 3\n",
    "\n",
    "# Attempting to add new attributes will raise an error\n",
    "# point.z = 5  # AttributeError: 'Point' object has no attribute 'z'\n"
   ]
  },
  {
   "cell_type": "code",
   "execution_count": null,
   "id": "60c6a35c",
   "metadata": {},
   "outputs": [],
   "source": []
  }
 ],
 "metadata": {
  "kernelspec": {
   "display_name": "Python 3 (ipykernel)",
   "language": "python",
   "name": "python3"
  },
  "language_info": {
   "codemirror_mode": {
    "name": "ipython",
    "version": 3
   },
   "file_extension": ".py",
   "mimetype": "text/x-python",
   "name": "python",
   "nbconvert_exporter": "python",
   "pygments_lexer": "ipython3",
   "version": "3.9.7"
  }
 },
 "nbformat": 4,
 "nbformat_minor": 5
}
