{
 "cells": [
  {
   "cell_type": "markdown",
   "id": "a6b435c8",
   "metadata": {},
   "source": [
    "# NumPy \n",
    "Stands for Numerical Python, is a fundamental package for high-performance scientific computing and data analysis in Python. It provides a powerful N-dimensional array object, sophisticated functions, tools for integrating C/C++ and Fortran code, and useful linear algebra, Fourier transform, and random number capabilities."
   ]
  },
  {
   "cell_type": "markdown",
   "id": "8e7e0403",
   "metadata": {},
   "source": [
    "# Array Creation\n",
    "Numpy arrays provide a fast and memory-efficient alternative to Python lists. However, the array must be homogeneous (all elements to be of the same data type), while lists can hold elements of varying types.\n",
    "\n",
    "Arrays in NumPy can be created in multiple ways:"
   ]
  },
  {
   "cell_type": "code",
   "execution_count": 1,
   "id": "c33e53c2",
   "metadata": {},
   "outputs": [
    {
     "data": {
      "text/plain": [
       "(array([10, 20, 30]),\n",
       " array([[1, 2, 3],\n",
       "        [4, 5, 6]]))"
      ]
     },
     "execution_count": 1,
     "metadata": {},
     "output_type": "execute_result"
    }
   ],
   "source": [
    "# From Python Lists\n",
    "\n",
    "import numpy as np\n",
    "\n",
    "a = np.array([10 ,20, 30]) #Creating one-dimenational array\n",
    "\n",
    "b = np.array([[1, 2, 3], [4, 5, 6]]) #creating a two-dimentaional array\n",
    "\n",
    "a,b"
   ]
  },
  {
   "cell_type": "code",
   "execution_count": 2,
   "id": "f4a0fd63",
   "metadata": {},
   "outputs": [],
   "source": [
    "# Using builin funcitons\n",
    "\n",
    "zeros = np.zeros((2, 3)) #creating an arry of zeros: array([[0., 0., 0.], [0., 0., 0.]])\n",
    "\n",
    "ones = np.ones((2, 1)) #Creating an array of 1 ones: array([[1.], [1.]])\n",
    "\n",
    "range_array = np.arange(10) #Creating array with range of elements (excluded): array([0, 1, 2, 3, 4, 5, 6, 7, 8, 9])\n",
    "\n",
    "identity_matrix = np.eye((3)) #Creating an identity matrix:  array([[1., 0., 0.], [0., 1., 0.], [0., 0., 1.]])\n"
   ]
  },
  {
   "cell_type": "code",
   "execution_count": 3,
   "id": "cc84c9b2",
   "metadata": {},
   "outputs": [
    {
     "data": {
      "text/plain": [
       "array([[7, 7],\n",
       "       [7, 7]])"
      ]
     },
     "execution_count": 3,
     "metadata": {},
     "output_type": "execute_result"
    }
   ],
   "source": [
    "# Create an array filled with a constant value\n",
    "np.full((2, 2), 7)"
   ]
  },
  {
   "cell_type": "code",
   "execution_count": 4,
   "id": "5c054bf6",
   "metadata": {},
   "outputs": [
    {
     "data": {
      "text/plain": [
       "array([0.  , 0.25, 0.5 , 0.75, 1.  ])"
      ]
     },
     "execution_count": 4,
     "metadata": {},
     "output_type": "execute_result"
    }
   ],
   "source": [
    "# Create an array with evenly spaced elements within a given interval\n",
    "np.linspace(0, 1, num=5)"
   ]
  },
  {
   "cell_type": "code",
   "execution_count": 5,
   "id": "63420fea",
   "metadata": {},
   "outputs": [
    {
     "name": "stdout",
     "output_type": "stream",
     "text": [
      "[2, 4, 6]\n"
     ]
    }
   ],
   "source": [
    "#Creating array with custom range and steps\n",
    "range_array_custom = np.arange(2, 8, 2) \n",
    "print(list(range_array_custom)) # Arrays can easiby be converted to a list"
   ]
  },
  {
   "cell_type": "markdown",
   "id": "e661b0d4",
   "metadata": {},
   "source": [
    "# Array Attributes\n",
    "Key attributes of NumPy arrays include shape, size, and dtype:"
   ]
  },
  {
   "cell_type": "code",
   "execution_count": 6,
   "id": "45f41ea0",
   "metadata": {},
   "outputs": [
    {
     "name": "stdout",
     "output_type": "stream",
     "text": [
      "2\n",
      "(2, 3)\n",
      "6\n",
      "int64\n"
     ]
    }
   ],
   "source": [
    "a = np.array([[1, 2, 3], [4, 5, 6]])\n",
    "\n",
    "# Number of array dimensions\n",
    "print(a.ndim)\n",
    "\n",
    "# Tuple of array dimensions\n",
    "print(a.shape)\n",
    "\n",
    "# Total number of elements in the array\n",
    "print(a.size)\n",
    "\n",
    "# Data type of the array elements\n",
    "print(a.dtype)\n"
   ]
  },
  {
   "cell_type": "markdown",
   "id": "b8c06f3b",
   "metadata": {},
   "source": [
    "# Array Manipulation using methods\n",
    "These methods change the shape, size, or elements of an array."
   ]
  },
  {
   "cell_type": "code",
   "execution_count": 7,
   "id": "0d97a627",
   "metadata": {},
   "outputs": [
    {
     "data": {
      "text/plain": [
       "array([[0, 1],\n",
       "       [2, 3],\n",
       "       [4, 5]])"
      ]
     },
     "execution_count": 7,
     "metadata": {},
     "output_type": "execute_result"
    }
   ],
   "source": [
    "# Reshape an array\n",
    "np.arange(6).reshape((3, 2))"
   ]
  },
  {
   "cell_type": "code",
   "execution_count": 8,
   "id": "0f59d523",
   "metadata": {},
   "outputs": [
    {
     "data": {
      "text/plain": [
       "array([1, 2, 3, 4])"
      ]
     },
     "execution_count": 8,
     "metadata": {},
     "output_type": "execute_result"
    }
   ],
   "source": [
    "# Flatten an array\n",
    "np.array([[1, 2], [3, 4]]).flatten()"
   ]
  },
  {
   "cell_type": "code",
   "execution_count": 9,
   "id": "a6f4b29e",
   "metadata": {},
   "outputs": [
    {
     "data": {
      "text/plain": [
       "array([1, 2, 3, 4])"
      ]
     },
     "execution_count": 9,
     "metadata": {},
     "output_type": "execute_result"
    }
   ],
   "source": [
    "# Concatenate arrays\n",
    "np.concatenate([np.array([1, 2]), np.array([3, 4])])"
   ]
  },
  {
   "cell_type": "code",
   "execution_count": 10,
   "id": "a8c4d926",
   "metadata": {},
   "outputs": [
    {
     "data": {
      "text/plain": [
       "[array([1, 2]), array([3, 4])]"
      ]
     },
     "execution_count": 10,
     "metadata": {},
     "output_type": "execute_result"
    }
   ],
   "source": [
    "# Split an array\n",
    "np.split(np.array([1, 2, 3, 4]), 2)"
   ]
  },
  {
   "cell_type": "code",
   "execution_count": 11,
   "id": "c561b3a6",
   "metadata": {},
   "outputs": [
    {
     "data": {
      "text/plain": [
       "array([[1, 2]])"
      ]
     },
     "execution_count": 11,
     "metadata": {},
     "output_type": "execute_result"
    }
   ],
   "source": [
    "# Add a new axis\n",
    "np.expand_dims(np.array([1, 2]), axis=0)"
   ]
  },
  {
   "cell_type": "code",
   "execution_count": 12,
   "id": "6ba68133",
   "metadata": {},
   "outputs": [
    {
     "data": {
      "text/plain": [
       "(array([3, 4, 5]),\n",
       " array([[3],\n",
       "        [4],\n",
       "        [5]]))"
      ]
     },
     "execution_count": 12,
     "metadata": {},
     "output_type": "execute_result"
    }
   ],
   "source": [
    "arr = np.array([3, 4, 5])\n",
    "\n",
    "# Add a new axis at the end (transforming it into a column vector)\n",
    "expanded_arr = np.expand_dims(arr, axis=1)\n",
    "arr, expanded_arr"
   ]
  },
  {
   "cell_type": "code",
   "execution_count": 13,
   "id": "30ed6504",
   "metadata": {},
   "outputs": [
    {
     "data": {
      "text/plain": [
       "((1, 2, 3),\n",
       " array([[[1, 2, 3],\n",
       "         [4, 5, 6]]]))"
      ]
     },
     "execution_count": 13,
     "metadata": {},
     "output_type": "execute_result"
    }
   ],
   "source": [
    "arr_2d = np.array([[1, 2, 3], [4, 5, 6]])\n",
    "\n",
    "# Add a new axis, effectively turning the matrix into a 3D array\n",
    "expanded_arr_2d = np.expand_dims(arr_2d, axis=0)\n",
    "\n",
    "expanded_arr_2d.shape, expanded_arr_2d"
   ]
  },
  {
   "cell_type": "markdown",
   "id": "f4a12bdd",
   "metadata": {},
   "source": [
    "# Indexing and Slicing \n",
    "Arrays can be indexed and sliced using square brackets []:"
   ]
  },
  {
   "cell_type": "code",
   "execution_count": 14,
   "id": "11e88927",
   "metadata": {},
   "outputs": [
    {
     "name": "stdout",
     "output_type": "stream",
     "text": [
      "2\n",
      "[4 5 6]\n",
      "5\n"
     ]
    }
   ],
   "source": [
    "a = np.array([[1, 2, 3], [4, 5, 6]])\n",
    "\n",
    "# Accessing an element\n",
    "print(a[0, 1])  # Output: 2\n",
    "\n",
    "# Slicing a subarray\n",
    "print(a[1, :])  # Output: [4 5 6]\n",
    "\n",
    "# Using negative indices\n",
    "print(a[-1, -2])  # Output: 5"
   ]
  },
  {
   "cell_type": "markdown",
   "id": "c1f848a3",
   "metadata": {},
   "source": [
    "# Array Operations\n",
    "Arrays support various arithmetic operations, which are applied element-wise:"
   ]
  },
  {
   "cell_type": "code",
   "execution_count": 15,
   "id": "8ae40422",
   "metadata": {},
   "outputs": [
    {
     "data": {
      "text/plain": [
       "array([[ 6,  8],\n",
       "       [10, 12]])"
      ]
     },
     "execution_count": 15,
     "metadata": {},
     "output_type": "execute_result"
    }
   ],
   "source": [
    "x = np.array([[1, 2], [3, 4]])\n",
    "y = np.array([[5, 6], [7, 8]])\n",
    "\n",
    "# Element-wise addition\n",
    "x + y"
   ]
  },
  {
   "cell_type": "code",
   "execution_count": 16,
   "id": "1501a5a2",
   "metadata": {},
   "outputs": [
    {
     "data": {
      "text/plain": [
       "array([[ 5, 12],\n",
       "       [21, 32]])"
      ]
     },
     "execution_count": 16,
     "metadata": {},
     "output_type": "execute_result"
    }
   ],
   "source": [
    "# Element-wise multiplication\n",
    "x * y"
   ]
  },
  {
   "cell_type": "markdown",
   "id": "a1bf3bfa",
   "metadata": {},
   "source": [
    "# Broadcasting:\n",
    "\n",
    "Broadcasting allows NumPy to work with arrays of different shapes when performing arithmetic operations:"
   ]
  },
  {
   "cell_type": "code",
   "execution_count": 17,
   "id": "34cf6292",
   "metadata": {},
   "outputs": [
    {
     "data": {
      "text/plain": [
       "array([[3, 4],\n",
       "       [5, 6]])"
      ]
     },
     "execution_count": 17,
     "metadata": {},
     "output_type": "execute_result"
    }
   ],
   "source": [
    "x = np.array([[1, 2], [3, 4]])\n",
    "\n",
    "# Add a scalar to an array\n",
    "x + 2"
   ]
  },
  {
   "cell_type": "code",
   "execution_count": 18,
   "id": "34197f17",
   "metadata": {},
   "outputs": [
    {
     "data": {
      "text/plain": [
       "array([[2, 4],\n",
       "       [6, 8]])"
      ]
     },
     "execution_count": 18,
     "metadata": {},
     "output_type": "execute_result"
    }
   ],
   "source": [
    "# Multiply an array by a scalar\n",
    "x * 2\n"
   ]
  },
  {
   "cell_type": "markdown",
   "id": "24f99c39",
   "metadata": {},
   "source": [
    "# Vectorization: \n",
    "Vectorization enables operations to be performed on arrays without explicit loops, which improves performance:"
   ]
  },
  {
   "cell_type": "code",
   "execution_count": 19,
   "id": "8de99bdf",
   "metadata": {},
   "outputs": [
    {
     "data": {
      "text/plain": [
       "array([[ 0.84147098,  0.90929743],\n",
       "       [ 0.14112001, -0.7568025 ]])"
      ]
     },
     "execution_count": 19,
     "metadata": {},
     "output_type": "execute_result"
    }
   ],
   "source": [
    "# Calculate the sine of each element\n",
    "np.sin(x)"
   ]
  },
  {
   "cell_type": "markdown",
   "id": "455660d5",
   "metadata": {},
   "source": [
    "# Advanced Features"
   ]
  },
  {
   "cell_type": "markdown",
   "id": "20af6e64",
   "metadata": {},
   "source": [
    "# Logic Functions\n",
    "These functions apply element-wise logic operations:"
   ]
  },
  {
   "cell_type": "code",
   "execution_count": 20,
   "id": "e8e1c3bf",
   "metadata": {},
   "outputs": [
    {
     "data": {
      "text/plain": [
       "array([ True,  True])"
      ]
     },
     "execution_count": 20,
     "metadata": {},
     "output_type": "execute_result"
    }
   ],
   "source": [
    "# Element-wise OR\n",
    "np.logical_or(np.array([True, False]), np.array([False, True]))"
   ]
  },
  {
   "cell_type": "code",
   "execution_count": 21,
   "id": "ed74755b",
   "metadata": {},
   "outputs": [
    {
     "data": {
      "text/plain": [
       "array([False, False])"
      ]
     },
     "execution_count": 21,
     "metadata": {},
     "output_type": "execute_result"
    }
   ],
   "source": [
    "# Element-wise AND\n",
    "np.logical_and(np.array([True, False]), np.array([False, True]))"
   ]
  },
  {
   "cell_type": "markdown",
   "id": "16282184",
   "metadata": {},
   "source": [
    "# I/O\n",
    "NumPy also provides methods to save and load arrays to and from disk."
   ]
  },
  {
   "cell_type": "code",
   "execution_count": 22,
   "id": "ccb21046",
   "metadata": {},
   "outputs": [
    {
     "data": {
      "text/plain": [
       "array([1, 2, 3])"
      ]
     },
     "execution_count": 22,
     "metadata": {},
     "output_type": "execute_result"
    }
   ],
   "source": [
    "# Save an array to a binary file in NumPy .npy format\n",
    "np.save('my_array', np.array([1, 2, 3]))\n",
    "\n",
    "# Load an array from a .npy file\n",
    "np.load('my_array.npy')"
   ]
  },
  {
   "cell_type": "markdown",
   "id": "2aba7bfd",
   "metadata": {},
   "source": [
    "# Mathematical Functions\n",
    "NumPy provides a comprehensive set of mathematical functions to perform element-wise calculations, linear algebra, etc."
   ]
  },
  {
   "cell_type": "code",
   "execution_count": 23,
   "id": "8e51b868",
   "metadata": {},
   "outputs": [
    {
     "data": {
      "text/plain": [
       "array([4, 6])"
      ]
     },
     "execution_count": 23,
     "metadata": {},
     "output_type": "execute_result"
    }
   ],
   "source": [
    "# Element-wise addition\n",
    "np.add(np.array([1, 2]), np.array([3, 4]))"
   ]
  },
  {
   "cell_type": "code",
   "execution_count": 24,
   "id": "fdd07d3f",
   "metadata": {},
   "outputs": [
    {
     "data": {
      "text/plain": [
       "array([[19, 22],\n",
       "       [43, 50]])"
      ]
     },
     "execution_count": 24,
     "metadata": {},
     "output_type": "execute_result"
    }
   ],
   "source": [
    "# Matrix multiplication\n",
    "np.dot(np.array([[1, 2], [3, 4]]), np.array([[5, 6], [7, 8]]))"
   ]
  },
  {
   "cell_type": "code",
   "execution_count": 25,
   "id": "3830755c",
   "metadata": {},
   "outputs": [
    {
     "data": {
      "text/plain": [
       "array([ 2.71828183,  7.3890561 , 20.08553692])"
      ]
     },
     "execution_count": 25,
     "metadata": {},
     "output_type": "execute_result"
    }
   ],
   "source": [
    "# Element-wise Exponential\n",
    "np.exp(np.array([1, 2, 3]))"
   ]
  },
  {
   "cell_type": "code",
   "execution_count": 26,
   "id": "2c0933bc",
   "metadata": {},
   "outputs": [
    {
     "data": {
      "text/plain": [
       "array([0.0000000e+00, 1.0000000e+00, 1.2246468e-16])"
      ]
     },
     "execution_count": 26,
     "metadata": {},
     "output_type": "execute_result"
    }
   ],
   "source": [
    "# Element-wise Sine function\n",
    "np.sin(np.array([0, np.pi/2, np.pi]))"
   ]
  },
  {
   "cell_type": "markdown",
   "id": "e7922846",
   "metadata": {},
   "source": [
    "# Linear Algebra: \n",
    "NumPy provides a set of functions for linear algebra:"
   ]
  },
  {
   "cell_type": "code",
   "execution_count": 27,
   "id": "e864812a",
   "metadata": {},
   "outputs": [
    {
     "name": "stdout",
     "output_type": "stream",
     "text": [
      "[[19 22]\n",
      " [43 50]]\n"
     ]
    }
   ],
   "source": [
    "x = np.array([[1, 2], [3, 4]])\n",
    "y = np.array([[5, 6], [7, 8]])\n",
    "\n",
    "#Dot prdouct calculation\n",
    "print(np.dot(x,y))"
   ]
  },
  {
   "cell_type": "code",
   "execution_count": 28,
   "id": "74339644",
   "metadata": {},
   "outputs": [
    {
     "data": {
      "text/plain": [
       "array([[19, 22],\n",
       "       [43, 50]])"
      ]
     },
     "execution_count": 28,
     "metadata": {},
     "output_type": "execute_result"
    }
   ],
   "source": [
    "#Matrix multiplication\n",
    "np.matmul(x,y)"
   ]
  },
  {
   "cell_type": "code",
   "execution_count": 29,
   "id": "ce271235",
   "metadata": {},
   "outputs": [
    {
     "data": {
      "text/plain": [
       "-2.0000000000000004"
      ]
     },
     "execution_count": 29,
     "metadata": {},
     "output_type": "execute_result"
    }
   ],
   "source": [
    "#Finding determinent\n",
    "np.linalg.det(x)"
   ]
  },
  {
   "cell_type": "code",
   "execution_count": 30,
   "id": "2a8a9a01",
   "metadata": {},
   "outputs": [
    {
     "data": {
      "text/plain": [
       "(array([-0.37228132,  5.37228132]),\n",
       " array([[-0.82456484, -0.41597356],\n",
       "        [ 0.56576746, -0.90937671]]))"
      ]
     },
     "execution_count": 30,
     "metadata": {},
     "output_type": "execute_result"
    }
   ],
   "source": [
    "# Eigenvalues and eigenvectors\n",
    "np.linalg.eig(np.array([[1, 2], [3, 4]]))"
   ]
  },
  {
   "cell_type": "code",
   "execution_count": 31,
   "id": "92ffbdd5",
   "metadata": {},
   "outputs": [
    {
     "data": {
      "text/plain": [
       "array([[-2. ,  1. ],\n",
       "       [ 1.5, -0.5]])"
      ]
     },
     "execution_count": 31,
     "metadata": {},
     "output_type": "execute_result"
    }
   ],
   "source": [
    "# Inverse of a matrix\n",
    "np.linalg.inv(np.array([[1, 2], [3, 4]]))"
   ]
  },
  {
   "cell_type": "markdown",
   "id": "d6f00d32",
   "metadata": {},
   "source": [
    "# Statistical Methods\n",
    "Common statistical calculations can be performed with NumPy:"
   ]
  },
  {
   "cell_type": "code",
   "execution_count": 32,
   "id": "d3836e2d",
   "metadata": {},
   "outputs": [
    {
     "name": "stdout",
     "output_type": "stream",
     "text": [
      "2.5\n",
      "1.118033988749895\n",
      "2.5\n",
      "10\n"
     ]
    }
   ],
   "source": [
    "# Mean\n",
    "print(np.mean(x))\n",
    "\n",
    "# Standard deviation\n",
    "print(np.std(x))\n",
    "\n",
    "# Median\n",
    "print(np.median(x))\n",
    "\n",
    "# Sum\n",
    "print(np.sum(x))"
   ]
  },
  {
   "cell_type": "markdown",
   "id": "ba7d9089",
   "metadata": {},
   "source": [
    "# Boolean Indexing\n",
    "Arrays can be indexed with boolean expressions:"
   ]
  },
  {
   "cell_type": "code",
   "execution_count": 33,
   "id": "e80b38bc",
   "metadata": {},
   "outputs": [
    {
     "data": {
      "text/plain": [
       "(array([15, 21,  5]), array([21, 30, 40, 60]))"
      ]
     },
     "execution_count": 33,
     "metadata": {},
     "output_type": "execute_result"
    }
   ],
   "source": [
    "a = np.array([15, 21, 30, 40, 5, 60])\n",
    "\n",
    "odds = a[a%2 == 1] #Finding odd elements\n",
    "\n",
    "greater = a[a>20] #Finding elements greater than 20\n",
    "odds, greater"
   ]
  },
  {
   "cell_type": "markdown",
   "id": "621dd5f7",
   "metadata": {},
   "source": [
    "# Reshaping and Transposing\n",
    "Changing the shape and orientation of arrays is commonly needed but does not effect the actual array:\n"
   ]
  },
  {
   "cell_type": "code",
   "execution_count": 34,
   "id": "09ae3593",
   "metadata": {},
   "outputs": [
    {
     "data": {
      "text/plain": [
       "array([[15],\n",
       "       [21],\n",
       "       [30],\n",
       "       [40],\n",
       "       [ 5],\n",
       "       [60]])"
      ]
     },
     "execution_count": 34,
     "metadata": {},
     "output_type": "execute_result"
    }
   ],
   "source": [
    "a = np.array([[15, 21, 30],[40, 5, 60]])\n",
    "\n",
    "# Reshape to convert as a column (total size, 1)\n",
    "np.reshape(a, (6, 1)) "
   ]
  },
  {
   "cell_type": "code",
   "execution_count": 35,
   "id": "6b0adbb1",
   "metadata": {},
   "outputs": [
    {
     "data": {
      "text/plain": [
       "array([15, 21, 30, 40,  5, 60])"
      ]
     },
     "execution_count": 35,
     "metadata": {},
     "output_type": "execute_result"
    }
   ],
   "source": [
    "#Reshape just to convert to a row\n",
    "np.reshape(a, -1)"
   ]
  },
  {
   "cell_type": "code",
   "execution_count": 36,
   "id": "9e98f2d2",
   "metadata": {},
   "outputs": [
    {
     "data": {
      "text/plain": [
       "array([[15, 40],\n",
       "       [21,  5],\n",
       "       [30, 60]])"
      ]
     },
     "execution_count": 36,
     "metadata": {},
     "output_type": "execute_result"
    }
   ],
   "source": [
    "# Transpose\n",
    "np.transpose(a)"
   ]
  },
  {
   "cell_type": "markdown",
   "id": "d33c6e6b",
   "metadata": {},
   "source": [
    "# NumPy Arrays vs. Python Lists\n",
    "When working with numerical data in Python, we often have to choose between lists and NumPy arrays. While both can be used to store collections of values, they serve different purposes and come with distinct features and capabilities.\n",
    "\n"
   ]
  },
  {
   "cell_type": "markdown",
   "id": "aff5f8b1",
   "metadata": {},
   "source": [
    "# Memory Efficiency\n",
    "NumPy arrays are more memory efficient than Python lists. Arrays store data in a compact, fixed-type format, while lists hold elements as separate objects. Let's compare the memory usage of both:"
   ]
  },
  {
   "cell_type": "code",
   "execution_count": 37,
   "id": "3b1b3a20",
   "metadata": {},
   "outputs": [
    {
     "name": "stdout",
     "output_type": "stream",
     "text": [
      "Size of list: 8856 bytes\n",
      "Size of NumPy array: 8000 bytes\n"
     ]
    }
   ],
   "source": [
    "import numpy as np\n",
    "import sys\n",
    "\n",
    "lst = [i for i in range(1000)]\n",
    "print(f\"Size of list: {sys.getsizeof(lst)} bytes\")\n",
    "\n",
    "arr = np.array([i for i in range(1000)])\n",
    "print(f\"Size of NumPy array: {arr.nbytes} bytes\")"
   ]
  },
  {
   "cell_type": "markdown",
   "id": "013b8127",
   "metadata": {},
   "source": [
    "However, in specific cases using only range() without a loop (if not needed) can improve that memory efficiency for list:"
   ]
  },
  {
   "cell_type": "code",
   "execution_count": 38,
   "id": "2422376b",
   "metadata": {},
   "outputs": [
    {
     "data": {
      "text/plain": [
       "(408, 8000)"
      ]
     },
     "execution_count": 38,
     "metadata": {},
     "output_type": "execute_result"
    }
   ],
   "source": [
    "lst = range(1000)\n",
    "arr = np.arange(1000) # or np.array((range(1000))) prdouce the same result\n",
    "sys.getsizeof(list), arr.nbytes #or sys.sizeof(arr)"
   ]
  },
  {
   "cell_type": "markdown",
   "id": "0906261c",
   "metadata": {},
   "source": [
    "# Performance\n",
    "Most cases NumPy arrays provide faster computation than lists due to their fixed type and contiguous memory allocation. This feature enables efficient access and manipulation of array elements. "
   ]
  },
  {
   "cell_type": "code",
   "execution_count": 39,
   "id": "eb4b6631",
   "metadata": {},
   "outputs": [
    {
     "name": "stdout",
     "output_type": "stream",
     "text": [
      "List manipulation has taken: 9.274482727050781e-05 seconds\n"
     ]
    }
   ],
   "source": [
    "import time\n",
    "# perforemance: arithmatic operation on a list\n",
    "start_time = time.time()\n",
    "list_result = [i+1 for i in lst]\n",
    "end_time = time.time()\n",
    "print(f\"List manipulation has taken: {end_time - start_time} seconds\")\n",
    "l = end_time - start_time"
   ]
  },
  {
   "cell_type": "code",
   "execution_count": 40,
   "id": "4622ecec",
   "metadata": {},
   "outputs": [
    {
     "name": "stdout",
     "output_type": "stream",
     "text": [
      "Numpy manipulation has taken: 6.508827209472656e-05 seconds\n"
     ]
    }
   ],
   "source": [
    "# perforemance: same arithmatic operation on a numpy array\n",
    "start_time = time.time()\n",
    "arr_result = arr + 1\n",
    "end_time = time.time()\n",
    "print(f\"Numpy manipulation has taken: {end_time - start_time} seconds\")\n",
    "m = end_time - start_time"
   ]
  },
  {
   "cell_type": "code",
   "execution_count": 41,
   "id": "3f931e8f",
   "metadata": {},
   "outputs": [
    {
     "name": "stdout",
     "output_type": "stream",
     "text": [
      "47.1 µs ± 1.65 µs per loop (mean ± std. dev. of 7 runs, 10000 loops each)\n"
     ]
    }
   ],
   "source": [
    "# Or we can use %timeit to find\n",
    "%timeit list_reult = [i+1 for i in lst]"
   ]
  },
  {
   "cell_type": "code",
   "execution_count": 42,
   "id": "892c05ed",
   "metadata": {},
   "outputs": [
    {
     "name": "stdout",
     "output_type": "stream",
     "text": [
      "1.05 µs ± 12.8 ns per loop (mean ± std. dev. of 7 runs, 1000000 loops each)\n"
     ]
    }
   ],
   "source": [
    "%timeit arr_result = arr + 1 "
   ]
  },
  {
   "cell_type": "markdown",
   "id": "ec707aa9",
   "metadata": {},
   "source": [
    "# Functionality\n",
    "NumPy arrays support a wide range of mathematical and statistical operations out of the box, while lists do not."
   ]
  },
  {
   "cell_type": "code",
   "execution_count": 43,
   "id": "e0ec7f26",
   "metadata": {},
   "outputs": [],
   "source": [
    "# Element-wise addition in lists requires a loop or comprehension\n",
    "list_sum = [i + j for i, j in zip(lst, lst)]\n",
    "\n",
    "# Element-wise addition in NumPy arrays is straightforward\n",
    "array_sum = arr + arr\n",
    "\n",
    "# Mean of a list requires summing and dividing\n",
    "list_mean = sum(lst) / len(lst)\n",
    "\n",
    "# Mean of a NumPy array is a built-in function\n",
    "array_mean = np.mean(arr)"
   ]
  },
  {
   "cell_type": "markdown",
   "id": "bf463054",
   "metadata": {},
   "source": [
    "# Multidimensional Data\n",
    "While lists can store multidimensional data through nesting, NumPy arrays provide a more intuitive and efficient way to work with such data"
   ]
  },
  {
   "cell_type": "code",
   "execution_count": 44,
   "id": "bfe73537",
   "metadata": {},
   "outputs": [
    {
     "name": "stdout",
     "output_type": "stream",
     "text": [
      "6\n",
      "[[1, 2, 3], [4, 5, 10], [7, 8, 9]]\n",
      "1 2 3 \n",
      "4 5 10 \n",
      "7 8 9 \n"
     ]
    }
   ],
   "source": [
    "# Creating a 2D list (a list of lists)\n",
    "nested_list = [[1, 2, 3], [4, 5, 6], [7, 8, 9]]\n",
    "\n",
    "# Accessing an element\n",
    "print(nested_list[1][2])  # Output: 6\n",
    "\n",
    "# Modifying an element\n",
    "nested_list[1][2] = 10\n",
    "print(nested_list)  # Output: [[1, 2, 3], [4, 5, 10], [7, 8, 9]]\n",
    "\n",
    "# Iterating over rows and elements\n",
    "for row in nested_list:\n",
    "    for element in row:\n",
    "        print(element, end=' ')\n",
    "    print()"
   ]
  },
  {
   "cell_type": "code",
   "execution_count": 45,
   "id": "c4fcfa9b",
   "metadata": {},
   "outputs": [
    {
     "name": "stdout",
     "output_type": "stream",
     "text": [
      "6\n",
      "[[ 1  2  3]\n",
      " [ 4  5 10]\n",
      " [ 7  8  9]]\n",
      "1 2 3 \n",
      "4 5 10 \n",
      "7 8 9 \n"
     ]
    }
   ],
   "source": [
    "import numpy as np\n",
    "\n",
    "# Creating a 2D NumPy array\n",
    "array_2d = np.array([[1, 2, 3], [4, 5, 6], [7, 8, 9]])\n",
    "\n",
    "# Accessing an element\n",
    "print(array_2d[1, 2])  # Output: 6\n",
    "\n",
    "# Modifying an element\n",
    "array_2d[1, 2] = 10\n",
    "print(array_2d)\n",
    "# Output:\n",
    "# [[ 1  2  3]\n",
    "#  [ 4  5 10]\n",
    "#  [ 7  8  9]]\n",
    "\n",
    "# Iterating over rows and elements\n",
    "for row in array_2d:\n",
    "    for element in row:\n",
    "        print(element, end=' ')\n",
    "    print()"
   ]
  },
  {
   "cell_type": "code",
   "execution_count": 46,
   "id": "ac855218",
   "metadata": {},
   "outputs": [
    {
     "name": "stdout",
     "output_type": "stream",
     "text": [
      "[4 5 6]\n",
      "[3 6 9]\n",
      "[ 4  7 10]\n",
      "[[ 30  36  42]\n",
      " [ 66  81  96]\n",
      " [102 126 150]]\n"
     ]
    }
   ],
   "source": [
    "# NumPy arrays provide the ability to perform more advanced operations easily:\n",
    "\n",
    "array_2d = np.array([[1, 2, 3], [4, 5, 6], [7, 8, 9]])\n",
    "\n",
    "# Slicing a row or column\n",
    "print(array_2d[1, :])  # Output: [4 5 6] (second row)\n",
    "print(array_2d[:, 2])  # Output: [3 6 9] (third column)\n",
    "\n",
    "# Performing operations on entire rows or columns\n",
    "print(array_2d[:, 2] + 1)  # Output: [ 4 7 10] (add 1 to each element of the third column)\n",
    "\n",
    "# Matrix operations\n",
    "print(array_2d @ array_2d)  # Matrix multiplication\n"
   ]
  }
 ],
 "metadata": {
  "kernelspec": {
   "display_name": "Python 3 (ipykernel)",
   "language": "python",
   "name": "python3"
  },
  "language_info": {
   "codemirror_mode": {
    "name": "ipython",
    "version": 3
   },
   "file_extension": ".py",
   "mimetype": "text/x-python",
   "name": "python",
   "nbconvert_exporter": "python",
   "pygments_lexer": "ipython3",
   "version": "3.9.7"
  }
 },
 "nbformat": 4,
 "nbformat_minor": 5
}
