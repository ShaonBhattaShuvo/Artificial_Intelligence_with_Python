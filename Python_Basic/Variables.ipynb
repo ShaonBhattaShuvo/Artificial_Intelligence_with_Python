{
 "cells": [
  {
   "cell_type": "markdown",
   "id": "8655fd5d",
   "metadata": {},
   "source": [
    "# Variables, Basic I/O Operations, Data Types and Arithmatic/Logical Operations\n",
    "Variables: In Python, a variable is a storage location identified by a name or identifier. Variables are dynamically typed, which means you don't need to declare their type ahead of time."
   ]
  },
  {
   "cell_type": "code",
   "execution_count": 1,
   "id": "7d3c41ba",
   "metadata": {},
   "outputs": [],
   "source": [
    "# Variable assignments\n",
    "a = 10\n",
    "b = 5.5\n",
    "message = \"Hello, Python!\"\n",
    "\n",
    "# Variables can be re-assigned and can change type\n",
    "a = \"Now I'm a string.\""
   ]
  },
  {
   "cell_type": "markdown",
   "id": "72893c30",
   "metadata": {},
   "source": [
    "#  Input and Print\n",
    "\n",
    "The print() function is used to output data to the standard output device. It can take multiple arguments and format strings.\n",
    "\n",
    "The input() function allows the user to input data. It always returns a string, which can be converted to a different type if necessary."
   ]
  },
  {
   "cell_type": "code",
   "execution_count": 2,
   "id": "f16e0bc3",
   "metadata": {},
   "outputs": [
    {
     "name": "stdout",
     "output_type": "stream",
     "text": [
      "Hello, World!\n",
      "What is your favorite color? Green\n",
      "Your favorite color is Green\n"
     ]
    }
   ],
   "source": [
    "# Output with print()\n",
    "print(\"Hello, World!\")\n",
    "\n",
    "# Input with input()\n",
    "favorite_color = input(\"What is your favorite color? \")\n",
    "print(\"Your favorite color is\", favorite_color)"
   ]
  },
  {
   "cell_type": "markdown",
   "id": "925c9052",
   "metadata": {},
   "source": [
    "# Data type: integer (int)\n",
    "Integers (int): These are whole numbers which can be positive, negative, or zero. They are often used in Python to perform various arithmetic and logical operations."
   ]
  },
  {
   "cell_type": "code",
   "execution_count": 3,
   "id": "3ae23f32",
   "metadata": {},
   "outputs": [],
   "source": [
    "x = 10\n",
    "y = -5\n",
    "z = 0"
   ]
  },
  {
   "cell_type": "markdown",
   "id": "7c125bd1",
   "metadata": {},
   "source": [
    "# Different formats of printing"
   ]
  },
  {
   "cell_type": "code",
   "execution_count": 4,
   "id": "9b3c17ec",
   "metadata": {},
   "outputs": [
    {
     "name": "stdout",
     "output_type": "stream",
     "text": [
      "x=  10  y=  -5  z=  0\n"
     ]
    }
   ],
   "source": [
    "print(\"x= \",x,\" y= \", y, \" z= \", z) "
   ]
  },
  {
   "cell_type": "code",
   "execution_count": 5,
   "id": "d1105a7d",
   "metadata": {},
   "outputs": [
    {
     "name": "stdout",
     "output_type": "stream",
     "text": [
      "x= 10 y= -5 z= 0\n"
     ]
    }
   ],
   "source": [
    "#Using the format() method:\n",
    "print(\"x= {} y= {} z= {}\".format(x, y, z))"
   ]
  },
  {
   "cell_type": "code",
   "execution_count": 6,
   "id": "24df8886",
   "metadata": {},
   "outputs": [
    {
     "name": "stdout",
     "output_type": "stream",
     "text": [
      "x= 10 y= -5 z= 0\n"
     ]
    }
   ],
   "source": [
    "#Using f-strings (Formatted String Literals):\n",
    "print(f\"x= {x} y= {y} z= {z}\")"
   ]
  },
  {
   "cell_type": "code",
   "execution_count": 7,
   "id": "685a0d04",
   "metadata": {},
   "outputs": [
    {
     "name": "stdout",
     "output_type": "stream",
     "text": [
      "x= 10 y= -5 z= 0\n"
     ]
    }
   ],
   "source": [
    "#Using % formatting\n",
    "print(\"x= %d y= %d z= %d\" % (x, y, z))  "
   ]
  },
  {
   "cell_type": "markdown",
   "id": "099a3b91",
   "metadata": {},
   "source": [
    "# Arithmetic operations with integers\n"
   ]
  },
  {
   "cell_type": "code",
   "execution_count": 27,
   "id": "dc593291",
   "metadata": {},
   "outputs": [
    {
     "name": "stdout",
     "output_type": "stream",
     "text": [
      "Sum: 5, Remainder: 1\n"
     ]
    }
   ],
   "source": [
    "sum = x + y  # Addition\n",
    "difference = x - y  # Subtraction\n",
    "product = x * y  # Multiplication\n",
    "quotient = x // y  # Integer division ( in case of negetive, the result is rounded down to the nearest integer)\n",
    "remainder = x % 3  # Remainder \n",
    "\n",
    "print(f\"Sum: {sum}, Remainder: {remainder}\" )"
   ]
  },
  {
   "cell_type": "markdown",
   "id": "b20efcf2",
   "metadata": {},
   "source": [
    "# Exponentiation (**) \n",
    "This operator is used to raise a number to the power of another. It is more efficient and clearer than using math.pow() for exponentiation."
   ]
  },
  {
   "cell_type": "code",
   "execution_count": 28,
   "id": "710d61d3",
   "metadata": {},
   "outputs": [],
   "source": [
    "squared = 7 ** 2  # squared would be 49\n",
    "cubed = 2 ** 3  # cubed would be 8"
   ]
  },
  {
   "cell_type": "markdown",
   "id": "ed8957b1",
   "metadata": {},
   "source": [
    "# Data type: Floating-Point Numbers (float): \n",
    "These represent real numbers and can include decimal points or use an exponential (e.g., e or E) to define the number. They are crucial for any calculations requiring precision."
   ]
  },
  {
   "cell_type": "code",
   "execution_count": 29,
   "id": "4dc30b45",
   "metadata": {},
   "outputs": [
    {
     "name": "stdout",
     "output_type": "stream",
     "text": [
      "Exponential_float: 1.2e+34\n"
     ]
    }
   ],
   "source": [
    "float_number = 4.56\n",
    "exponential_float = 1.2e34  # Equivalent to 1.2 * 10^34\n",
    "\n",
    "print(f\"Exponential_float: {exponential_float}\")"
   ]
  },
  {
   "cell_type": "markdown",
   "id": "25e6ebe8",
   "metadata": {},
   "source": [
    "# Arithmetic operations with floats"
   ]
  },
  {
   "cell_type": "code",
   "execution_count": 30,
   "id": "b2c61869",
   "metadata": {},
   "outputs": [],
   "source": [
    "a = 10.5\n",
    "b = -4.2\n",
    "c = 2.5e2  # 2.5 x 10^2 = 250.0\n",
    "\n",
    "sum = a + b  # Addition\n",
    "difference = a - b  # Subtraction\n",
    "product = a * b  # Multiplication\n",
    "quotient = a / b  # Division"
   ]
  },
  {
   "cell_type": "code",
   "execution_count": 31,
   "id": "32096650",
   "metadata": {},
   "outputs": [
    {
     "name": "stdout",
     "output_type": "stream",
     "text": [
      "Sum: 6.3, Quotient: -2.5\n"
     ]
    }
   ],
   "source": [
    "print(f\"Sum: {sum}, Quotient: {quotient}\" )"
   ]
  },
  {
   "cell_type": "markdown",
   "id": "93786ae8",
   "metadata": {},
   "source": [
    "# Data type: Booleans (bool)\n",
    "The Boolean data type in Python represents one of two values: True or False. Booleans are often the result of comparison or logical operations and are integral to control flow and decision-making in code."
   ]
  },
  {
   "cell_type": "code",
   "execution_count": 32,
   "id": "3a4f42c3",
   "metadata": {},
   "outputs": [],
   "source": [
    "is_adult = True\n",
    "is_teenager = False"
   ]
  },
  {
   "cell_type": "code",
   "execution_count": 33,
   "id": "02357513",
   "metadata": {},
   "outputs": [],
   "source": [
    "# Logical operations\n",
    "and_result = is_adult and is_teenager  # Evaluates to False\n",
    "or_result = is_adult or is_teenager  # Evaluates to True\n",
    "not_result = not is_adult  # Evaluates to False\n"
   ]
  },
  {
   "cell_type": "code",
   "execution_count": 34,
   "id": "4e700b8f",
   "metadata": {},
   "outputs": [
    {
     "name": "stdout",
     "output_type": "stream",
     "text": [
      " Result(and) : False, Result(or): True, Result(not): False\n"
     ]
    }
   ],
   "source": [
    "print(f\" Result(and) : {and_result}, Result(or): {or_result}, Result(not): {not_result}\")"
   ]
  },
  {
   "cell_type": "markdown",
   "id": "223ce838",
   "metadata": {},
   "source": [
    "Besides these basic logical operations, booleans in Python are also associated with comparison operations, which include:\n",
    "\n",
    "Equal to (==)\n",
    "Not equal to (!=)\n",
    "Greater than (>)\n",
    "Less than (<)\n",
    "Greater than or equal to (>=)\n",
    "Less than or equal to (<=)\n",
    "While these operations are typically used with numerical values, they can technically apply to booleans as well, where True is treated as 1 and False as 0:"
   ]
  },
  {
   "cell_type": "code",
   "execution_count": 35,
   "id": "ae8c719b",
   "metadata": {},
   "outputs": [
    {
     "name": "stdout",
     "output_type": "stream",
     "text": [
      "True\n",
      "True\n",
      "True\n",
      "True\n",
      "True\n"
     ]
    }
   ],
   "source": [
    "print(True == 1)   # Output: True\n",
    "print(False == 0)  # Output: True\n",
    "print(True > False)  # Output: True\n",
    "print(False < True)  # Output: True\n",
    "print(True != False) # Output: True"
   ]
  },
  {
   "cell_type": "code",
   "execution_count": 36,
   "id": "7b5fa76e",
   "metadata": {},
   "outputs": [
    {
     "name": "stdout",
     "output_type": "stream",
     "text": [
      "a and b: False\n",
      "a or b: True\n",
      "not a: False\n",
      "a == b: False\n",
      "a > b: True\n"
     ]
    }
   ],
   "source": [
    "# Initializing boolean values\n",
    "a = True\n",
    "b = False\n",
    "\n",
    "# Logical AND operation\n",
    "print(\"a and b:\", a and b)  # Output: False\n",
    "\n",
    "# Logical OR operation\n",
    "print(\"a or b:\", a or b)  # Output: True\n",
    "\n",
    "# Logical NOT operation\n",
    "print(\"not a:\", not a)  # Output: False\n",
    "\n",
    "# Comparison operations (True is treated as 1, False as 0)\n",
    "print(\"a == b:\", a == b)  # Output: False\n",
    "print(\"a > b:\", a > b)  # Output: True"
   ]
  },
  {
   "cell_type": "markdown",
   "id": "8e160ca0",
   "metadata": {},
   "source": [
    "# Data type: String (str)\n",
    "A string in Python is a sequence of characters. Strings are immutable, meaning once defined, their contents cannot be changed. They can be enclosed in single, double, or triple quotes for multiline strings."
   ]
  },
  {
   "cell_type": "code",
   "execution_count": 38,
   "id": "14c0e0d2",
   "metadata": {},
   "outputs": [],
   "source": [
    "single_quoted_string = 'Hello, Data Science!'\n",
    "double_quoted_string = \"Learning Python is fun.\"\n",
    "triple_quoted_string = \"\"\"This is a\n",
    "multiline string example.\"\"\"\n"
   ]
  },
  {
   "cell_type": "code",
   "execution_count": 41,
   "id": "b772d517",
   "metadata": {},
   "outputs": [
    {
     "name": "stdout",
     "output_type": "stream",
     "text": [
      "Hello, Data Science!\n",
      "Learning Python is fun.\n",
      "This is a\n",
      "multiline string example.\n"
     ]
    }
   ],
   "source": [
    "print(single_quoted_string)\n",
    "print(double_quoted_string)\n",
    "print(triple_quoted_string)"
   ]
  },
  {
   "cell_type": "markdown",
   "id": "8ec44d92",
   "metadata": {},
   "source": [
    "# Common String Operations"
   ]
  },
  {
   "cell_type": "code",
   "execution_count": 59,
   "id": "23c31fea",
   "metadata": {},
   "outputs": [
    {
     "name": "stdout",
     "output_type": "stream",
     "text": [
      "greeting: Hello World! , first_char: H\n"
     ]
    }
   ],
   "source": [
    "str1 = 'Hello'\n",
    "str2 = \"World\"\n",
    "str3 = \"\"\"This is a\n",
    "multi-line string.\"\"\"\n",
    "\n",
    "# String concatenation\n",
    "greeting = str1 + ' ' + str2 + '!' \n",
    "\n",
    "# Accessing string characters\n",
    "first_char = greeting[0]\n",
    "\n",
    "print(f\"greeting: {greeting} , first_char: {first_char}\")"
   ]
  },
  {
   "cell_type": "markdown",
   "id": "e57dcc63",
   "metadata": {},
   "source": [
    "# Common String Methods"
   ]
  },
  {
   "cell_type": "code",
   "execution_count": 47,
   "id": "9e217c17",
   "metadata": {},
   "outputs": [
    {
     "data": {
      "text/plain": [
       "'HELLO WORLD!'"
      ]
     },
     "execution_count": 47,
     "metadata": {},
     "output_type": "execute_result"
    }
   ],
   "source": [
    "upper_case = greeting.upper()  #Converts all characters in the string to uppercase.\n",
    "upper_string"
   ]
  },
  {
   "cell_type": "code",
   "execution_count": 48,
   "id": "2224a8bf",
   "metadata": {},
   "outputs": [
    {
     "data": {
      "text/plain": [
       "'hello world!'"
      ]
     },
     "execution_count": 48,
     "metadata": {},
     "output_type": "execute_result"
    }
   ],
   "source": [
    "lower_case = greeting.lower() #Converts all characters in the string to uppercase.\n",
    "lower_case"
   ]
  },
  {
   "cell_type": "code",
   "execution_count": 50,
   "id": "c9297be0",
   "metadata": {},
   "outputs": [
    {
     "data": {
      "text/plain": [
       "'Hello world!'"
      ]
     },
     "execution_count": 50,
     "metadata": {},
     "output_type": "execute_result"
    }
   ],
   "source": [
    "capitalized = greeting.capitalize() #Converts the first character to uppercase and the rest to lowercase.\n",
    "capitalized"
   ]
  },
  {
   "cell_type": "code",
   "execution_count": 62,
   "id": "318547d8",
   "metadata": {},
   "outputs": [
    {
     "data": {
      "text/plain": [
       "'Hello Blue Planet'"
      ]
     },
     "execution_count": 62,
     "metadata": {},
     "output_type": "execute_result"
    }
   ],
   "source": [
    "#Converts the first character of each word to uppercase and the remaining characters to lowercase.\n",
    "title_case = \"Hello blue planet\".title() \n",
    "title_case"
   ]
  },
  {
   "cell_type": "code",
   "execution_count": 53,
   "id": "d95461ff",
   "metadata": {},
   "outputs": [
    {
     "data": {
      "text/plain": [
       "'Hello world'"
      ]
     },
     "execution_count": 53,
     "metadata": {},
     "output_type": "execute_result"
    }
   ],
   "source": [
    "#Removes any leading and trailing whitespaces, including tabs and newlines.\n",
    "trimmed_greet = \"   Hello world  \".strip() \n",
    "trimmed_greet"
   ]
  },
  {
   "cell_type": "code",
   "execution_count": 54,
   "id": "66b3d350",
   "metadata": {},
   "outputs": [
    {
     "data": {
      "text/plain": [
       "6"
      ]
     },
     "execution_count": 54,
     "metadata": {},
     "output_type": "execute_result"
    }
   ],
   "source": [
    "#find(substring): Returns the lowest index in the string where the substring is found. It returns -1 if the substring is not found.\n",
    "index = greeting.find(\"World\")\n",
    "index"
   ]
  },
  {
   "cell_type": "code",
   "execution_count": 55,
   "id": "0b6fd21b",
   "metadata": {},
   "outputs": [
    {
     "data": {
      "text/plain": [
       "'Hello Planet!'"
      ]
     },
     "execution_count": 55,
     "metadata": {},
     "output_type": "execute_result"
    }
   ],
   "source": [
    "#replace(old, new): Returns a copy of the string with all occurrences of the old substring replaced by the new substring.\n",
    "replaced = greeting.replace(\"World\", \"Planet\")\n",
    "replaced"
   ]
  },
  {
   "cell_type": "code",
   "execution_count": 65,
   "id": "f8d33783",
   "metadata": {},
   "outputs": [
    {
     "data": {
      "text/plain": [
       "['Hello', 'World!']"
      ]
     },
     "execution_count": 65,
     "metadata": {},
     "output_type": "execute_result"
    }
   ],
   "source": [
    "# split(separator): Splits the string at the specified separator and returns a list of substrings.\n",
    "words = greeting.split(\" \")\n",
    "words"
   ]
  },
  {
   "cell_type": "code",
   "execution_count": 68,
   "id": "712f8848",
   "metadata": {},
   "outputs": [
    {
     "data": {
      "text/plain": [
       "['Hello blue planet', ' Good moring', '']"
      ]
     },
     "execution_count": 68,
     "metadata": {},
     "output_type": "execute_result"
    }
   ],
   "source": [
    "new_words = \"Hello blue planet! Good moring!\".split(\"!\")\n",
    "new_words"
   ]
  },
  {
   "cell_type": "code",
   "execution_count": 72,
   "id": "fa22092f",
   "metadata": {},
   "outputs": [
    {
     "data": {
      "text/plain": [
       "'Hello Blue Planet'"
      ]
     },
     "execution_count": 72,
     "metadata": {},
     "output_type": "execute_result"
    }
   ],
   "source": [
    "#join(iterable): Concatenates a series of strings from an iterable (like a list or tuple), inserting the string it is called on between each.\n",
    "word_list = ['Hello', 'Blue', 'Planet']\n",
    "joined_string = \" \".join(word_list) #joined using white space in between\n",
    "joined_string"
   ]
  },
  {
   "cell_type": "code",
   "execution_count": 75,
   "id": "264a0533",
   "metadata": {},
   "outputs": [
    {
     "data": {
      "text/plain": [
       "True"
      ]
     },
     "execution_count": 75,
     "metadata": {},
     "output_type": "execute_result"
    }
   ],
   "source": [
    "#isdigit(): Returns True if all characters in the string are digits, otherwise False.\n",
    "numeric = \"123456\".isdigit()\n",
    "numeric"
   ]
  },
  {
   "cell_type": "code",
   "execution_count": 77,
   "id": "b95ff6e2",
   "metadata": {},
   "outputs": [
    {
     "data": {
      "text/plain": [
       "False"
      ]
     },
     "execution_count": 77,
     "metadata": {},
     "output_type": "execute_result"
    }
   ],
   "source": [
    "#isalpha(): Returns True if all characters in the string are alphabetic and there is at least one character, otherwise False\n",
    "alpha = \"abc3def\".isalpha()\n",
    "alpha"
   ]
  },
  {
   "cell_type": "code",
   "execution_count": 82,
   "id": "1842484d",
   "metadata": {},
   "outputs": [
    {
     "data": {
      "text/plain": [
       "-2"
      ]
     },
     "execution_count": 82,
     "metadata": {},
     "output_type": "execute_result"
    }
   ],
   "source": []
  },
  {
   "cell_type": "code",
   "execution_count": null,
   "id": "e791f75d",
   "metadata": {},
   "outputs": [],
   "source": []
  }
 ],
 "metadata": {
  "kernelspec": {
   "display_name": "Python 3 (ipykernel)",
   "language": "python",
   "name": "python3"
  },
  "language_info": {
   "codemirror_mode": {
    "name": "ipython",
    "version": 3
   },
   "file_extension": ".py",
   "mimetype": "text/x-python",
   "name": "python",
   "nbconvert_exporter": "python",
   "pygments_lexer": "ipython3",
   "version": "3.9.7"
  }
 },
 "nbformat": 4,
 "nbformat_minor": 5
}
